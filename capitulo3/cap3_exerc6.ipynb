{
 "cells": [
  {
   "cell_type": "markdown",
   "id": "40da6fda",
   "metadata": {},
   "source": [
    "# Exercício 6 (Capítulo 3) no R\n",
    "\n",
    "André Melo\n",
    "\n",
    "[![](https://colab.research.google.com/assets/colab-badge.svg)](https://colab.research.google.com/github/drewmelo/tasks-favero/blob/master/capitulo3/cap3_exerc6.ipynb)\n",
    "\n",
    "Com o objetivo de identificar o comportamento do consumidor inadimplente em relação aos seus hábitos de pagamento, foi realizada uma pesquisa com informações sobre a faixa etária do respondente e o grau de inadimplência. O objetivo é determinar se existe associação entre as variáveis. Com base no arquivo 'Inadimplência.csv', pede-se:"
   ]
  },
  {
   "cell_type": "code",
   "execution_count": 1,
   "id": "a3678584",
   "metadata": {},
   "outputs": [
    {
     "name": "stdout",
     "output_type": "stream",
     "text": [
      "── \u001b[1mAttaching core tidyverse packages\u001b[22m ────────────── tidyverse 2.0.0 ──\n",
      "\u001b[32m✔\u001b[39m \u001b[34mdplyr    \u001b[39m 1.1.4     \u001b[32m✔\u001b[39m \u001b[34mreadr    \u001b[39m 2.1.5\n",
      "\u001b[32m✔\u001b[39m \u001b[34mforcats  \u001b[39m 1.0.0     \u001b[32m✔\u001b[39m \u001b[34mstringr  \u001b[39m 1.5.1\n",
      "\u001b[32m✔\u001b[39m \u001b[34mggplot2  \u001b[39m 3.5.2     \u001b[32m✔\u001b[39m \u001b[34mtibble   \u001b[39m 3.2.1\n",
      "\u001b[32m✔\u001b[39m \u001b[34mlubridate\u001b[39m 1.9.3     \u001b[32m✔\u001b[39m \u001b[34mtidyr    \u001b[39m 1.3.1\n",
      "\u001b[32m✔\u001b[39m \u001b[34mpurrr    \u001b[39m 1.0.4     \n",
      "── \u001b[1mConflicts\u001b[22m ──────────────────────────────── tidyverse_conflicts() ──\n",
      "\u001b[31m✖\u001b[39m \u001b[34mdplyr\u001b[39m::\u001b[32mfilter()\u001b[39m masks \u001b[34mstats\u001b[39m::filter()\n",
      "\u001b[31m✖\u001b[39m \u001b[34mdplyr\u001b[39m::\u001b[32mlag()\u001b[39m    masks \u001b[34mstats\u001b[39m::lag()\n",
      "\u001b[36mℹ\u001b[39m Use the \u001b]8;;http://conflicted.r-lib.org/\u0007conflicted package\u001b]8;;\u0007 to force all conflicts to become errors\n"
     ]
    },
    {
     "name": "stderr",
     "output_type": "stream",
     "text": [
      "Warning messages:\n",
      "1: package ‘tidyr’ was built under R version 4.3.3 \n",
      "2: package ‘purrr’ was built under R version 4.3.3 \n",
      "Warning message:\n",
      "package ‘DescTools’ was built under R version 4.3.3 \n"
     ]
    }
   ],
   "source": [
    "# Importação dos pacotes necessários\n",
    "library(tidyverse) # Conjunto de pacotes para manipulação e visualização de dados\n",
    "library(DescTools) # Conjunto de ferramentas estatísticas"
   ]
  },
  {
   "cell_type": "code",
   "execution_count": 2,
   "id": "afe32fb4",
   "metadata": {},
   "outputs": [
    {
     "data": {
      "text/plain": [
       "\u001b[38;5;246m# A tibble: 200 × 2\u001b[39m\n",
       "   faixa_etaria inadimplencia           \n",
       "   \u001b[3m\u001b[38;5;246m<chr>\u001b[39m\u001b[23m        \u001b[3m\u001b[38;5;246m<chr>\u001b[39m\u001b[23m                   \n",
       "\u001b[38;5;250m 1\u001b[39m ate 20       nao tem dividas         \n",
       "\u001b[38;5;250m 2\u001b[39m ate 20       pouco endividado        \n",
       "\u001b[38;5;250m 3\u001b[39m ate 20       nao tem dividas         \n",
       "\u001b[38;5;250m 4\u001b[39m ate 20       nao tem dividas         \n",
       "\u001b[38;5;250m 5\u001b[39m ate 20       nao tem dividas         \n",
       "\u001b[38;5;250m 6\u001b[39m ate 20       pouco endividado        \n",
       "\u001b[38;5;250m 7\u001b[39m ate 20       nao tem dividas         \n",
       "\u001b[38;5;250m 8\u001b[39m ate 20       nao tem dividas         \n",
       "\u001b[38;5;250m 9\u001b[39m 21 a 30      mais ou menos endividado\n",
       "\u001b[38;5;250m10\u001b[39m 21 a 30      mais ou menos endividado\n",
       "\u001b[38;5;246m# ℹ 190 more rows\u001b[39m\n",
       "\u001b[38;5;246m# ℹ Use `print(n = ...)` to see more rows\u001b[39m"
      ]
     },
     "execution_count": null,
     "metadata": {},
     "output_type": "execute_result"
    }
   ],
   "source": [
    "url <- \"https://raw.githubusercontent.com/caio-azevedo/estatistica_aplicada/refs/heads/main/Semana%201/Inadimpl%C3%AAncia.csv\"\n",
    "df <- read_csv(url, show_col_types = F)\n",
    "\n",
    "# Visualização da base de dados 'Inadimplência'\n",
    "df"
   ]
  },
  {
   "cell_type": "markdown",
   "id": "a8364caa",
   "metadata": {},
   "source": [
    "a) Construa as tabelas de distribuição conjunta de frequências para as variáveis 'faixa_etaria' e 'inadimplencia' (frequências absolutas, frequências relativas em relação ao total geral, frequências relativas em relação ao total de cada linha, frequências relativas em relação ao total de cada coluna e frequências esperadas)."
   ]
  },
  {
   "cell_type": "code",
   "execution_count": 3,
   "id": "5193f30c",
   "metadata": {},
   "outputs": [
    {
     "data": {
      "text/plain": [
       "             inadimplencia\n",
       "faixa_etaria  mais ou menos endividado muito endividado\n",
       "  21 a 30                           13                9\n",
       "  31 a 40                            5               49\n",
       "  41 a 50                           24               16\n",
       "  51 a 60                           15                0\n",
       "  acima de 60                        0                0\n",
       "  ate 20                             0                0\n",
       "  Total                             57               74\n",
       "             inadimplencia\n",
       "faixa_etaria  nao tem dividas pouco endividado Total\n",
       "  21 a 30                   0                6    28\n",
       "  31 a 40                   0                0    54\n",
       "  41 a 50                   0                0    40\n",
       "  51 a 60                   5               27    47\n",
       "  acima de 60              16                7    23\n",
       "  ate 20                    6                2     8\n",
       "  Total                    27               42   200"
      ]
     },
     "execution_count": null,
     "metadata": {},
     "output_type": "execute_result"
    }
   ],
   "source": [
    "tab_abs <- with(df, table(faixa_etaria, inadimplencia)) |> addmargins()\n",
    "\n",
    "# Renomear 'Sum' (padrão) para 'Total'\n",
    "rownames(tab_abs)[nrow(tab_abs)] <- \"Total\"\n",
    "colnames(tab_abs)[ncol(tab_abs)] <- \"Total\"\n",
    "\n",
    "tab_abs"
   ]
  },
  {
   "cell_type": "code",
   "execution_count": 5,
   "id": "2cb37cae",
   "metadata": {},
   "outputs": [
    {
     "data": {
      "text/plain": [
       "             inadimplencia\n",
       "faixa_etaria  mais ou menos endividado muito endividado\n",
       "  21 a 30                        0.065            0.045\n",
       "  31 a 40                        0.025            0.245\n",
       "  41 a 50                        0.120            0.080\n",
       "  51 a 60                        0.075            0.000\n",
       "  acima de 60                    0.000            0.000\n",
       "  ate 20                         0.000            0.000\n",
       "  Total                          0.285            0.370\n",
       "             inadimplencia\n",
       "faixa_etaria  nao tem dividas pouco endividado Total\n",
       "  21 a 30               0.000            0.030 0.140\n",
       "  31 a 40               0.000            0.000 0.270\n",
       "  41 a 50               0.000            0.000 0.200\n",
       "  51 a 60               0.025            0.135 0.235\n",
       "  acima de 60           0.080            0.035 0.115\n",
       "  ate 20                0.030            0.010 0.040\n",
       "  Total                 0.135            0.210 1.000"
      ]
     },
     "execution_count": null,
     "metadata": {},
     "output_type": "execute_result"
    }
   ],
   "source": [
    "tab_prop_all <- addmargins(prop.table(tab_abs[1:6, 1:4]))\n",
    "\n",
    "# Renomear 'Sum' (padrão) para 'Total'\n",
    "rownames(tab_prop_all)[nrow(tab_prop_all)] <- \"Total\"\n",
    "colnames(tab_prop_all)[ncol(tab_prop_all)] <- \"Total\"\n",
    "\n",
    "tab_prop_all"
   ]
  },
  {
   "cell_type": "code",
   "execution_count": 6,
   "id": "c604aaef",
   "metadata": {},
   "outputs": [
    {
     "data": {
      "text/plain": [
       "            mais ou menos endividado muito endividado nao tem dividas\n",
       "21 a 30                        0.464            0.321           0.000\n",
       "31 a 40                        0.093            0.907           0.000\n",
       "41 a 50                        0.600            0.400           0.000\n",
       "51 a 60                        0.319            0.000           0.106\n",
       "acima de 60                    0.000            0.000           0.696\n",
       "ate 20                         0.000            0.000           0.750\n",
       "Total                          0.285            0.370           0.135\n",
       "            pouco endividado\n",
       "21 a 30                0.214\n",
       "31 a 40                0.000\n",
       "41 a 50                0.000\n",
       "51 a 60                0.574\n",
       "acima de 60            0.304\n",
       "ate 20                 0.250\n",
       "Total                  0.210"
      ]
     },
     "execution_count": null,
     "metadata": {},
     "output_type": "execute_result"
    }
   ],
   "source": [
    "# Linha \"Total\" = proporção global por coluna\n",
    "Total <- colSums(tab_abs[1:6, 1:4]) / sum(tab_abs[1:6, 1:4])\n",
    "\n",
    "# Proporção por linha e junção com objeto Total\n",
    "tab_prop_row <- prop.table(tab_abs[1:6, 1:4], margin = 1) |> rbind(Total) |> round(3)\n",
    "\n",
    "tab_prop_row"
   ]
  },
  {
   "cell_type": "code",
   "execution_count": 7,
   "id": "c0167779",
   "metadata": {},
   "outputs": [
    {
     "data": {
      "text/plain": [
       "            mais ou menos endividado muito endividado nao tem dividas\n",
       "21 a 30                        0.228            0.122           0.000\n",
       "31 a 40                        0.088            0.662           0.000\n",
       "41 a 50                        0.421            0.216           0.000\n",
       "51 a 60                        0.263            0.000           0.185\n",
       "acima de 60                    0.000            0.000           0.593\n",
       "ate 20                         0.000            0.000           0.222\n",
       "            pouco endividado Total\n",
       "21 a 30                0.143 0.140\n",
       "31 a 40                0.000 0.270\n",
       "41 a 50                0.000 0.200\n",
       "51 a 60                0.643 0.235\n",
       "acima de 60            0.167 0.115\n",
       "ate 20                 0.048 0.040"
      ]
     },
     "execution_count": null,
     "metadata": {},
     "output_type": "execute_result"
    }
   ],
   "source": [
    "# Coluna \"Total\" = proporção global por linha\n",
    "Total <- rowSums(tab_abs[1:6, 1:4]) / sum(tab_abs[1:6, 1:4])\n",
    "\n",
    "# Proporção por coluna e junção com objeto Total\n",
    "tab_prop_col <- prop.table(tab_abs[1:6, 1:4], margin = 2) |> cbind(Total) |> round(3)\n",
    "\n",
    "tab_prop_col"
   ]
  },
  {
   "cell_type": "code",
   "execution_count": 22,
   "id": "178808e9",
   "metadata": {},
   "outputs": [
    {
     "name": "stderr",
     "output_type": "stream",
     "text": [
      "Warning message:\n",
      "In chisq.test(tab_abs[1:6, 1:4]) :\n",
      "  Chi-squared approximation may be incorrect\n"
     ]
    },
    {
     "data": {
      "text/plain": [
       "             inadimplencia\n",
       "faixa_etaria  mais ou menos endividado muito endividado\n",
       "  21 a 30                        7.980            10.36\n",
       "  31 a 40                       15.390            19.98\n",
       "  41 a 50                       11.400            14.80\n",
       "  51 a 60                       13.395            17.39\n",
       "  acima de 60                    6.555             8.51\n",
       "  ate 20                         2.280             2.96\n",
       "  Total                         57.000            74.00\n",
       "             inadimplencia\n",
       "faixa_etaria  nao tem dividas pouco endividado Total\n",
       "  21 a 30               3.780             5.88    28\n",
       "  31 a 40               7.290            11.34    54\n",
       "  41 a 50               5.400             8.40    40\n",
       "  51 a 60               6.345             9.87    47\n",
       "  acima de 60           3.105             4.83    23\n",
       "  ate 20                1.080             1.68     8\n",
       "  Total                27.000            42.00   200"
      ]
     },
     "execution_count": null,
     "metadata": {},
     "output_type": "execute_result"
    }
   ],
   "source": [
    "# Teste qui-quadrado e esperados\n",
    "chi <- chisq.test(tab_abs[1:6, 1:4])\n",
    "\n",
    "# Tabela do Valores esperados\n",
    "tab_esp <- chi$expected |> addmargins()\n",
    "\n",
    "rownames(tab_esp)[nrow(tab_esp)] <- \"Total\"\n",
    "colnames(tab_esp)[ncol(tab_esp)] <- \"Total\"\n",
    "\n",
    "tab_esp"
   ]
  },
  {
   "cell_type": "markdown",
   "id": "ad61512e",
   "metadata": {},
   "source": [
    "b) Determine a porcentagem de indivíduos na faixa etária entre 31 e 40 anos"
   ]
  },
  {
   "cell_type": "code",
   "execution_count": 42,
   "id": "3b514887",
   "metadata": {},
   "outputs": [
    {
     "name": "stdout",
     "output_type": "stream",
     "text": [
      "A porcentagem de indivíduos na faixa etária entre 31 e 40 anos é de 27 %"
     ]
    }
   ],
   "source": [
    "cat(\"A porcentagem de indivíduos na faixa etária entre 31 e 40 anos é de\",\n",
    "    tab_prop_all[\"31 a 40\", \"Total\"] * 100, \"%\")"
   ]
  },
  {
   "cell_type": "markdown",
   "id": "33e86e04",
   "metadata": {},
   "source": [
    "c) Determine a porcentagem de indivíduos muito endividados"
   ]
  },
  {
   "cell_type": "code",
   "execution_count": 41,
   "id": "a245157d",
   "metadata": {},
   "outputs": [
    {
     "name": "stdout",
     "output_type": "stream",
     "text": [
      "A porcentagem de indivíduos muito endividados é de 37 %"
     ]
    }
   ],
   "source": [
    "cat(\"A porcentagem de indivíduos muito endividados é de\",\n",
    "    tab_prop_all[\"Total\", \"muito endividado\"] * 100, \"%\")"
   ]
  },
  {
   "cell_type": "markdown",
   "id": "8e74a4d1",
   "metadata": {},
   "source": [
    "d) Determine a porcentagem daqueles que são da faixa etária de até 20 anos e que não têm dívidas"
   ]
  },
  {
   "cell_type": "code",
   "execution_count": 40,
   "id": "e40bee4a",
   "metadata": {},
   "outputs": [
    {
     "name": "stdout",
     "output_type": "stream",
     "text": [
      "A porcentagem daqueles que são da faixa etária de até 20 anos e que não têm dívidas é de 3 %"
     ]
    }
   ],
   "source": [
    "cat(\"A porcentagem daqueles que são da faixa etária de até 20 anos e que não têm dívidas é de\",\n",
    "    tab_prop_all[\"ate 20\", \"nao tem dividas\"] * 100, \"%\")"
   ]
  },
  {
   "cell_type": "markdown",
   "id": "8b13502f",
   "metadata": {},
   "source": [
    "e) Determine, dentre os indivíduos da faixa etária acima de 60 anos, a porcentagem daqueles que são pouco endividados"
   ]
  },
  {
   "cell_type": "code",
   "execution_count": 39,
   "id": "dc24090e",
   "metadata": {},
   "outputs": [
    {
     "name": "stdout",
     "output_type": "stream",
     "text": [
      "Dentre os indivíduos da faixa etária acima de 60 anos, a porcentagem daqueles que são pouco endividados é de 30.4 %"
     ]
    }
   ],
   "source": [
    "cat(\"Dentre os indivíduos da faixa etária acima de 60 anos, a porcentagem daqueles que são pouco endividados é de\",\n",
    "    tab_prop_row[\"acima de 60\", \"pouco endividado\"] * 100, \"%\")"
   ]
  },
  {
   "cell_type": "markdown",
   "id": "11bff8d8",
   "metadata": {},
   "source": [
    "f) Determine, dentre os indivíduos da faixa etária de 41 a 50 anos, a porcentagem daqueles que são mais ou menos endividados"
   ]
  },
  {
   "cell_type": "code",
   "execution_count": 38,
   "id": "0d54d64a",
   "metadata": {},
   "outputs": [
    {
     "name": "stdout",
     "output_type": "stream",
     "text": [
      "Dentre os indivíduos da faixa etária de 41 a 50 anos, a porcentagem daqueles que são mais ou menos endividados é de 42.1 %"
     ]
    }
   ],
   "source": [
    "cat(\"Dentre os indivíduos da faixa etária de 41 a 50 anos, a porcentagem daqueles que são mais ou menos endividados é de\",\n",
    "    tab_prop_col[\"41 a 50\", \"mais ou menos endividado\"] * 100, \"%\")"
   ]
  },
  {
   "cell_type": "markdown",
   "id": "62831f78",
   "metadata": {},
   "source": [
    "g) Verifique se há indícios de dependência entre as variáveis"
   ]
  },
  {
   "cell_type": "code",
   "execution_count": 28,
   "id": "dbd8ec67",
   "metadata": {},
   "outputs": [
    {
     "data": {
      "text/plain": [
       "            mais ou menos endividado muito endividado nao tem dividas\n",
       "21 a 30                        0.464            0.321           0.000\n",
       "31 a 40                        0.093            0.907           0.000\n",
       "41 a 50                        0.600            0.400           0.000\n",
       "51 a 60                        0.319            0.000           0.106\n",
       "acima de 60                    0.000            0.000           0.696\n",
       "ate 20                         0.000            0.000           0.750\n",
       "Total                          0.285            0.370           0.135\n",
       "            pouco endividado\n",
       "21 a 30                0.214\n",
       "31 a 40                0.000\n",
       "41 a 50                0.000\n",
       "51 a 60                0.574\n",
       "acima de 60            0.304\n",
       "ate 20                 0.250\n",
       "Total                  0.210"
      ]
     },
     "execution_count": null,
     "metadata": {},
     "output_type": "execute_result"
    }
   ],
   "source": [
    "tab_prop_row"
   ]
  },
  {
   "cell_type": "markdown",
   "id": "5fd3b443",
   "metadata": {},
   "source": [
    "h) Confirme o item anterior usando a estatística $\\chi^2$"
   ]
  },
  {
   "cell_type": "code",
   "execution_count": 30,
   "id": "e1b4f039",
   "metadata": {},
   "outputs": [
    {
     "data": {
      "text/plain": [
       "[1] 247.6416"
      ]
     },
     "execution_count": null,
     "metadata": {},
     "output_type": "execute_result"
    }
   ],
   "source": [
    "chi2 <- as.numeric(chi$statistic)\n",
    "\n",
    "chi2"
   ]
  },
  {
   "cell_type": "markdown",
   "id": "c6b84c8b",
   "metadata": {},
   "source": [
    "i) Calcule os coeficientes Phi, de contingência e V de Cramer, confirmando se há ou não associação entre as variáveis."
   ]
  },
  {
   "cell_type": "markdown",
   "id": "9438eda6",
   "metadata": {},
   "source": [
    "$Phi = \\sqrt{\\frac{\\chi^2}{n}}$"
   ]
  },
  {
   "cell_type": "code",
   "execution_count": 31,
   "id": "aff76ca4",
   "metadata": {},
   "outputs": [
    {
     "data": {
      "text/plain": [
       "[1] 1.112748"
      ]
     },
     "execution_count": null,
     "metadata": {},
     "output_type": "execute_result"
    }
   ],
   "source": [
    "Phi(tab_abs[1:6,1:4])"
   ]
  },
  {
   "cell_type": "code",
   "execution_count": 32,
   "id": "03c64b9f",
   "metadata": {},
   "outputs": [
    {
     "data": {
      "text/plain": [
       "[1] 1.112748"
      ]
     },
     "execution_count": null,
     "metadata": {},
     "output_type": "execute_result"
    }
   ],
   "source": [
    "n <- nrow(df)\n",
    "\n",
    "# Coeficiente Phi\n",
    "sqrt(chi2 / n)"
   ]
  },
  {
   "cell_type": "code",
   "execution_count": 33,
   "id": "b1f7fb9c",
   "metadata": {},
   "outputs": [
    {
     "data": {
      "text/plain": [
       "[1] 0.7437836"
      ]
     },
     "execution_count": null,
     "metadata": {},
     "output_type": "execute_result"
    }
   ],
   "source": [
    "# Coeficiente de contingência\n",
    "ContCoef(tab_abs[1:6,1:4])"
   ]
  },
  {
   "cell_type": "markdown",
   "id": "c518001a",
   "metadata": {},
   "source": [
    "$C = \\sqrt{\\frac{\\chi^2}{\\chi^2 + n}}$"
   ]
  },
  {
   "cell_type": "code",
   "execution_count": 43,
   "id": "c957e725",
   "metadata": {},
   "outputs": [
    {
     "data": {
      "text/plain": [
       "[1] 0.7437836"
      ]
     },
     "execution_count": null,
     "metadata": {},
     "output_type": "execute_result"
    }
   ],
   "source": [
    "sqrt(chi2 / (n + chi2)) "
   ]
  },
  {
   "cell_type": "code",
   "execution_count": 35,
   "id": "dee917c0",
   "metadata": {},
   "outputs": [
    {
     "data": {
      "text/plain": [
       "[1] 0.6424454"
      ]
     },
     "execution_count": null,
     "metadata": {},
     "output_type": "execute_result"
    }
   ],
   "source": [
    "# Coeficiente V de Cramer\n",
    "CramerV(tab_abs[1:6,1:4])"
   ]
  },
  {
   "cell_type": "markdown",
   "id": "ef2bdde9",
   "metadata": {},
   "source": [
    "$V = \\sqrt{\\frac{\\chi^2}{n(q-1)}}$"
   ]
  },
  {
   "cell_type": "code",
   "execution_count": 37,
   "id": "f3053246",
   "metadata": {},
   "outputs": [
    {
     "data": {
      "text/plain": [
       "[1] 0.6424454"
      ]
     },
     "execution_count": null,
     "metadata": {},
     "output_type": "execute_result"
    }
   ],
   "source": [
    "# (q-1)\n",
    "k <- min(nrow(tab_abs[1:6,1:4]), ncol(tab_abs[1:6,1:4])) - 1\n",
    "\n",
    "sqrt(chi2 / (n * k)) "
   ]
  }
 ],
 "metadata": {
  "language_info": {
   "name": "r"
  }
 },
 "nbformat": 4,
 "nbformat_minor": 5
}
