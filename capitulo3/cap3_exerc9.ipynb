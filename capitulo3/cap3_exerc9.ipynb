{
  "cells": [
    {
      "cell_type": "markdown",
      "id": "7121764a-3e7c-4c8c-ab46-df014ebd061d",
      "metadata": {},
      "source": [
        "# Exercício 9 (Capítulo 3) no R\n",
        "\n",
        "André Melo\n",
        "\n",
        "[![](https://colab.research.google.com/assets/colab-badge.svg)](https://colab.research.google.com/github/drewmelo/tasks-favero/blob/master/capitulo3/cap3_exerc9.ipynb)\n",
        "\n",
        "O arquivo ‘Supermercados_Brasileiros.csv’ apresenta dados de faturamento\n",
        "e número de lojas dos 20 maiores supermercadistas brasileiros em\n",
        "determinado ano (fonte: ABRAS - Associação Brasileira de Supermercados).\n",
        "Pede-se:"
      ]
    },
    {
      "cell_type": "code",
      "execution_count": 1,
      "id": "af10a889-ec42-458b-9edc-f3ac926b1656",
      "metadata": {},
      "outputs": [
        {
          "name": "stdout",
          "output_type": "stream",
          "text": [
            "── \u001b[1mAttaching core tidyverse packages\u001b[22m ────────────────────────────────────────────────────── tidyverse 2.0.0 ──\n",
            "\u001b[32m✔\u001b[39m \u001b[34mdplyr    \u001b[39m 1.1.4     \u001b[32m✔\u001b[39m \u001b[34mreadr    \u001b[39m 2.1.5\n",
            "\u001b[32m✔\u001b[39m \u001b[34mforcats  \u001b[39m 1.0.0     \u001b[32m✔\u001b[39m \u001b[34mstringr  \u001b[39m 1.5.1\n",
            "\u001b[32m✔\u001b[39m \u001b[34mggplot2  \u001b[39m 3.5.2     \u001b[32m✔\u001b[39m \u001b[34mtibble   \u001b[39m 3.2.1\n",
            "\u001b[32m✔\u001b[39m \u001b[34mlubridate\u001b[39m 1.9.3     \u001b[32m✔\u001b[39m \u001b[34mtidyr    \u001b[39m 1.3.1\n",
            "\u001b[32m✔\u001b[39m \u001b[34mpurrr    \u001b[39m 1.0.4     \n",
            "── \u001b[1mConflicts\u001b[22m ──────────────────────────────────────────────────────────────────────── tidyverse_conflicts() ──\n",
            "\u001b[31m✖\u001b[39m \u001b[34mdplyr\u001b[39m::\u001b[32mfilter()\u001b[39m masks \u001b[34mstats\u001b[39m::filter()\n",
            "\u001b[31m✖\u001b[39m \u001b[34mdplyr\u001b[39m::\u001b[32mlag()\u001b[39m    masks \u001b[34mstats\u001b[39m::lag()\n",
            "\u001b[36mℹ\u001b[39m Use the \u001b]8;;http://conflicted.r-lib.org/\u0007conflicted package\u001b]8;;\u0007 to force all conflicts to become errors\n"
          ]
        },
        {
          "name": "stderr",
          "output_type": "stream",
          "text": [
            "Warning messages:\n",
            "1: package ‘tidyr’ was built under R version 4.3.3 \n",
            "2: package ‘purrr’ was built under R version 4.3.3 \n"
          ]
        }
      ],
      "source": [
        "# Importação dos pacotes necessários\n",
        "library(tidyverse)"
      ]
    },
    {
      "cell_type": "code",
      "execution_count": 2,
      "id": "889b15c2-e66f-492f-9f25-22b323a053e7",
      "metadata": {},
      "outputs": [
        {
          "data": {
            "text/plain": [
              "\u001b[38;5;246m# A tibble: 20 × 3\u001b[39m\n",
              "   empresa                                     faturamento lojas\n",
              "   \u001b[3m\u001b[38;5;246m<chr>\u001b[39m\u001b[23m                                             \u001b[3m\u001b[38;5;246m<dbl>\u001b[39m\u001b[23m \u001b[3m\u001b[38;5;246m<dbl>\u001b[39m\u001b[23m\n",
              "\u001b[38;5;250m 1\u001b[39m Companhia Brasileira de Distribuição             \u001b[4m7\u001b[24m\u001b[4m2\u001b[24m319.  \u001b[4m2\u001b[24m143\n",
              "\u001b[38;5;250m 2\u001b[39m Carrefour Com Ind Ltda                           \u001b[4m3\u001b[24m\u001b[4m7\u001b[24m928.   258\n",
              "\u001b[38;5;250m 3\u001b[39m Wal-Mart Brasil Ltda                             \u001b[4m2\u001b[24m\u001b[4m9\u001b[24m647.   544\n",
              "\u001b[38;5;250m 4\u001b[39m Cencosud Brasil Com Ltda                          \u001b[4m9\u001b[24m795.   220\n",
              "\u001b[38;5;250m 5\u001b[39m Cia Zaffari Comércio e Indústria                  \u001b[4m4\u001b[24m215     30\n",
              "\u001b[38;5;250m 6\u001b[39m Irmãos Muffato & Cia Ltda                         \u001b[4m3\u001b[24m705.    41\n",
              "\u001b[38;5;250m 7\u001b[39m Condor Super Center Ltda                          \u001b[4m3\u001b[24m637.    39\n",
              "\u001b[38;5;250m 8\u001b[39m Supermercados BH Comércio de Alimentos Ltda       \u001b[4m3\u001b[24m408.   135\n",
              "\u001b[38;5;250m 9\u001b[39m Sonda Supermercados Exp e Imp S.A.                \u001b[4m2\u001b[24m905.    36\n",
              "\u001b[38;5;250m10\u001b[39m SDB Comércio de Alimentos Ltda                    \u001b[4m2\u001b[24m904.    51\n",
              "\u001b[38;5;250m11\u001b[39m A Angeloni Cia Ltda                               \u001b[4m2\u001b[24m370.    27\n",
              "\u001b[38;5;250m12\u001b[39m DMA Distribuidora S/A                             \u001b[4m2\u001b[24m317.    97\n",
              "\u001b[38;5;250m13\u001b[39m Coop - Cooperativa de Consumo                     \u001b[4m2\u001b[24m017.    28\n",
              "\u001b[38;5;250m14\u001b[39m Y.Yamada S/A - Comércio e Indústria               \u001b[4m1\u001b[24m958.    36\n",
              "\u001b[38;5;250m15\u001b[39m Savegnago - Supermercados Ltda                    \u001b[4m1\u001b[24m912.    36\n",
              "\u001b[38;5;250m16\u001b[39m Lider Comercio e Indústria Ltda                   \u001b[4m1\u001b[24m822.    15\n",
              "\u001b[38;5;250m17\u001b[39m Multi Formato Distribuidora S/A                   \u001b[4m1\u001b[24m751.    27\n",
              "\u001b[38;5;250m18\u001b[39m Comercial Zaragoza Imp Exp Ltda                   \u001b[4m1\u001b[24m692.    14\n",
              "\u001b[38;5;250m19\u001b[39m AM/PM Comestíveis Ltda                            \u001b[4m1\u001b[24m573.  \u001b[4m1\u001b[24m700\n",
              "\u001b[38;5;250m20\u001b[39m Companhia Sulamericana de Distribuição            \u001b[4m1\u001b[24m559.    45"
            ]
          },
          "execution_count": null,
          "metadata": {},
          "output_type": "execute_result"
        }
      ],
      "source": [
        "url <- \"https://raw.githubusercontent.com/caio-azevedo/estatistica_aplicada/refs/heads/main/Semana%201/Supermercados_Brasileiros.csv\"\n",
        "df <- read_csv(url, show_col_types = F)\n",
        "\n",
        "# Visualização da base de dados 'Avaliação Alunos'\n",
        "df"
      ]
    },
    {
      "cell_type": "markdown",
      "id": "0f22c71f-818f-4017-a63c-1311fca00cf6",
      "metadata": {},
      "source": [
        "a- Elabore o diagrama de dispersão para as variáveis faturamento e\n",
        "número de lojas."
      ]
    },
    {
      "cell_type": "code",
      "execution_count": 3,
      "id": "0ffa0f8b-de1c-45f0-8dc9-5cd6bb3a93b5",
      "metadata": {},
      "outputs": [
        {
          "data": {
            "image/png": "[encoded data removed]"
          },
          "metadata": {},
          "output_type": "display_data"
        }
      ],
      "source": [
        "# Diagrama de dispersão\n",
        "ggplot(data = df, aes(x = lojas, y = faturamento)) +\n",
        "    geom_point() +\n",
        "  labs(x = \"Número de lojas\",\n",
        "       y = \"Faturamento\") +\n",
        "  theme_minimal(base_size = 16)"
      ]
    },
    {
      "cell_type": "markdown",
      "id": "38922e11-90a7-4e23-a10e-caafc9166761",
      "metadata": {},
      "source": [
        "b- Calcule o coeficiente de correlação de Pearson entre as duas\n",
        "variáveis."
      ]
    },
    {
      "cell_type": "code",
      "execution_count": 4,
      "id": "86474943-cf3f-410a-a3b4-365c7822053d",
      "metadata": {},
      "outputs": [
        {
          "data": {
            "text/plain": [
              "[1] 0.6917023"
            ]
          },
          "execution_count": null,
          "metadata": {},
          "output_type": "execute_result"
        }
      ],
      "source": [
        "cor(df$lojas, df$faturamento)"
      ]
    },
    {
      "cell_type": "markdown",
      "id": "6abb2a93-a9d7-4264-9bcc-9d549c95771d",
      "metadata": {},
      "source": [
        "c- Exclua os quatro maiores grupos supermercadistas em faturamento,\n",
        "assim como o grupo AM/PM Comestíveis Ltda., e elabore novamente o\n",
        "diagrama de dispersão."
      ]
    },
    {
      "cell_type": "code",
      "execution_count": 5,
      "id": "589a6871-dde9-43a3-abe5-5bf9bad43bb0",
      "metadata": {},
      "outputs": [
        {
          "data": {
            "text/plain": [
              "\u001b[38;5;246m# A tibble: 15 × 3\u001b[39m\n",
              "   empresa                                     faturamento lojas\n",
              "   \u001b[3m\u001b[38;5;246m<chr>\u001b[39m\u001b[23m                                             \u001b[3m\u001b[38;5;246m<dbl>\u001b[39m\u001b[23m \u001b[3m\u001b[38;5;246m<dbl>\u001b[39m\u001b[23m\n",
              "\u001b[38;5;250m 1\u001b[39m Cia Zaffari Comércio e Indústria                  \u001b[4m4\u001b[24m215     30\n",
              "\u001b[38;5;250m 2\u001b[39m Irmãos Muffato & Cia Ltda                         \u001b[4m3\u001b[24m705.    41\n",
              "\u001b[38;5;250m 3\u001b[39m Condor Super Center Ltda                          \u001b[4m3\u001b[24m637.    39\n",
              "\u001b[38;5;250m 4\u001b[39m Supermercados BH Comércio de Alimentos Ltda       \u001b[4m3\u001b[24m408.   135\n",
              "\u001b[38;5;250m 5\u001b[39m Sonda Supermercados Exp e Imp S.A.                \u001b[4m2\u001b[24m905.    36\n",
              "\u001b[38;5;250m 6\u001b[39m SDB Comércio de Alimentos Ltda                    \u001b[4m2\u001b[24m904.    51\n",
              "\u001b[38;5;250m 7\u001b[39m A Angeloni Cia Ltda                               \u001b[4m2\u001b[24m370.    27\n",
              "\u001b[38;5;250m 8\u001b[39m DMA Distribuidora S/A                             \u001b[4m2\u001b[24m317.    97\n",
              "\u001b[38;5;250m 9\u001b[39m Coop - Cooperativa de Consumo                     \u001b[4m2\u001b[24m017.    28\n",
              "\u001b[38;5;250m10\u001b[39m Y.Yamada S/A - Comércio e Indústria               \u001b[4m1\u001b[24m958.    36\n",
              "\u001b[38;5;250m11\u001b[39m Savegnago - Supermercados Ltda                    \u001b[4m1\u001b[24m912.    36\n",
              "\u001b[38;5;250m12\u001b[39m Lider Comercio e Indústria Ltda                   \u001b[4m1\u001b[24m822.    15\n",
              "\u001b[38;5;250m13\u001b[39m Multi Formato Distribuidora S/A                   \u001b[4m1\u001b[24m751.    27\n",
              "\u001b[38;5;250m14\u001b[39m Comercial Zaragoza Imp Exp Ltda                   \u001b[4m1\u001b[24m692.    14\n",
              "\u001b[38;5;250m15\u001b[39m Companhia Sulamericana de Distribuição            \u001b[4m1\u001b[24m559.    45"
            ]
          },
          "execution_count": null,
          "metadata": {},
          "output_type": "execute_result"
        }
      ],
      "source": [
        "# Identificar os 4 maiores faturamentos\n",
        "top4 <- df |> \n",
        "    arrange(desc(faturamento)) |> \n",
        "    head(n = 4) |> \n",
        "    pull(empresa)\n",
        "\n",
        "# Filtrar o DataFrame\n",
        "df_filtro <- df |> \n",
        "    filter(!empresa %in% c(top4, \"AM/PM Comestíveis Ltda\")) # lista dos grupos a excluir\n",
        "\n",
        "df_filtro"
      ]
    },
    {
      "cell_type": "code",
      "execution_count": null,
      "id": "5aeae9e7-0aec-4592-ab64-65a9ecabf7a5",
      "metadata": {},
      "outputs": [
        {
          "data": {
            "image/png": "[encoded data removed]"
          },
          "metadata": {},
          "output_type": "display_data"
        }
      ],
      "source": [
        "# Diagrama de dispersão\n",
        "ggplot(data = df_filtro, aes(x = lojas, y = faturamento)) +\n",
        "  geom_point() +\n",
        "  labs(title = \"Gráfico de Dispersão\",\n",
        "       x = \"Número de lojas\",\n",
        "       y = \"Faturamento\") +\n",
        "  theme_minimal(base_size = 16)"
      ]
    },
    {
      "cell_type": "markdown",
      "id": "d063799c-8997-4656-a2b1-159c8c4176ee",
      "metadata": {},
      "source": [
        "d- Calcule novamente o coeficiente de correlação de Pearson entre as\n",
        "duas variáveis estudadas."
      ]
    },
    {
      "cell_type": "code",
      "execution_count": 7,
      "id": "09748b5c-4fd1-4150-ac43-32eb001a7985",
      "metadata": {},
      "outputs": [
        {
          "data": {
            "text/plain": [
              "[1] 0.2990758"
            ]
          },
          "execution_count": null,
          "metadata": {},
          "output_type": "execute_result"
        }
      ],
      "source": [
        "cor(df_filtro$lojas, df_filtro$faturamento)"
      ]
    }
  ],
  "metadata": {
    "kernelspec": {
      "display_name": "Python 3",
      "language": "python",
      "name": "python3"
    },
    "language_info": {
      "name": "r"
    }
  },
  "nbformat": 4,
  "nbformat_minor": 5
}
