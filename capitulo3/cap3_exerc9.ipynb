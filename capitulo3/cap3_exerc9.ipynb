{
  "cells": [
    {
      "cell_type": "markdown",
      "metadata": {},
      "source": [
        "# Exercício 9 (Capítulo 3) no R\n",
        "\n",
        "André Melo\n",
        "\n",
        "[![](https://colab.research.google.com/assets/colab-badge.svg)](https://colab.research.google.com/github/drewmelo/tasks-favero/blob/master/capitulo3/cap3_exerc9.ipynb)\n",
        "\n",
        "O arquivo ‘Supermercados_Brasileiros.csv’ apresenta dados de faturamento\n",
        "e número de lojas dos 20 maiores supermercadistas brasileiros em\n",
        "determinado ano (fonte: ABRAS - Associação Brasileira de Supermercados).\n",
        "Pede-se:"
      ],
      "id": "7121764a-3e7c-4c8c-ab46-df014ebd061d"
    },
    {
      "cell_type": "code",
      "execution_count": null,
      "metadata": {},
      "outputs": [
        {
          "output_type": "stream",
          "name": "stderr",
          "text": [
            "Warning: package 'tidyr' was built under R version 4.3.3"
          ]
        },
        {
          "output_type": "stream",
          "name": "stderr",
          "text": [
            "Warning: package 'purrr' was built under R version 4.3.3"
          ]
        }
      ],
      "source": [
        "# Importação dos pacotes necessários\n",
        "library(tidyverse)"
      ],
      "id": "af10a889-ec42-458b-9edc-f3ac926b1656"
    },
    {
      "cell_type": "code",
      "execution_count": null,
      "metadata": {},
      "outputs": [
        {
          "output_type": "stream",
          "name": "stdout",
          "text": [
            "# A tibble: 20 × 3\n",
            "   empresa                                     faturamento lojas\n",
            "   <chr>                                             <dbl> <dbl>\n",
            " 1 Companhia Brasileira de Distribuição             72319.  2143\n",
            " 2 Carrefour Com Ind Ltda                           37928.   258\n",
            " 3 Wal-Mart Brasil Ltda                             29647.   544\n",
            " 4 Cencosud Brasil Com Ltda                          9795.   220\n",
            " 5 Cia Zaffari Comércio e Indústria                  4215     30\n",
            " 6 Irmãos Muffato & Cia Ltda                         3705.    41\n",
            " 7 Condor Super Center Ltda                          3637.    39\n",
            " 8 Supermercados BH Comércio de Alimentos Ltda       3408.   135\n",
            " 9 Sonda Supermercados Exp e Imp S.A.                2905.    36\n",
            "10 SDB Comércio de Alimentos Ltda                    2904.    51\n",
            "11 A Angeloni Cia Ltda                               2370.    27\n",
            "12 DMA Distribuidora S/A                             2317.    97\n",
            "13 Coop - Cooperativa de Consumo                     2017.    28\n",
            "14 Y.Yamada S/A - Comércio e Indústria               1958.    36\n",
            "15 Savegnago - Supermercados Ltda                    1912.    36\n",
            "16 Lider Comercio e Indústria Ltda                   1822.    15\n",
            "17 Multi Formato Distribuidora S/A                   1751.    27\n",
            "18 Comercial Zaragoza Imp Exp Ltda                   1692.    14\n",
            "19 AM/PM Comestíveis Ltda                            1573.  1700\n",
            "20 Companhia Sulamericana de Distribuição            1559.    45"
          ]
        }
      ],
      "source": [
        "url <- \"https://raw.githubusercontent.com/caio-azevedo/estatistica_aplicada/refs/heads/main/Semana%201/Supermercados_Brasileiros.csv\"\n",
        "df <- read_csv(url, show_col_types = F)\n",
        "\n",
        "# Visualização da base de dados 'Avaliação Alunos'\n",
        "df"
      ],
      "id": "889b15c2-e66f-492f-9f25-22b323a053e7"
    },
    {
      "cell_type": "markdown",
      "metadata": {},
      "source": [
        "a- Elabore o diagrama de dispersão para as variáveis faturamento e\n",
        "número de lojas."
      ],
      "id": "0f22c71f-818f-4017-a63c-1311fca00cf6"
    },
    {
      "cell_type": "code",
      "execution_count": null,
      "metadata": {},
      "outputs": [
        {
          "output_type": "display_data",
          "metadata": {},
          "data": {
            "image/png": "[encoded data removed]"
          }
        }
      ],
      "source": [
        "# Diagrama de dispersão\n",
        "ggplot(data = df, aes(x = lojas, y = faturamento)) +\n",
        "    geom_point() +\n",
        "  labs(x = \"Número de lojas\",\n",
        "       y = \"Faturamento\") +\n",
        "  theme_minimal(base_size = 16)"
      ],
      "id": "0ffa0f8b-de1c-45f0-8dc9-5cd6bb3a93b5"
    },
    {
      "cell_type": "markdown",
      "metadata": {},
      "source": [
        "b- Calcule o coeficiente de correlação de Pearson entre as duas\n",
        "variáveis."
      ],
      "id": "38922e11-90a7-4e23-a10e-caafc9166761"
    },
    {
      "cell_type": "code",
      "execution_count": null,
      "metadata": {},
      "outputs": [
        {
          "output_type": "stream",
          "name": "stdout",
          "text": [
            "[1] 0.6917023"
          ]
        }
      ],
      "source": [
        "cor(df$lojas, df$faturamento)"
      ],
      "id": "86474943-cf3f-410a-a3b4-365c7822053d"
    },
    {
      "cell_type": "markdown",
      "metadata": {},
      "source": [
        "c- Exclua os quatro maiores grupos supermercadistas em faturamento,\n",
        "assim como o grupo AM/PM Comestíveis Ltda., e elabore novamente o\n",
        "diagrama de dispersão."
      ],
      "id": "6abb2a93-a9d7-4264-9bcc-9d549c95771d"
    },
    {
      "cell_type": "code",
      "execution_count": null,
      "metadata": {},
      "outputs": [
        {
          "output_type": "stream",
          "name": "stdout",
          "text": [
            "# A tibble: 15 × 3\n",
            "   empresa                                     faturamento lojas\n",
            "   <chr>                                             <dbl> <dbl>\n",
            " 1 Cia Zaffari Comércio e Indústria                  4215     30\n",
            " 2 Irmãos Muffato & Cia Ltda                         3705.    41\n",
            " 3 Condor Super Center Ltda                          3637.    39\n",
            " 4 Supermercados BH Comércio de Alimentos Ltda       3408.   135\n",
            " 5 Sonda Supermercados Exp e Imp S.A.                2905.    36\n",
            " 6 SDB Comércio de Alimentos Ltda                    2904.    51\n",
            " 7 A Angeloni Cia Ltda                               2370.    27\n",
            " 8 DMA Distribuidora S/A                             2317.    97\n",
            " 9 Coop - Cooperativa de Consumo                     2017.    28\n",
            "10 Y.Yamada S/A - Comércio e Indústria               1958.    36\n",
            "11 Savegnago - Supermercados Ltda                    1912.    36\n",
            "12 Lider Comercio e Indústria Ltda                   1822.    15\n",
            "13 Multi Formato Distribuidora S/A                   1751.    27\n",
            "14 Comercial Zaragoza Imp Exp Ltda                   1692.    14\n",
            "15 Companhia Sulamericana de Distribuição            1559.    45"
          ]
        }
      ],
      "source": [
        "# Identificar os 4 maiores faturamentos\n",
        "top4 <- df |> \n",
        "    arrange(desc(faturamento)) |> \n",
        "    head(n = 4) |> \n",
        "    pull(empresa)\n",
        "\n",
        "# Filtrar o DataFrame\n",
        "df_filtro <- df |> \n",
        "    filter(!empresa %in% c(top4, \"AM/PM Comestíveis Ltda\")) # lista dos grupos a excluir\n",
        "\n",
        "df_filtro"
      ],
      "id": "589a6871-dde9-43a3-abe5-5bf9bad43bb0"
    },
    {
      "cell_type": "code",
      "execution_count": null,
      "metadata": {},
      "outputs": [
        {
          "output_type": "display_data",
          "metadata": {},
          "data": {
            "image/png": "[encoded data removed]"
          }
        }
      ],
      "source": [
        "# Diagrama de dispersão\n",
        "ggplot(data = df_filtro, aes(x = lojas, y = faturamento)) +\n",
        "    geom_point() +\n",
        "  labs(title = \"Gráfico de Dispersão\",\n",
        "       x = \"Número de lojas\",\n",
        "       y = \"Faturamento\") +\n",
        "  theme_minimal(base_size = 16)"
      ],
      "id": "5aeae9e7-0aec-4592-ab64-65a9ecabf7a5"
    },
    {
      "cell_type": "markdown",
      "metadata": {},
      "source": [
        "d- Calcule novamente o coeficiente de correlação de Pearson entre as\n",
        "duas variáveis estudadas."
      ],
      "id": "d063799c-8997-4656-a2b1-159c8c4176ee"
    },
    {
      "cell_type": "code",
      "execution_count": null,
      "metadata": {},
      "outputs": [
        {
          "output_type": "stream",
          "name": "stdout",
          "text": [
            "[1] 0.2990758"
          ]
        }
      ],
      "source": [
        "cor(df_filtro$lojas, df_filtro$faturamento)"
      ],
      "id": "09748b5c-4fd1-4150-ac43-32eb001a7985"
    }
  ],
  "nbformat": 4,
  "nbformat_minor": 5,
  "metadata": {
    "kernelspec": {
      "display_name": "Python 3",
      "language": "python",
      "name": "python3"
    }
  }
}