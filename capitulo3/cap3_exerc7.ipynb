{
  "cells": [
    {
      "cell_type": "markdown",
      "id": "b911e3cf-2bce-4be7-9758-d65621bacd0f",
      "metadata": {},
      "source": [
        "# Exercício 7 (Capítulo 3) no R\n",
        "\n",
        "André Melo\n",
        "\n",
        "[![](https://colab.research.google.com/assets/colab-badge.svg)](https://colab.research.google.com/github/drewmelo/tasks-favero/blob/master/capitulo3/cap3_exerc7.ipynb)\n",
        "\n",
        "O arquivo ‘Motivação_Empresas.csv’ apresenta um banco de dados com as\n",
        "variáveis Empresa e Grau de Motivação, obtidas por meio de uma pesquisa\n",
        "realizada com 250 funcionários (50 respondentes para cada umas das 5\n",
        "empresas pesquisadas), com o intuito de avaliar o grau de motivação dos\n",
        "funcionários em relação a empresas, consideradas de grande porte. Dessa\n",
        "forma, pede-se:"
      ]
    },
    {
      "cell_type": "code",
      "execution_count": 23,
      "id": "ae90854f-a6de-433b-a3f2-da51e4fc7ded",
      "metadata": {},
      "outputs": [],
      "source": [
        "# Importação dos pacotes necessários\n",
        "library(tidyverse)\n",
        "library(DescTools)"
      ]
    },
    {
      "cell_type": "code",
      "execution_count": 3,
      "id": "05420635-ae49-480c-a3ba-bd116d475891",
      "metadata": {},
      "outputs": [
        {
          "name": "stdout",
          "output_type": "stream",
          "text": [
            "\u001b[38;5;246m# A tibble: 250 × 2\u001b[39m\n",
            "   empresa motivacao        \n",
            "   \u001b[3m\u001b[38;5;246m<chr>\u001b[39m\u001b[23m   \u001b[3m\u001b[38;5;246m<chr>\u001b[39m\u001b[23m            \n",
            "\u001b[38;5;250m 1\u001b[39m A       muito desmotivado\n",
            "\u001b[38;5;250m 2\u001b[39m A       muito desmotivado\n",
            "\u001b[38;5;250m 3\u001b[39m A       muito desmotivado\n",
            "\u001b[38;5;250m 4\u001b[39m A       muito desmotivado\n",
            "\u001b[38;5;250m 5\u001b[39m A       desmotivado      \n",
            "\u001b[38;5;250m 6\u001b[39m A       muito desmotivado\n",
            "\u001b[38;5;250m 7\u001b[39m A       muito desmotivado\n",
            "\u001b[38;5;250m 8\u001b[39m A       muito desmotivado\n",
            "\u001b[38;5;250m 9\u001b[39m A       desmotivado      \n",
            "\u001b[38;5;250m10\u001b[39m A       desmotivado      \n",
            "\u001b[38;5;246m# ℹ 240 more rows\u001b[39m\n",
            "\u001b[38;5;246m# ℹ Use `print(n = ...)` to see more rows\u001b[39m\n"
          ]
        }
      ],
      "source": [
        "url <- \"https://raw.githubusercontent.com/caio-azevedo/estatistica_aplicada/refs/heads/main/Semana%201/Motiva%C3%A7%C3%A3o_Empresas.csv\"\n",
        "df <- read_csv(url, show_col_types = FALSE)\n",
        "# Visualização da base de dados 'Motivação Empresas'\n",
        "print(df)"
      ]
    },
    {
      "cell_type": "markdown",
      "id": "d51884ab-4302-4797-b87a-5fad94c45cb7",
      "metadata": {},
      "source": [
        "a- Construa as tabelas de distribuição conjunta de frequências para as\n",
        "variáveis ‘faixa_etaria’ e ‘inadimplencia’ (frequências absolutas,\n",
        "frequências relativas em relação ao total geral, frequências relativas\n",
        "em relação ao total de cada linha, frequências relativas em relação ao\n",
        "total de cada coluna e frequências esperadas)."
      ]
    },
    {
      "cell_type": "code",
      "execution_count": 4,
      "id": "b9a3809d-d3b5-4507-ac93-d20243f05ceb",
      "metadata": {},
      "outputs": [
        {
          "data": {
            "text/plain": [
              "       motivacao\n",
              "empresa desmotivado motivado muito desmotivado muito motivado pouco motivado Total\n",
              "  A               8        0                36              0              6    50\n",
              "  B               0       16                 0             31              3    50\n",
              "  C               8        9                 0              1             32    50\n",
              "  D              33        0                10              0              7    50\n",
              "  E               0       31                 0              8             11    50\n",
              "  Total          49       56                46             40             59   250"
            ]
          },
          "execution_count": null,
          "metadata": {},
          "output_type": "execute_result"
        }
      ],
      "source": [
        "tab_abs <- with(df, table(empresa, motivacao)) |> addmargins()\n",
        "\n",
        "# Renomear 'Sum' (padrão) para 'Total'\n",
        "rownames(tab_abs)[nrow(tab_abs)] <- \"Total\"\n",
        "colnames(tab_abs)[ncol(tab_abs)] <- \"Total\"\n",
        "\n",
        "tab_abs"
      ]
    },
    {
      "cell_type": "code",
      "execution_count": 5,
      "id": "aa3f6891-51b1-464d-8f1d-ce86733e2f57",
      "metadata": {},
      "outputs": [
        {
          "data": {
            "text/plain": [
              "       motivacao\n",
              "empresa desmotivado motivado muito desmotivado muito motivado pouco motivado Total\n",
              "  A           0.032    0.000             0.144          0.000          0.024 0.200\n",
              "  B           0.000    0.064             0.000          0.124          0.012 0.200\n",
              "  C           0.032    0.036             0.000          0.004          0.128 0.200\n",
              "  D           0.132    0.000             0.040          0.000          0.028 0.200\n",
              "  E           0.000    0.124             0.000          0.032          0.044 0.200\n",
              "  Total       0.196    0.224             0.184          0.160          0.236 1.000"
            ]
          },
          "execution_count": null,
          "metadata": {},
          "output_type": "execute_result"
        }
      ],
      "source": [
        "tab_prop_all <- addmargins(prop.table(tab_abs[1:5, 1:5]))\n",
        "\n",
        "# Renomear 'Sum' (padrão) para 'Total'\n",
        "rownames(tab_prop_all)[nrow(tab_prop_all)] <- \"Total\"\n",
        "colnames(tab_prop_all)[ncol(tab_prop_all)] <- \"Total\"\n",
        "\n",
        "tab_prop_all"
      ]
    },
    {
      "cell_type": "code",
      "execution_count": 6,
      "id": "30821680-766b-475c-a8e1-0828f23b458c",
      "metadata": {},
      "outputs": [
        {
          "data": {
            "text/plain": [
              "      desmotivado motivado muito desmotivado muito motivado pouco motivado\n",
              "A           0.160    0.000             0.720           0.00          0.120\n",
              "B           0.000    0.320             0.000           0.62          0.060\n",
              "C           0.160    0.180             0.000           0.02          0.640\n",
              "D           0.660    0.000             0.200           0.00          0.140\n",
              "E           0.000    0.620             0.000           0.16          0.220\n",
              "Total       0.196    0.224             0.184           0.16          0.236"
            ]
          },
          "execution_count": null,
          "metadata": {},
          "output_type": "execute_result"
        }
      ],
      "source": [
        "# Linha \"Total\" = proporção global por coluna\n",
        "Total <- colSums(tab_abs[1:5,1:5]) / sum(tab_abs[1:5,1:5])\n",
        "\n",
        "# Proporção por linha e junção com objeto Total\n",
        "tab_prop_row <- prop.table(tab_abs[1:5,1:5], margin = 1) |> rbind(Total) |> round(3)\n",
        "\n",
        "tab_prop_row"
      ]
    },
    {
      "cell_type": "code",
      "execution_count": 7,
      "id": "37456aab-b52c-46ca-8b0f-89d83c1677a2",
      "metadata": {},
      "outputs": [
        {
          "data": {
            "text/plain": [
              "  desmotivado motivado muito desmotivado muito motivado pouco motivado Total\n",
              "A       0.163    0.000             0.783          0.000          0.102   0.2\n",
              "B       0.000    0.286             0.000          0.775          0.051   0.2\n",
              "C       0.163    0.161             0.000          0.025          0.542   0.2\n",
              "D       0.673    0.000             0.217          0.000          0.119   0.2\n",
              "E       0.000    0.554             0.000          0.200          0.186   0.2"
            ]
          },
          "execution_count": null,
          "metadata": {},
          "output_type": "execute_result"
        }
      ],
      "source": [
        "# Coluna \"Total\" = proporção global por linha\n",
        "Total <- rowSums(tab_abs[1:5,1:5]) / sum(tab_abs[1:5,1:5])\n",
        "\n",
        "# Proporção por coluna e junção com objeto Total\n",
        "tab_prop_col <- prop.table(tab_abs[1:5,1:5], margin = 2) |> cbind(Total) |> round(3)\n",
        "\n",
        "tab_prop_col"
      ]
    },
    {
      "cell_type": "code",
      "execution_count": 8,
      "id": "0a38c79b-3527-4996-93e2-11b439e7b481",
      "metadata": {},
      "outputs": [
        {
          "data": {
            "text/plain": [
              "\n",
              "\tPearson's Chi-squared test\n",
              "\n",
              "data:  tab_abs[1:5, 1:5]\n",
              "X-squared = 375.07, df = 16, p-value < 2.2e-16\n"
            ]
          },
          "execution_count": null,
          "metadata": {},
          "output_type": "execute_result"
        }
      ],
      "source": [
        "# Teste qui-quadrado e esperados\n",
        "chi <- chisq.test(tab_abs[1:5,1:5])\n",
        "\n",
        "chi"
      ]
    },
    {
      "cell_type": "code",
      "execution_count": 9,
      "id": "aaad4008-9c25-4a6b-8019-797ede257970",
      "metadata": {},
      "outputs": [
        {
          "data": {
            "text/plain": [
              "       motivacao\n",
              "empresa desmotivado motivado muito desmotivado muito motivado pouco motivado Total\n",
              "  A             9.8     11.2               9.2              8           11.8    50\n",
              "  B             9.8     11.2               9.2              8           11.8    50\n",
              "  C             9.8     11.2               9.2              8           11.8    50\n",
              "  D             9.8     11.2               9.2              8           11.8    50\n",
              "  E             9.8     11.2               9.2              8           11.8    50\n",
              "  Total        49.0     56.0              46.0             40           59.0   250"
            ]
          },
          "execution_count": null,
          "metadata": {},
          "output_type": "execute_result"
        }
      ],
      "source": [
        "tab_esp <- chi$expected |> addmargins()\n",
        "\n",
        "rownames(tab_esp)[nrow(tab_esp)] <- \"Total\"\n",
        "colnames(tab_esp)[ncol(tab_esp)] <- \"Total\"\n",
        "\n",
        "tab_esp"
      ]
    },
    {
      "cell_type": "markdown",
      "id": "e81deebc-0170-4dbd-b723-ec2bda65a829",
      "metadata": {},
      "source": [
        "b- Calcule a porcentagem de respondentes muito desmotivados."
      ]
    },
    {
      "cell_type": "code",
      "execution_count": 10,
      "id": "6353fbe8-d88a-4852-9406-223b96e76890",
      "metadata": {},
      "outputs": [
        {
          "name": "stdout",
          "output_type": "stream",
          "text": [
            "A porcentagem de respondentes muito desmotivados é de 18.4 %"
          ]
        }
      ],
      "source": [
        "cat(\"A porcentagem de respondentes muito desmotivados é de\",\n",
        "    round(100 * tab_prop_all[\"Total\",\"muito desmotivado\"], 2), \"%\")"
      ]
    },
    {
      "cell_type": "markdown",
      "id": "ead87721-c8d3-4cb7-99b3-52db5e18f4a4",
      "metadata": {},
      "source": [
        "c- Calcule a porcentagem de respondentes da empresa A e que estão muito\n",
        "desmotivados."
      ]
    },
    {
      "cell_type": "code",
      "execution_count": 11,
      "id": "5f64eb00-03eb-471c-9b91-c0174659667c",
      "metadata": {},
      "outputs": [
        {
          "name": "stdout",
          "output_type": "stream",
          "text": [
            "A porcentagem de respondentes da empresa A e que estão muito desmotivados é de 14.4 %"
          ]
        }
      ],
      "source": [
        "cat(\"A porcentagem de respondentes da empresa A e que estão muito desmotivados é de\",\n",
        "    round(100 * tab_prop_all[\"A\",\"muito desmotivado\"], 2), \"%\")"
      ]
    },
    {
      "cell_type": "markdown",
      "id": "ae0f8489-49ff-49a2-9366-54040479b344",
      "metadata": {},
      "source": [
        "d- Calcule a porcentagem de respondentes motivados na empresa D."
      ]
    },
    {
      "cell_type": "code",
      "execution_count": 12,
      "id": "89a0176b-0f3f-4137-b4d8-48f2998bb21e",
      "metadata": {},
      "outputs": [
        {
          "name": "stdout",
          "output_type": "stream",
          "text": [
            "A porcentagem de respondentes motivados na empresa D é de 0 %"
          ]
        }
      ],
      "source": [
        "cat(\"A porcentagem de respondentes motivados na empresa D é de\",\n",
        "    round(100 * tab_prop_row[\"D\",\"motivado\"], 2), \"%\")"
      ]
    },
    {
      "cell_type": "markdown",
      "id": "d785b239-5097-41ba-b142-5c44fcd3af14",
      "metadata": {},
      "source": [
        "e- Calcule a porcentagem de respondentes pouco motivados na empresa C."
      ]
    },
    {
      "cell_type": "code",
      "execution_count": 13,
      "id": "96f0eba7-3d75-4725-a1f9-5fd010ca1970",
      "metadata": {},
      "outputs": [
        {
          "name": "stdout",
          "output_type": "stream",
          "text": [
            "A porcentagem de respondentes pouco motivados na empresa C é de 64 %"
          ]
        }
      ],
      "source": [
        "cat(\"A porcentagem de respondentes pouco motivados na empresa C é de\",\n",
        "    round(100 * tab_prop_row[\"C\",\"pouco motivado\"], 2), \"%\")"
      ]
    },
    {
      "cell_type": "markdown",
      "id": "0a5d44ef-c9fe-46ba-a06c-28bfa953f506",
      "metadata": {},
      "source": [
        "f- Determine, dentre os respondentes que estão muito motivados, a\n",
        "porcentagem daqueles que pertencem à empresa B."
      ]
    },
    {
      "cell_type": "code",
      "execution_count": 14,
      "id": "a9b65314-9b9c-4b0b-9378-1b7358db78c3",
      "metadata": {},
      "outputs": [
        {
          "name": "stdout",
          "output_type": "stream",
          "text": [
            "Dentre os respondentes que estão muito motivados, a porcentagem daqueles que pertencem à empresa B é de 77.5 %"
          ]
        }
      ],
      "source": [
        "cat(\"Dentre os respondentes que estão muito motivados, a porcentagem daqueles que pertencem à empresa B é de\",\n",
        "    round(100 * tab_prop_col[\"B\",\"muito motivado\"], 2), \"%\")"
      ]
    },
    {
      "cell_type": "markdown",
      "id": "f5714780-ed6e-4032-bed7-5a10c54450f2",
      "metadata": {},
      "source": [
        "g- Verifique se há indícios de dependência entre as variáveis."
      ]
    },
    {
      "cell_type": "code",
      "execution_count": 15,
      "id": "d6ab56a1-4e2a-47f8-805c-4b39d324e2e5",
      "metadata": {},
      "outputs": [
        {
          "data": {
            "text/plain": [
              "      desmotivado motivado muito desmotivado muito motivado pouco motivado\n",
              "A           0.160    0.000             0.720           0.00          0.120\n",
              "B           0.000    0.320             0.000           0.62          0.060\n",
              "C           0.160    0.180             0.000           0.02          0.640\n",
              "D           0.660    0.000             0.200           0.00          0.140\n",
              "E           0.000    0.620             0.000           0.16          0.220\n",
              "Total       0.196    0.224             0.184           0.16          0.236"
            ]
          },
          "execution_count": null,
          "metadata": {},
          "output_type": "execute_result"
        }
      ],
      "source": [
        "tab_prop_row"
      ]
    },
    {
      "cell_type": "markdown",
      "id": "87610712-defc-4a6f-bfa0-64d3e803f256",
      "metadata": {},
      "source": [
        "h- Confirme o item anterior usando a estatística $\\chi^2$"
      ]
    },
    {
      "cell_type": "code",
      "execution_count": 16,
      "id": "4bc8b93d-5ac0-44e6-affe-8bacce72de8a",
      "metadata": {},
      "outputs": [
        {
          "data": {
            "text/plain": [
              "[1] 375.0657"
            ]
          },
          "execution_count": null,
          "metadata": {},
          "output_type": "execute_result"
        }
      ],
      "source": [
        "chi2 <- as.numeric(chi$statistic)\n",
        "\n",
        "chi2"
      ]
    },
    {
      "cell_type": "markdown",
      "id": "f5579cb1-0a12-4bdb-9447-5f970e6d23b4",
      "metadata": {},
      "source": [
        "i- Calcule os coeficientes Phi, de contingência e V de Cramer,\n",
        "confirmando se há ou não associação entre as variáveis."
      ]
    },
    {
      "cell_type": "code",
      "execution_count": 17,
      "id": "68aaf016-1763-42f7-9788-c563b73c9b12",
      "metadata": {},
      "outputs": [
        {
          "data": {
            "text/plain": [
              "[1] 1.224852"
            ]
          },
          "execution_count": null,
          "metadata": {},
          "output_type": "execute_result"
        }
      ],
      "source": [
        "Phi(tab_abs[1:5,1:5])"
      ]
    },
    {
      "cell_type": "markdown",
      "id": "85d0392b-5fff-4634-a0ec-747c0412fe5d",
      "metadata": {},
      "source": [
        "$Phi = \\sqrt{\\frac{\\chi^2}{n}}$"
      ]
    },
    {
      "cell_type": "code",
      "execution_count": 18,
      "id": "827bd69a-a47e-4dca-a655-887363d0fd6c",
      "metadata": {},
      "outputs": [
        {
          "data": {
            "text/plain": [
              "[1] 1.224852"
            ]
          },
          "execution_count": null,
          "metadata": {},
          "output_type": "execute_result"
        }
      ],
      "source": [
        "n <- nrow(df)\n",
        "\n",
        "# Coeficiente Phi\n",
        "sqrt(chi2 / n)"
      ]
    },
    {
      "cell_type": "code",
      "execution_count": 19,
      "id": "50e4b1ee-fcba-461d-9f02-471411428d58",
      "metadata": {},
      "outputs": [
        {
          "data": {
            "text/plain": [
              "[1] 0.7746238"
            ]
          },
          "execution_count": null,
          "metadata": {},
          "output_type": "execute_result"
        }
      ],
      "source": [
        "# Coeficiente de contingência\n",
        "ContCoef(tab_abs[1:5,1:5])"
      ]
    },
    {
      "cell_type": "markdown",
      "id": "b82798b9-462e-40e7-aa7f-9493026bbf95",
      "metadata": {},
      "source": [
        "$C = \\sqrt{\\frac{\\chi^2}{\\chi^2 + n}}$"
      ]
    },
    {
      "cell_type": "code",
      "execution_count": 20,
      "id": "ec09b950-a117-4783-8533-af72a24a4d79",
      "metadata": {},
      "outputs": [
        {
          "data": {
            "text/plain": [
              "[1] 0.77"
            ]
          },
          "execution_count": null,
          "metadata": {},
          "output_type": "execute_result"
        }
      ],
      "source": [
        "sqrt(chi2 / (n + chi2)) |> round(2)"
      ]
    },
    {
      "cell_type": "code",
      "execution_count": 21,
      "id": "fba0a948-5b7a-455b-b5a1-81cfe39fe1f9",
      "metadata": {},
      "outputs": [
        {
          "data": {
            "text/plain": [
              "[1] 0.612426"
            ]
          },
          "execution_count": null,
          "metadata": {},
          "output_type": "execute_result"
        }
      ],
      "source": [
        "# Coeficiente V de Cramer\n",
        "CramerV(tab_abs[1:5,1:5])"
      ]
    },
    {
      "cell_type": "markdown",
      "id": "de13563c-588b-4461-b82c-0d7ac678c3e2",
      "metadata": {},
      "source": [
        "$V = \\sqrt{\\frac{\\chi^2}{n(q-1)}}$"
      ]
    },
    {
      "cell_type": "code",
      "execution_count": 22,
      "id": "e0a0d2a6-5adf-4042-be0c-360d754fa414",
      "metadata": {},
      "outputs": [
        {
          "data": {
            "text/plain": [
              "[1] 0.61"
            ]
          },
          "execution_count": null,
          "metadata": {},
          "output_type": "execute_result"
        }
      ],
      "source": [
        "# (q-1)\n",
        "k <- min(nrow(tab_abs[1:5,1:5]), ncol(tab_abs[1:5,1:5])) - 1\n",
        "\n",
        "sqrt(chi2 / (n * k)) |> round(2)"
      ]
    }
  ],
  "metadata": {
    "kernelspec": {
      "display_name": "Python 3",
      "language": "python",
      "name": "python3"
    },
    "language_info": {
      "name": "r"
    }
  },
  "nbformat": 4,
  "nbformat_minor": 5
}
