{
  "cells": [
    {
      "cell_type": "markdown",
      "metadata": {},
      "source": [
        "# Exercício 7 (Capítulo 3) no R\n",
        "\n",
        "André Melo\n",
        "\n",
        "[![](https://colab.research.google.com/assets/colab-badge.svg)](https://colab.research.google.com/github/drewmelo/tasks-favero/blob/master/capitulo3/cap3_exerc7.ipynb)\n",
        "\n",
        "O arquivo ‘Motivação_Empresas.csv’ apresenta um banco de dados com as\n",
        "variáveis Empresa e Grau de Motivação, obtidas por meio de uma pesquisa\n",
        "realizada com 250 funcionários (50 respondentes para cada umas das 5\n",
        "empresas pesquisadas), com o intuito de avaliar o grau de motivação dos\n",
        "funcionários em relação a empresas, consideradas de grande porte. Dessa\n",
        "forma, pede-se:"
      ],
      "id": "b911e3cf-2bce-4be7-9758-d65621bacd0f"
    },
    {
      "cell_type": "code",
      "execution_count": null,
      "metadata": {},
      "outputs": [
        {
          "output_type": "stream",
          "name": "stderr",
          "text": [
            "Warning: package 'tidyr' was built under R version 4.3.3"
          ]
        },
        {
          "output_type": "stream",
          "name": "stderr",
          "text": [
            "Warning: package 'purrr' was built under R version 4.3.3"
          ]
        },
        {
          "output_type": "stream",
          "name": "stderr",
          "text": [
            "Warning: package 'DescTools' was built under R version 4.3.3"
          ]
        }
      ],
      "source": [
        "# Importação dos pacotes necessários\n",
        "library(tidyverse); library(DescTools)"
      ],
      "id": "ae90854f-a6de-433b-a3f2-da51e4fc7ded"
    },
    {
      "cell_type": "code",
      "execution_count": null,
      "metadata": {},
      "outputs": [
        {
          "output_type": "stream",
          "name": "stdout",
          "text": [
            "# A tibble: 250 × 2\n",
            "   empresa motivacao        \n",
            "   <chr>   <chr>            \n",
            " 1 A       muito desmotivado\n",
            " 2 A       muito desmotivado\n",
            " 3 A       muito desmotivado\n",
            " 4 A       muito desmotivado\n",
            " 5 A       desmotivado      \n",
            " 6 A       muito desmotivado\n",
            " 7 A       muito desmotivado\n",
            " 8 A       muito desmotivado\n",
            " 9 A       desmotivado      \n",
            "10 A       desmotivado      \n",
            "# ℹ 240 more rows"
          ]
        }
      ],
      "source": [
        "url <- \"https://raw.githubusercontent.com/caio-azevedo/estatistica_aplicada/refs/heads/main/Semana%201/Motiva%C3%A7%C3%A3o_Empresas.csv\"\n",
        "df <- read_csv(url, show_col_types = FALSE)\n",
        "# Visualização da base de dados 'Motivação Empresas'\n",
        "print(df)"
      ],
      "id": "05420635-ae49-480c-a3ba-bd116d475891"
    },
    {
      "cell_type": "markdown",
      "metadata": {},
      "source": [
        "a- Construa as tabelas de distribuição conjunta de frequências para as\n",
        "variáveis ‘faixa_etaria’ e ‘inadimplencia’ (frequências absolutas,\n",
        "frequências relativas em relação ao total geral, frequências relativas\n",
        "em relação ao total de cada linha, frequências relativas em relação ao\n",
        "total de cada coluna e frequências esperadas)."
      ],
      "id": "d51884ab-4302-4797-b87a-5fad94c45cb7"
    },
    {
      "cell_type": "code",
      "execution_count": null,
      "metadata": {},
      "outputs": [
        {
          "output_type": "stream",
          "name": "stdout",
          "text": [
            "       motivacao\n",
            "empresa desmotivado motivado muito desmotivado muito motivado pouco motivado\n",
            "  A               8        0                36              0              6\n",
            "  B               0       16                 0             31              3\n",
            "  C               8        9                 0              1             32\n",
            "  D              33        0                10              0              7\n",
            "  E               0       31                 0              8             11\n",
            "  Total          49       56                46             40             59\n",
            "       motivacao\n",
            "empresa Total\n",
            "  A        50\n",
            "  B        50\n",
            "  C        50\n",
            "  D        50\n",
            "  E        50\n",
            "  Total   250"
          ]
        }
      ],
      "source": [
        "tab_abs <- with(df, table(empresa, motivacao)) |> addmargins()\n",
        "\n",
        "# Renomear 'Sum' (padrão) para 'Total'\n",
        "rownames(tab_abs)[nrow(tab_abs)] <- \"Total\"\n",
        "colnames(tab_abs)[ncol(tab_abs)] <- \"Total\"\n",
        "\n",
        "tab_abs"
      ],
      "id": "b9a3809d-d3b5-4507-ac93-d20243f05ceb"
    },
    {
      "cell_type": "code",
      "execution_count": null,
      "metadata": {},
      "outputs": [
        {
          "output_type": "stream",
          "name": "stdout",
          "text": [
            "       motivacao\n",
            "empresa desmotivado motivado muito desmotivado muito motivado pouco motivado\n",
            "  A           0.032    0.000             0.144          0.000          0.024\n",
            "  B           0.000    0.064             0.000          0.124          0.012\n",
            "  C           0.032    0.036             0.000          0.004          0.128\n",
            "  D           0.132    0.000             0.040          0.000          0.028\n",
            "  E           0.000    0.124             0.000          0.032          0.044\n",
            "  Total       0.196    0.224             0.184          0.160          0.236\n",
            "       motivacao\n",
            "empresa Total\n",
            "  A     0.200\n",
            "  B     0.200\n",
            "  C     0.200\n",
            "  D     0.200\n",
            "  E     0.200\n",
            "  Total 1.000"
          ]
        }
      ],
      "source": [
        "tab_prop_all <- addmargins(prop.table(tab_abs[1:5, 1:5]))\n",
        "\n",
        "# Renomear 'Sum' (padrão) para 'Total'\n",
        "rownames(tab_prop_all)[nrow(tab_prop_all)] <- \"Total\"\n",
        "colnames(tab_prop_all)[ncol(tab_prop_all)] <- \"Total\"\n",
        "\n",
        "tab_prop_all"
      ],
      "id": "aa3f6891-51b1-464d-8f1d-ce86733e2f57"
    },
    {
      "cell_type": "code",
      "execution_count": null,
      "metadata": {},
      "outputs": [
        {
          "output_type": "stream",
          "name": "stdout",
          "text": [
            "      desmotivado motivado muito desmotivado muito motivado pouco motivado\n",
            "A           0.160    0.000             0.720           0.00          0.120\n",
            "B           0.000    0.320             0.000           0.62          0.060\n",
            "C           0.160    0.180             0.000           0.02          0.640\n",
            "D           0.660    0.000             0.200           0.00          0.140\n",
            "E           0.000    0.620             0.000           0.16          0.220\n",
            "Total       0.196    0.224             0.184           0.16          0.236"
          ]
        }
      ],
      "source": [
        "# Linha \"Total\" = proporção global por coluna\n",
        "Total <- colSums(tab_abs[1:5,1:5]) / sum(tab_abs[1:5,1:5])\n",
        "\n",
        "# Proporção por linha e junção com objeto Total\n",
        "tab_prop_row <- prop.table(tab_abs[1:5,1:5], margin = 1) |> rbind(Total) |> round(3)\n",
        "\n",
        "tab_prop_row"
      ],
      "id": "30821680-766b-475c-a8e1-0828f23b458c"
    },
    {
      "cell_type": "code",
      "execution_count": null,
      "metadata": {},
      "outputs": [
        {
          "output_type": "stream",
          "name": "stdout",
          "text": [
            "  desmotivado motivado muito desmotivado muito motivado pouco motivado Total\n",
            "A       0.163    0.000             0.783          0.000          0.102   0.2\n",
            "B       0.000    0.286             0.000          0.775          0.051   0.2\n",
            "C       0.163    0.161             0.000          0.025          0.542   0.2\n",
            "D       0.673    0.000             0.217          0.000          0.119   0.2\n",
            "E       0.000    0.554             0.000          0.200          0.186   0.2"
          ]
        }
      ],
      "source": [
        "# Coluna \"Total\" = proporção global por linha\n",
        "Total <- rowSums(tab_abs[1:5,1:5]) / sum(tab_abs[1:5,1:5])\n",
        "\n",
        "# Proporção por coluna e junção com objeto Total\n",
        "tab_prop_col <- prop.table(tab_abs[1:5,1:5], margin = 2) |> cbind(Total) |> round(3)\n",
        "\n",
        "tab_prop_col"
      ],
      "id": "37456aab-b52c-46ca-8b0f-89d83c1677a2"
    },
    {
      "cell_type": "code",
      "execution_count": null,
      "metadata": {},
      "outputs": [
        {
          "output_type": "stream",
          "name": "stdout",
          "text": [
            "\n",
            "    Pearson's Chi-squared test\n",
            "\n",
            "data:  tab_abs[1:5, 1:5]\n",
            "X-squared = 375.07, df = 16, p-value < 2.2e-16"
          ]
        }
      ],
      "source": [
        "# Teste qui-quadrado e esperados\n",
        "chi <- chisq.test(tab_abs[1:5,1:5])\n",
        "\n",
        "chi"
      ],
      "id": "0a38c79b-3527-4996-93e2-11b439e7b481"
    },
    {
      "cell_type": "code",
      "execution_count": null,
      "metadata": {},
      "outputs": [
        {
          "output_type": "stream",
          "name": "stdout",
          "text": [
            "       motivacao\n",
            "empresa desmotivado motivado muito desmotivado muito motivado pouco motivado\n",
            "  A             9.8     11.2               9.2              8           11.8\n",
            "  B             9.8     11.2               9.2              8           11.8\n",
            "  C             9.8     11.2               9.2              8           11.8\n",
            "  D             9.8     11.2               9.2              8           11.8\n",
            "  E             9.8     11.2               9.2              8           11.8\n",
            "  Total        49.0     56.0              46.0             40           59.0\n",
            "       motivacao\n",
            "empresa Total\n",
            "  A        50\n",
            "  B        50\n",
            "  C        50\n",
            "  D        50\n",
            "  E        50\n",
            "  Total   250"
          ]
        }
      ],
      "source": [
        "tab_esp <- chi$expected |> addmargins()\n",
        "\n",
        "rownames(tab_esp)[nrow(tab_esp)] <- \"Total\"\n",
        "colnames(tab_esp)[ncol(tab_esp)] <- \"Total\"\n",
        "\n",
        "tab_esp"
      ],
      "id": "aaad4008-9c25-4a6b-8019-797ede257970"
    },
    {
      "cell_type": "markdown",
      "metadata": {},
      "source": [
        "b- Calcule a porcentagem de respondentes muito desmotivados."
      ],
      "id": "e81deebc-0170-4dbd-b723-ec2bda65a829"
    },
    {
      "cell_type": "code",
      "execution_count": null,
      "metadata": {},
      "outputs": [
        {
          "output_type": "stream",
          "name": "stdout",
          "text": [
            "A porcentagem de respondentes muito desmotivados é de 18.4 %"
          ]
        }
      ],
      "source": [
        "cat(\"A porcentagem de respondentes muito desmotivados é de\",\n",
        "    round(100 * tab_prop_all[\"Total\",\"muito desmotivado\"], 2), \"%\")"
      ],
      "id": "6353fbe8-d88a-4852-9406-223b96e76890"
    },
    {
      "cell_type": "markdown",
      "metadata": {},
      "source": [
        "c- Calcule a porcentagem de respondentes da empresa A e que estão muito\n",
        "desmotivados."
      ],
      "id": "ead87721-c8d3-4cb7-99b3-52db5e18f4a4"
    },
    {
      "cell_type": "code",
      "execution_count": null,
      "metadata": {},
      "outputs": [
        {
          "output_type": "stream",
          "name": "stdout",
          "text": [
            "A porcentagem de respondentes da empresa A e que estão muito desmotivados é de 14.4 %"
          ]
        }
      ],
      "source": [
        "cat(\"A porcentagem de respondentes da empresa A e que estão muito desmotivados é de\",\n",
        "    round(100 * tab_prop_all[\"A\",\"muito desmotivado\"], 2), \"%\")"
      ],
      "id": "5f64eb00-03eb-471c-9b91-c0174659667c"
    },
    {
      "cell_type": "markdown",
      "metadata": {},
      "source": [
        "d- Calcule a porcentagem de respondentes motivados na empresa D."
      ],
      "id": "ae0f8489-49ff-49a2-9366-54040479b344"
    },
    {
      "cell_type": "code",
      "execution_count": null,
      "metadata": {},
      "outputs": [
        {
          "output_type": "stream",
          "name": "stdout",
          "text": [
            "A porcentagem de respondentes motivados na empresa D é de 0 %"
          ]
        }
      ],
      "source": [
        "cat(\"A porcentagem de respondentes motivados na empresa D é de\",\n",
        "    round(100 * tab_prop_row[\"D\",\"motivado\"], 2), \"%\")"
      ],
      "id": "89a0176b-0f3f-4137-b4d8-48f2998bb21e"
    },
    {
      "cell_type": "markdown",
      "metadata": {},
      "source": [
        "e- Calcule a porcentagem de respondentes pouco motivados na empresa C."
      ],
      "id": "d785b239-5097-41ba-b142-5c44fcd3af14"
    },
    {
      "cell_type": "code",
      "execution_count": null,
      "metadata": {},
      "outputs": [
        {
          "output_type": "stream",
          "name": "stdout",
          "text": [
            "A porcentagem de respondentes pouco motivados na empresa C é de 64 %"
          ]
        }
      ],
      "source": [
        "cat(\"A porcentagem de respondentes pouco motivados na empresa C é de\",\n",
        "    round(100 * tab_prop_row[\"C\",\"pouco motivado\"], 2), \"%\")"
      ],
      "id": "96f0eba7-3d75-4725-a1f9-5fd010ca1970"
    },
    {
      "cell_type": "markdown",
      "metadata": {},
      "source": [
        "f- Determine, dentre os respondentes que estão muito motivados, a\n",
        "porcentagem daqueles que pertencem à empresa B."
      ],
      "id": "0a5d44ef-c9fe-46ba-a06c-28bfa953f506"
    },
    {
      "cell_type": "code",
      "execution_count": null,
      "metadata": {},
      "outputs": [
        {
          "output_type": "stream",
          "name": "stdout",
          "text": [
            "Dentre os respondentes que estão muito motivados, a porcentagem daqueles que pertencem à empresa B é de 77.5 %"
          ]
        }
      ],
      "source": [
        "cat(\"Dentre os respondentes que estão muito motivados, a porcentagem daqueles que pertencem à empresa B é de\",\n",
        "    round(100 * tab_prop_col[\"B\",\"muito motivado\"], 2), \"%\")"
      ],
      "id": "a9b65314-9b9c-4b0b-9378-1b7358db78c3"
    },
    {
      "cell_type": "markdown",
      "metadata": {},
      "source": [
        "g- Verifique se há indícios de dependência entre as variáveis."
      ],
      "id": "f5714780-ed6e-4032-bed7-5a10c54450f2"
    },
    {
      "cell_type": "code",
      "execution_count": null,
      "metadata": {},
      "outputs": [
        {
          "output_type": "stream",
          "name": "stdout",
          "text": [
            "      desmotivado motivado muito desmotivado muito motivado pouco motivado\n",
            "A           0.160    0.000             0.720           0.00          0.120\n",
            "B           0.000    0.320             0.000           0.62          0.060\n",
            "C           0.160    0.180             0.000           0.02          0.640\n",
            "D           0.660    0.000             0.200           0.00          0.140\n",
            "E           0.000    0.620             0.000           0.16          0.220\n",
            "Total       0.196    0.224             0.184           0.16          0.236"
          ]
        }
      ],
      "source": [
        "tab_prop_row"
      ],
      "id": "d6ab56a1-4e2a-47f8-805c-4b39d324e2e5"
    },
    {
      "cell_type": "markdown",
      "metadata": {},
      "source": [
        "h- Confirme o item anterior usando a estatística $\\chi^2$"
      ],
      "id": "87610712-defc-4a6f-bfa0-64d3e803f256"
    },
    {
      "cell_type": "code",
      "execution_count": null,
      "metadata": {},
      "outputs": [
        {
          "output_type": "stream",
          "name": "stdout",
          "text": [
            "[1] 375.0657"
          ]
        }
      ],
      "source": [
        "chi2 <- as.numeric(chi$statistic)\n",
        "\n",
        "chi2"
      ],
      "id": "4bc8b93d-5ac0-44e6-affe-8bacce72de8a"
    },
    {
      "cell_type": "markdown",
      "metadata": {},
      "source": [
        "i- Calcule os coeficientes Phi, de contingência e V de Cramer,\n",
        "confirmando se há ou não associação entre as variáveis."
      ],
      "id": "f5579cb1-0a12-4bdb-9447-5f970e6d23b4"
    },
    {
      "cell_type": "code",
      "execution_count": null,
      "metadata": {},
      "outputs": [
        {
          "output_type": "stream",
          "name": "stdout",
          "text": [
            "[1] 1.224852"
          ]
        }
      ],
      "source": [
        "DescTools::Phi(tab_abs[1:5,1:5])"
      ],
      "id": "68aaf016-1763-42f7-9788-c563b73c9b12"
    },
    {
      "cell_type": "markdown",
      "metadata": {},
      "source": [
        "$Phi = \\sqrt{\\frac{\\chi^2}{n}}$"
      ],
      "id": "85d0392b-5fff-4634-a0ec-747c0412fe5d"
    },
    {
      "cell_type": "code",
      "execution_count": null,
      "metadata": {},
      "outputs": [
        {
          "output_type": "stream",
          "name": "stdout",
          "text": [
            "[1] 1.224852"
          ]
        }
      ],
      "source": [
        "n <- nrow(df)\n",
        "\n",
        "# Coeficiente Phi\n",
        "sqrt(chi2 / n)"
      ],
      "id": "827bd69a-a47e-4dca-a655-887363d0fd6c"
    },
    {
      "cell_type": "code",
      "execution_count": null,
      "metadata": {},
      "outputs": [
        {
          "output_type": "stream",
          "name": "stdout",
          "text": [
            "[1] 0.7746238"
          ]
        }
      ],
      "source": [
        "# Coeficiente de contingência\n",
        "DescTools::ContCoef(tab_abs[1:5,1:5])"
      ],
      "id": "50e4b1ee-fcba-461d-9f02-471411428d58"
    },
    {
      "cell_type": "markdown",
      "metadata": {},
      "source": [
        "$C = \\sqrt{\\frac{\\chi^2}{\\chi^2 + n}}$"
      ],
      "id": "b82798b9-462e-40e7-aa7f-9493026bbf95"
    },
    {
      "cell_type": "code",
      "execution_count": null,
      "metadata": {},
      "outputs": [
        {
          "output_type": "stream",
          "name": "stdout",
          "text": [
            "[1] 0.77"
          ]
        }
      ],
      "source": [
        "sqrt(chi2 / (n + chi2)) |> round(2)"
      ],
      "id": "ec09b950-a117-4783-8533-af72a24a4d79"
    },
    {
      "cell_type": "code",
      "execution_count": null,
      "metadata": {},
      "outputs": [
        {
          "output_type": "stream",
          "name": "stdout",
          "text": [
            "[1] 0.612426"
          ]
        }
      ],
      "source": [
        "# Coeficiente V de Cramer\n",
        "DescTools::CramerV(tab_abs[1:5,1:5])"
      ],
      "id": "fba0a948-5b7a-455b-b5a1-81cfe39fe1f9"
    },
    {
      "cell_type": "markdown",
      "metadata": {},
      "source": [
        "$V = \\sqrt{\\frac{\\chi^2}{n(q-1)}}$"
      ],
      "id": "de13563c-588b-4461-b82c-0d7ac678c3e2"
    },
    {
      "cell_type": "code",
      "execution_count": null,
      "metadata": {},
      "outputs": [
        {
          "output_type": "stream",
          "name": "stdout",
          "text": [
            "[1] 0.61"
          ]
        }
      ],
      "source": [
        "# (q-1)\n",
        "k <- min(nrow(tab_abs[1:5,1:5]), ncol(tab_abs[1:5,1:5])) - 1\n",
        "\n",
        "sqrt(chi2 / (n * k)) |> round(2)"
      ],
      "id": "e0a0d2a6-5adf-4042-be0c-360d754fa414"
    }
  ],
  "nbformat": 4,
  "nbformat_minor": 5,
  "metadata": {
    "kernelspec": {
      "display_name": "Python 3",
      "language": "python",
      "name": "python3"
    }
  }
}