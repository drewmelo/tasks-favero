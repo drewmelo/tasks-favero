{
  "cells": [
    {
      "cell_type": "markdown",
      "metadata": {},
      "source": [
        "# Exercício 3 (Capítulo 3) no R\n",
        "\n",
        "André Melo\n",
        "\n",
        "[![Open In\n",
        "Colab](https://colab.research.google.com/assets/colab-badge.svg)](https://colab.research.google.com/github/drewmelo/tasks-favero/blob/master/C:\\Users\\andre\\Documents\\UFSCar\\Estatística Aplicada\\tasks-favero\\capitulo3\\cap3_exerc7.ipynb)\n",
        "\n",
        "O arquivo ‘Motivação_Empresas.csv’ apresenta um banco de dados com as\n",
        "variáveis Empresa e Grau de Motivação, obtidas por meio de uma pesquisa\n",
        "realizada com 250 funcionários (50 respondentes para cada umas das 5\n",
        "empresas pesquisadas), com o intuito de avaliar o grau de motivação dos\n",
        "funcionários em relação a empresas, consideradas de grande porte. Dessa\n",
        "forma, pede-se:"
      ],
      "id": "8b94ea95-3375-4af0-a082-d361ae2b7863"
    },
    {
      "cell_type": "code",
      "execution_count": null,
      "metadata": {},
      "outputs": [
        {
          "output_type": "stream",
          "name": "stderr",
          "text": [
            "Warning: package 'tidyr' was built under R version 4.3.3"
          ]
        },
        {
          "output_type": "stream",
          "name": "stderr",
          "text": [
            "Warning: package 'purrr' was built under R version 4.3.3"
          ]
        },
        {
          "output_type": "stream",
          "name": "stderr",
          "text": [
            "── Attaching core tidyverse packages ──────────────────────── tidyverse 2.0.0 ──\n",
            "✔ dplyr     1.1.4     ✔ readr     2.1.5\n",
            "✔ forcats   1.0.0     ✔ stringr   1.5.1\n",
            "✔ ggplot2   3.5.2     ✔ tibble    3.2.1\n",
            "✔ lubridate 1.9.3     ✔ tidyr     1.3.1\n",
            "✔ purrr     1.0.4     \n",
            "── Conflicts ────────────────────────────────────────── tidyverse_conflicts() ──\n",
            "✖ dplyr::filter() masks stats::filter()\n",
            "✖ dplyr::lag()    masks stats::lag()\n",
            "ℹ Use the conflicted package (<http://conflicted.r-lib.org/>) to force all conflicts to become errors"
          ]
        },
        {
          "output_type": "stream",
          "name": "stderr",
          "text": [
            "Warning: package 'DescTools' was built under R version 4.3.3"
          ]
        }
      ],
      "source": [
        "# Importação dos pacotes necessários\n",
        "library(tidyverse)"
      ],
      "id": "b3edd1ba-6c17-4aec-b160-6ea65614d13f"
    },
    {
      "cell_type": "code",
      "execution_count": null,
      "metadata": {},
      "outputs": [
        {
          "output_type": "stream",
          "name": "stdout",
          "text": [
            "# A tibble: 250 × 2\n",
            "   empresa motivacao        \n",
            "   <chr>   <chr>            \n",
            " 1 A       muito desmotivado\n",
            " 2 A       muito desmotivado\n",
            " 3 A       muito desmotivado\n",
            " 4 A       muito desmotivado\n",
            " 5 A       desmotivado      \n",
            " 6 A       muito desmotivado\n",
            " 7 A       muito desmotivado\n",
            " 8 A       muito desmotivado\n",
            " 9 A       desmotivado      \n",
            "10 A       desmotivado      \n",
            "# ℹ 240 more rows"
          ]
        }
      ],
      "source": [
        "url <- \"https://raw.githubusercontent.com/caio-azevedo/estatistica_aplicada/refs/heads/main/Semana%201/Motiva%C3%A7%C3%A3o_Empresas.csv\"\n",
        "df <- read_csv(url, show_col_types = FALSE)\n",
        "# Visualização da base de dados 'Motivação Empresas'\n",
        "print(df)"
      ],
      "id": "b2da0e1f-1a5a-4628-9f27-d074aefb09aa"
    },
    {
      "cell_type": "markdown",
      "metadata": {},
      "source": [
        "a- Construa as tabelas de distribuição conjunta de frequências para as\n",
        "variáveis ‘faixa_etaria’ e ‘inadimplencia’ (frequências absolutas,\n",
        "frequências relativas em relação ao total geral, frequências relativas\n",
        "em relação ao total de cada linha, frequências relativas em relação ao\n",
        "total de cada coluna e frequências esperadas)."
      ],
      "id": "c8f60d5d-f601-4daf-83d3-7a36f3371edb"
    },
    {
      "cell_type": "code",
      "execution_count": null,
      "metadata": {},
      "outputs": [
        {
          "output_type": "stream",
          "name": "stdout",
          "text": [
            "       motivacao\n",
            "empresa desmotivado motivado muito desmotivado muito motivado pouco motivado\n",
            "  A               8        0                36              0              6\n",
            "  B               0       16                 0             31              3\n",
            "  C               8        9                 0              1             32\n",
            "  D              33        0                10              0              7\n",
            "  E               0       31                 0              8             11\n",
            "  Total          49       56                46             40             59\n",
            "       motivacao\n",
            "empresa Total\n",
            "  A        50\n",
            "  B        50\n",
            "  C        50\n",
            "  D        50\n",
            "  E        50\n",
            "  Total   250"
          ]
        }
      ],
      "source": [
        "tab_abs <- with(df, table(empresa, motivacao)) |> addmargins()\n",
        "\n",
        "# Renomear 'Sum' (padrão) para 'Total'\n",
        "rownames(tab_abs)[nrow(tab_abs)] <- \"Total\"\n",
        "colnames(tab_abs)[ncol(tab_abs)] <- \"Total\"\n",
        "\n",
        "tab_abs"
      ],
      "id": "82502764-c96c-47bc-8354-ff40584e108b"
    },
    {
      "cell_type": "code",
      "execution_count": null,
      "metadata": {},
      "outputs": [
        {
          "output_type": "stream",
          "name": "stdout",
          "text": [
            "       motivacao\n",
            "empresa desmotivado motivado muito desmotivado muito motivado pouco motivado\n",
            "  A           0.032    0.000             0.144          0.000          0.024\n",
            "  B           0.000    0.064             0.000          0.124          0.012\n",
            "  C           0.032    0.036             0.000          0.004          0.128\n",
            "  D           0.132    0.000             0.040          0.000          0.028\n",
            "  E           0.000    0.124             0.000          0.032          0.044\n",
            "  Total       0.196    0.224             0.184          0.160          0.236\n",
            "       motivacao\n",
            "empresa Total\n",
            "  A     0.200\n",
            "  B     0.200\n",
            "  C     0.200\n",
            "  D     0.200\n",
            "  E     0.200\n",
            "  Total 1.000"
          ]
        }
      ],
      "source": [
        "tab_prop_all <- addmargins(prop.table(tab_abs[1:5, 1:5]))\n",
        "\n",
        "# Renomear 'Sum' (padrão) para 'Total'\n",
        "rownames(tab_prop_all)[nrow(tab_prop_all)] <- \"Total\"\n",
        "colnames(tab_prop_all)[ncol(tab_prop_all)] <- \"Total\"\n",
        "\n",
        "tab_prop_all"
      ],
      "id": "94c11433-a4cf-4f4a-9ea8-cb8050518412"
    },
    {
      "cell_type": "code",
      "execution_count": null,
      "metadata": {},
      "outputs": [
        {
          "output_type": "stream",
          "name": "stdout",
          "text": [
            "      desmotivado motivado muito desmotivado muito motivado pouco motivado\n",
            "A           0.160    0.000             0.720           0.00          0.120\n",
            "B           0.000    0.320             0.000           0.62          0.060\n",
            "C           0.160    0.180             0.000           0.02          0.640\n",
            "D           0.660    0.000             0.200           0.00          0.140\n",
            "E           0.000    0.620             0.000           0.16          0.220\n",
            "Total       0.196    0.224             0.184           0.16          0.236"
          ]
        }
      ],
      "source": [
        "# Linha \"Total\" = proporção global por coluna\n",
        "Total <- colSums(tab_abs[1:5,1:5]) / sum(tab_abs[1:5,1:5])\n",
        "\n",
        "# Proporção por linha e junção com objeto Total\n",
        "tab_prop_row <- prop.table(tab_abs[1:5,1:5], margin = 1) |> rbind(Total) |> round(3)\n",
        "\n",
        "tab_prop_row"
      ],
      "id": "d0e98b63-fb90-4a4c-bbc5-6845a730a6cb"
    },
    {
      "cell_type": "code",
      "execution_count": null,
      "metadata": {},
      "outputs": [
        {
          "output_type": "stream",
          "name": "stdout",
          "text": [
            "  desmotivado motivado muito desmotivado muito motivado pouco motivado Total\n",
            "A       0.163    0.000             0.783          0.000          0.102   0.2\n",
            "B       0.000    0.286             0.000          0.775          0.051   0.2\n",
            "C       0.163    0.161             0.000          0.025          0.542   0.2\n",
            "D       0.673    0.000             0.217          0.000          0.119   0.2\n",
            "E       0.000    0.554             0.000          0.200          0.186   0.2"
          ]
        }
      ],
      "source": [
        "# Coluna \"Total\" = proporção global por linha\n",
        "Total <- rowSums(tab_abs[1:5,1:5]) / sum(tab_abs[1:5,1:5])\n",
        "\n",
        "# Proporção por coluna e junção com objeto Total\n",
        "tab_prop_col <- prop.table(tab_abs[1:5,1:5], margin = 2) |> cbind(Total) |> round(3)\n",
        "\n",
        "tab_prop_col"
      ],
      "id": "ed5eac92-241b-4ab8-b77a-c026de24e0b7"
    },
    {
      "cell_type": "code",
      "execution_count": null,
      "metadata": {},
      "outputs": [
        {
          "output_type": "stream",
          "name": "stdout",
          "text": [
            "\n",
            "    Pearson's Chi-squared test\n",
            "\n",
            "data:  tab_abs[1:5, 1:5]\n",
            "X-squared = 375.07, df = 16, p-value < 2.2e-16"
          ]
        }
      ],
      "source": [
        "# Teste qui-quadrado e esperados\n",
        "chi <- chisq.test(tab_abs[1:5,1:5])\n",
        "\n",
        "chi"
      ],
      "id": "da064794-2a6d-44c1-992b-992fb38701b4"
    },
    {
      "cell_type": "code",
      "execution_count": null,
      "metadata": {},
      "outputs": [
        {
          "output_type": "stream",
          "name": "stdout",
          "text": [
            "       motivacao\n",
            "empresa desmotivado motivado muito desmotivado muito motivado pouco motivado\n",
            "  A             9.8     11.2               9.2              8           11.8\n",
            "  B             9.8     11.2               9.2              8           11.8\n",
            "  C             9.8     11.2               9.2              8           11.8\n",
            "  D             9.8     11.2               9.2              8           11.8\n",
            "  E             9.8     11.2               9.2              8           11.8\n",
            "  Total        49.0     56.0              46.0             40           59.0\n",
            "       motivacao\n",
            "empresa Total\n",
            "  A        50\n",
            "  B        50\n",
            "  C        50\n",
            "  D        50\n",
            "  E        50\n",
            "  Total   250"
          ]
        }
      ],
      "source": [
        "tab_esp <- chi$expected |> addmargins()\n",
        "\n",
        "rownames(tab_esp)[nrow(tab_esp)] <- \"Total\"\n",
        "colnames(tab_esp)[ncol(tab_esp)] <- \"Total\"\n",
        "\n",
        "tab_esp"
      ],
      "id": "daa9c403-7dc2-406e-84c8-a11540e0ad8c"
    },
    {
      "cell_type": "markdown",
      "metadata": {},
      "source": [
        "b- Calcule a porcentagem de respondentes muito desmotivados."
      ],
      "id": "08b08f20-8dd6-4286-9c4f-bf51b54c0a20"
    },
    {
      "cell_type": "code",
      "execution_count": null,
      "metadata": {},
      "outputs": [
        {
          "output_type": "stream",
          "name": "stdout",
          "text": [
            "A porcentagem de respondentes muito desmotivados é de 18.4 %"
          ]
        }
      ],
      "source": [
        "cat(\"A porcentagem de respondentes muito desmotivados é de\",\n",
        "    round(100 * tab_prop_all[\"Total\",\"muito desmotivado\"], 2), \"%\")"
      ],
      "id": "e48ea9e6-3936-4bff-8c5d-814890d28798"
    },
    {
      "cell_type": "markdown",
      "metadata": {},
      "source": [
        "c- Calcule a porcentagem de respondentes da empresa A e que estão muito\n",
        "desmotivados."
      ],
      "id": "1669d485-ba5c-4dc3-b6e4-99401b6e79fd"
    },
    {
      "cell_type": "code",
      "execution_count": null,
      "metadata": {},
      "outputs": [
        {
          "output_type": "stream",
          "name": "stdout",
          "text": [
            "A porcentagem de respondentes da empresa A e que estão muito desmotivados é de 14.4 %"
          ]
        }
      ],
      "source": [
        "cat(\"A porcentagem de respondentes da empresa A e que estão muito desmotivados é de\",\n",
        "    round(100 * tab_prop_all[\"A\",\"muito desmotivado\"], 2), \"%\")"
      ],
      "id": "54a1089e-9263-4502-946a-cd55f4c90cfb"
    },
    {
      "cell_type": "markdown",
      "metadata": {},
      "source": [
        "d- Calcule a porcentagem de respondentes motivados na empresa D."
      ],
      "id": "96e4178b-7967-416a-b8da-06814d1a9b03"
    },
    {
      "cell_type": "code",
      "execution_count": null,
      "metadata": {},
      "outputs": [
        {
          "output_type": "stream",
          "name": "stdout",
          "text": [
            "A porcentagem de respondentes motivados na empresa D é de 0 %"
          ]
        }
      ],
      "source": [
        "cat(\"A porcentagem de respondentes motivados na empresa D é de\",\n",
        "    round(100 * tab_prop_row[\"D\",\"motivado\"], 2), \"%\")"
      ],
      "id": "49a8cbb2-3973-45a9-ac8c-c1c5f5a1c004"
    },
    {
      "cell_type": "markdown",
      "metadata": {},
      "source": [
        "e- Calcule a porcentagem de respondentes pouco motivados na empresa C."
      ],
      "id": "0447c4c4-599f-46eb-b357-b92b73081bf4"
    },
    {
      "cell_type": "code",
      "execution_count": null,
      "metadata": {},
      "outputs": [
        {
          "output_type": "stream",
          "name": "stdout",
          "text": [
            "A porcentagem de respondentes pouco motivados na empresa C é de 64 %"
          ]
        }
      ],
      "source": [
        "cat(\"A porcentagem de respondentes pouco motivados na empresa C é de\",\n",
        "    round(100 * tab_prop_row[\"C\",\"pouco motivado\"], 2), \"%\")"
      ],
      "id": "9a9bae3c-b5d3-47c8-8d01-088afdb66a8d"
    },
    {
      "cell_type": "markdown",
      "metadata": {},
      "source": [
        "f- Determine, dentre os respondentes que estão muito motivados, a\n",
        "porcentagem daqueles que pertencem à empresa B."
      ],
      "id": "c6929243-afba-4e30-9eb3-0472ceb432f9"
    },
    {
      "cell_type": "code",
      "execution_count": null,
      "metadata": {},
      "outputs": [
        {
          "output_type": "stream",
          "name": "stdout",
          "text": [
            "Dentre os respondentes que estão muito motivados, a porcentagem daqueles que pertencem à empresa B é de 77.5 %"
          ]
        }
      ],
      "source": [
        "cat(\"Dentre os respondentes que estão muito motivados, a porcentagem daqueles que pertencem à empresa B é de\",\n",
        "    round(100 * tab_prop_col[\"B\",\"muito motivado\"], 2), \"%\")"
      ],
      "id": "4b1c2de7-fa45-493c-b5dd-9a314f4893e7"
    },
    {
      "cell_type": "markdown",
      "metadata": {},
      "source": [
        "g- Verifique se há indícios de dependência entre as variáveis."
      ],
      "id": "9d3838e8-3831-44db-bf4c-ffe7d7753730"
    },
    {
      "cell_type": "code",
      "execution_count": null,
      "metadata": {},
      "outputs": [
        {
          "output_type": "stream",
          "name": "stdout",
          "text": [
            "      desmotivado motivado muito desmotivado muito motivado pouco motivado\n",
            "A           0.160    0.000             0.720           0.00          0.120\n",
            "B           0.000    0.320             0.000           0.62          0.060\n",
            "C           0.160    0.180             0.000           0.02          0.640\n",
            "D           0.660    0.000             0.200           0.00          0.140\n",
            "E           0.000    0.620             0.000           0.16          0.220\n",
            "Total       0.196    0.224             0.184           0.16          0.236"
          ]
        }
      ],
      "source": [
        "tab_prop_row"
      ],
      "id": "d9487cbc-0673-4df6-9a0c-d9c2747764c8"
    },
    {
      "cell_type": "markdown",
      "metadata": {},
      "source": [
        "h- Confirme o item anterior usando a estatística $\\chi^2$"
      ],
      "id": "733008b2-9544-4cb2-846a-e2123d1753b7"
    },
    {
      "cell_type": "code",
      "execution_count": null,
      "metadata": {},
      "outputs": [
        {
          "output_type": "stream",
          "name": "stdout",
          "text": [
            "[1] 375.0657"
          ]
        }
      ],
      "source": [
        "chi2 <- as.numeric(chi$statistic)\n",
        "\n",
        "chi2"
      ],
      "id": "430d4ff8-9122-45a7-b90d-e1eff5e2846e"
    },
    {
      "cell_type": "markdown",
      "metadata": {},
      "source": [
        "i- Calcule os coeficientes Phi, de contingência e V de Cramer,\n",
        "confirmando se há ou não associação entre as variáveis."
      ],
      "id": "b36c6de0-aa1f-482c-92d4-6eac0a441411"
    },
    {
      "cell_type": "code",
      "execution_count": null,
      "metadata": {},
      "outputs": [
        {
          "output_type": "stream",
          "name": "stdout",
          "text": [
            "[1] 1.224852"
          ]
        }
      ],
      "source": [
        "Phi(tab_abs[1:5,1:5])"
      ],
      "id": "a89aeb50-aae5-4960-baf7-df2d7b33617d"
    },
    {
      "cell_type": "markdown",
      "metadata": {},
      "source": [
        "$Phi = \\sqrt{\\frac{\\chi^2}{n}}$"
      ],
      "id": "a2194542-28c7-488d-aae3-487bc8115f56"
    },
    {
      "cell_type": "code",
      "execution_count": null,
      "metadata": {},
      "outputs": [
        {
          "output_type": "stream",
          "name": "stdout",
          "text": [
            "[1] 1.224852"
          ]
        }
      ],
      "source": [
        "n <- nrow(df)\n",
        "\n",
        "# Coeficiente Phi\n",
        "sqrt(chi2 / n)"
      ],
      "id": "a305ea43-9f70-47be-9e46-dd82a789633d"
    },
    {
      "cell_type": "code",
      "execution_count": null,
      "metadata": {},
      "outputs": [
        {
          "output_type": "stream",
          "name": "stdout",
          "text": [
            "[1] 0.7746238"
          ]
        }
      ],
      "source": [
        "# Coeficiente de contingência\n",
        "ContCoef(tab_abs[1:5,1:5])"
      ],
      "id": "a754f117-00cc-493b-876e-b8a76974e2f6"
    },
    {
      "cell_type": "markdown",
      "metadata": {},
      "source": [
        "$C = \\sqrt{\\frac{\\chi^2}{\\chi^2 + n}}$"
      ],
      "id": "ea47b328-06b2-44ef-aef1-89c116d09543"
    },
    {
      "cell_type": "code",
      "execution_count": null,
      "metadata": {},
      "outputs": [
        {
          "output_type": "stream",
          "name": "stdout",
          "text": [
            "[1] 0.77"
          ]
        }
      ],
      "source": [
        "sqrt(chi2 / (n + chi2)) |> round(2)"
      ],
      "id": "07c9aa2c-41a1-4581-9d0e-a365f672987e"
    },
    {
      "cell_type": "code",
      "execution_count": null,
      "metadata": {},
      "outputs": [
        {
          "output_type": "stream",
          "name": "stdout",
          "text": [
            "[1] 0.612426"
          ]
        }
      ],
      "source": [
        "# Coeficiente V de Cramer\n",
        "CramerV(tab_abs[1:5,1:5])"
      ],
      "id": "a60be0c3-12b9-45e1-84fa-71342f4750ca"
    },
    {
      "cell_type": "markdown",
      "metadata": {},
      "source": [
        "$V = \\sqrt{\\frac{\\chi^2}{n(q-1)}}$"
      ],
      "id": "69170bd1-6341-4f4e-8a14-14d6c7f9fdf4"
    },
    {
      "cell_type": "code",
      "execution_count": null,
      "metadata": {},
      "outputs": [
        {
          "output_type": "stream",
          "name": "stdout",
          "text": [
            "[1] 0.61"
          ]
        }
      ],
      "source": [
        "# (q-1)\n",
        "k <- min(nrow(tab_abs[1:5,1:5]), ncol(tab_abs[1:5,1:5])) - 1\n",
        "\n",
        "sqrt(chi2 / (n * k)) |> round(2)"
      ],
      "id": "496a3180-ae1a-4f8e-a492-1efbb4d66aa9"
    }
  ],
  "nbformat": 4,
  "nbformat_minor": 5,
  "metadata": {
    "kernelspec": {
      "display_name": "Python 3",
      "language": "python",
      "name": "python3"
    }
  }
}