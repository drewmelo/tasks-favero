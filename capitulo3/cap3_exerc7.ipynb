{
  "cells": [
    {
      "cell_type": "markdown",
      "metadata": {},
      "source": [
        "# Exercício 7 (Capítulo 3) no R\n",
        "\n",
        "André Melo\n",
        "\n",
        "[![](https://colab.research.google.com/assets/colab-badge.svg)](https://colab.research.google.com/github/drewmelo/tasks-favero/blob/master/capitulo3/cap3_exerc7.ipynb)\n",
        "\n",
        "O arquivo ‘Motivação_Empresas.csv’ apresenta um banco de dados com as\n",
        "variáveis Empresa e Grau de Motivação, obtidas por meio de uma pesquisa\n",
        "realizada com 250 funcionários (50 respondentes para cada umas das 5\n",
        "empresas pesquisadas), com o intuito de avaliar o grau de motivação dos\n",
        "funcionários em relação a empresas, consideradas de grande porte. Dessa\n",
        "forma, pede-se:"
      ],
      "id": "8efd4b35-aa99-47ec-bb38-a7cf66a7122b"
    },
    {
      "cell_type": "code",
      "execution_count": null,
      "metadata": {},
      "outputs": [
        {
          "output_type": "stream",
          "name": "stderr",
          "text": [
            "Warning: package 'tidyr' was built under R version 4.3.3"
          ]
        },
        {
          "output_type": "stream",
          "name": "stderr",
          "text": [
            "Warning: package 'purrr' was built under R version 4.3.3"
          ]
        },
        {
          "output_type": "stream",
          "name": "stderr",
          "text": [
            "Warning: package 'DescTools' was built under R version 4.3.3"
          ]
        }
      ],
      "source": [
        "# Importação dos pacotes necessários\n",
        "library(tidyverse)"
      ],
      "id": "2e2099d9-ec75-43eb-8ef5-977fd660a8af"
    },
    {
      "cell_type": "code",
      "execution_count": null,
      "metadata": {},
      "outputs": [
        {
          "output_type": "stream",
          "name": "stdout",
          "text": [
            "# A tibble: 250 × 2\n",
            "   empresa motivacao        \n",
            "   <chr>   <chr>            \n",
            " 1 A       muito desmotivado\n",
            " 2 A       muito desmotivado\n",
            " 3 A       muito desmotivado\n",
            " 4 A       muito desmotivado\n",
            " 5 A       desmotivado      \n",
            " 6 A       muito desmotivado\n",
            " 7 A       muito desmotivado\n",
            " 8 A       muito desmotivado\n",
            " 9 A       desmotivado      \n",
            "10 A       desmotivado      \n",
            "# ℹ 240 more rows"
          ]
        }
      ],
      "source": [
        "url <- \"https://raw.githubusercontent.com/caio-azevedo/estatistica_aplicada/refs/heads/main/Semana%201/Motiva%C3%A7%C3%A3o_Empresas.csv\"\n",
        "df <- read_csv(url, show_col_types = FALSE)\n",
        "# Visualização da base de dados 'Motivação Empresas'\n",
        "print(df)"
      ],
      "id": "9d0676ce-e29e-41a1-a9da-1ae4644c4465"
    },
    {
      "cell_type": "markdown",
      "metadata": {},
      "source": [
        "a- Construa as tabelas de distribuição conjunta de frequências para as\n",
        "variáveis ‘faixa_etaria’ e ‘inadimplencia’ (frequências absolutas,\n",
        "frequências relativas em relação ao total geral, frequências relativas\n",
        "em relação ao total de cada linha, frequências relativas em relação ao\n",
        "total de cada coluna e frequências esperadas)."
      ],
      "id": "598fd3e2-9187-4b33-812a-63efc1176293"
    },
    {
      "cell_type": "code",
      "execution_count": null,
      "metadata": {},
      "outputs": [
        {
          "output_type": "stream",
          "name": "stdout",
          "text": [
            "       motivacao\n",
            "empresa desmotivado motivado muito desmotivado muito motivado pouco motivado\n",
            "  A               8        0                36              0              6\n",
            "  B               0       16                 0             31              3\n",
            "  C               8        9                 0              1             32\n",
            "  D              33        0                10              0              7\n",
            "  E               0       31                 0              8             11\n",
            "  Total          49       56                46             40             59\n",
            "       motivacao\n",
            "empresa Total\n",
            "  A        50\n",
            "  B        50\n",
            "  C        50\n",
            "  D        50\n",
            "  E        50\n",
            "  Total   250"
          ]
        }
      ],
      "source": [
        "tab_abs <- with(df, table(empresa, motivacao)) |> addmargins()\n",
        "\n",
        "# Renomear 'Sum' (padrão) para 'Total'\n",
        "rownames(tab_abs)[nrow(tab_abs)] <- \"Total\"\n",
        "colnames(tab_abs)[ncol(tab_abs)] <- \"Total\"\n",
        "\n",
        "tab_abs"
      ],
      "id": "54c77318-c223-4ec9-bfaa-651604b00fe1"
    },
    {
      "cell_type": "code",
      "execution_count": null,
      "metadata": {},
      "outputs": [
        {
          "output_type": "stream",
          "name": "stdout",
          "text": [
            "       motivacao\n",
            "empresa desmotivado motivado muito desmotivado muito motivado pouco motivado\n",
            "  A           0.032    0.000             0.144          0.000          0.024\n",
            "  B           0.000    0.064             0.000          0.124          0.012\n",
            "  C           0.032    0.036             0.000          0.004          0.128\n",
            "  D           0.132    0.000             0.040          0.000          0.028\n",
            "  E           0.000    0.124             0.000          0.032          0.044\n",
            "  Total       0.196    0.224             0.184          0.160          0.236\n",
            "       motivacao\n",
            "empresa Total\n",
            "  A     0.200\n",
            "  B     0.200\n",
            "  C     0.200\n",
            "  D     0.200\n",
            "  E     0.200\n",
            "  Total 1.000"
          ]
        }
      ],
      "source": [
        "tab_prop_all <- addmargins(prop.table(tab_abs[1:5, 1:5]))\n",
        "\n",
        "# Renomear 'Sum' (padrão) para 'Total'\n",
        "rownames(tab_prop_all)[nrow(tab_prop_all)] <- \"Total\"\n",
        "colnames(tab_prop_all)[ncol(tab_prop_all)] <- \"Total\"\n",
        "\n",
        "tab_prop_all"
      ],
      "id": "dc1dc533-21fe-4266-bc29-215dfbd1c2bd"
    },
    {
      "cell_type": "code",
      "execution_count": null,
      "metadata": {},
      "outputs": [
        {
          "output_type": "stream",
          "name": "stdout",
          "text": [
            "      desmotivado motivado muito desmotivado muito motivado pouco motivado\n",
            "A           0.160    0.000             0.720           0.00          0.120\n",
            "B           0.000    0.320             0.000           0.62          0.060\n",
            "C           0.160    0.180             0.000           0.02          0.640\n",
            "D           0.660    0.000             0.200           0.00          0.140\n",
            "E           0.000    0.620             0.000           0.16          0.220\n",
            "Total       0.196    0.224             0.184           0.16          0.236"
          ]
        }
      ],
      "source": [
        "# Linha \"Total\" = proporção global por coluna\n",
        "Total <- colSums(tab_abs[1:5,1:5]) / sum(tab_abs[1:5,1:5])\n",
        "\n",
        "# Proporção por linha e junção com objeto Total\n",
        "tab_prop_row <- prop.table(tab_abs[1:5,1:5], margin = 1) |> rbind(Total) |> round(3)\n",
        "\n",
        "tab_prop_row"
      ],
      "id": "87ad68c8-4e55-4b96-8708-124ef0b919b2"
    },
    {
      "cell_type": "code",
      "execution_count": null,
      "metadata": {},
      "outputs": [
        {
          "output_type": "stream",
          "name": "stdout",
          "text": [
            "  desmotivado motivado muito desmotivado muito motivado pouco motivado Total\n",
            "A       0.163    0.000             0.783          0.000          0.102   0.2\n",
            "B       0.000    0.286             0.000          0.775          0.051   0.2\n",
            "C       0.163    0.161             0.000          0.025          0.542   0.2\n",
            "D       0.673    0.000             0.217          0.000          0.119   0.2\n",
            "E       0.000    0.554             0.000          0.200          0.186   0.2"
          ]
        }
      ],
      "source": [
        "# Coluna \"Total\" = proporção global por linha\n",
        "Total <- rowSums(tab_abs[1:5,1:5]) / sum(tab_abs[1:5,1:5])\n",
        "\n",
        "# Proporção por coluna e junção com objeto Total\n",
        "tab_prop_col <- prop.table(tab_abs[1:5,1:5], margin = 2) |> cbind(Total) |> round(3)\n",
        "\n",
        "tab_prop_col"
      ],
      "id": "98b89483-94db-474e-a658-d45db29b8081"
    },
    {
      "cell_type": "code",
      "execution_count": null,
      "metadata": {},
      "outputs": [
        {
          "output_type": "stream",
          "name": "stdout",
          "text": [
            "\n",
            "    Pearson's Chi-squared test\n",
            "\n",
            "data:  tab_abs[1:5, 1:5]\n",
            "X-squared = 375.07, df = 16, p-value < 2.2e-16"
          ]
        }
      ],
      "source": [
        "# Teste qui-quadrado e esperados\n",
        "chi <- chisq.test(tab_abs[1:5,1:5])\n",
        "\n",
        "chi"
      ],
      "id": "a0c28047-20f4-4573-9580-d319799dd475"
    },
    {
      "cell_type": "code",
      "execution_count": null,
      "metadata": {},
      "outputs": [
        {
          "output_type": "stream",
          "name": "stdout",
          "text": [
            "       motivacao\n",
            "empresa desmotivado motivado muito desmotivado muito motivado pouco motivado\n",
            "  A             9.8     11.2               9.2              8           11.8\n",
            "  B             9.8     11.2               9.2              8           11.8\n",
            "  C             9.8     11.2               9.2              8           11.8\n",
            "  D             9.8     11.2               9.2              8           11.8\n",
            "  E             9.8     11.2               9.2              8           11.8\n",
            "  Total        49.0     56.0              46.0             40           59.0\n",
            "       motivacao\n",
            "empresa Total\n",
            "  A        50\n",
            "  B        50\n",
            "  C        50\n",
            "  D        50\n",
            "  E        50\n",
            "  Total   250"
          ]
        }
      ],
      "source": [
        "tab_esp <- chi$expected |> addmargins()\n",
        "\n",
        "rownames(tab_esp)[nrow(tab_esp)] <- \"Total\"\n",
        "colnames(tab_esp)[ncol(tab_esp)] <- \"Total\"\n",
        "\n",
        "tab_esp"
      ],
      "id": "53a738e6-2be8-420a-b22c-5754b46e606d"
    },
    {
      "cell_type": "markdown",
      "metadata": {},
      "source": [
        "b- Calcule a porcentagem de respondentes muito desmotivados."
      ],
      "id": "350b8d22-8ec6-4da9-9a22-bfbc2c658051"
    },
    {
      "cell_type": "code",
      "execution_count": null,
      "metadata": {},
      "outputs": [
        {
          "output_type": "stream",
          "name": "stdout",
          "text": [
            "A porcentagem de respondentes muito desmotivados é de 18.4 %"
          ]
        }
      ],
      "source": [
        "cat(\"A porcentagem de respondentes muito desmotivados é de\",\n",
        "    round(100 * tab_prop_all[\"Total\",\"muito desmotivado\"], 2), \"%\")"
      ],
      "id": "05c2a26e-391a-448d-a184-776dce9c7e14"
    },
    {
      "cell_type": "markdown",
      "metadata": {},
      "source": [
        "c- Calcule a porcentagem de respondentes da empresa A e que estão muito\n",
        "desmotivados."
      ],
      "id": "791e149d-0409-4219-82a7-57f19767aeed"
    },
    {
      "cell_type": "code",
      "execution_count": null,
      "metadata": {},
      "outputs": [
        {
          "output_type": "stream",
          "name": "stdout",
          "text": [
            "A porcentagem de respondentes da empresa A e que estão muito desmotivados é de 14.4 %"
          ]
        }
      ],
      "source": [
        "cat(\"A porcentagem de respondentes da empresa A e que estão muito desmotivados é de\",\n",
        "    round(100 * tab_prop_all[\"A\",\"muito desmotivado\"], 2), \"%\")"
      ],
      "id": "35c4da24-c04f-4cc0-9608-70a975194b3e"
    },
    {
      "cell_type": "markdown",
      "metadata": {},
      "source": [
        "d- Calcule a porcentagem de respondentes motivados na empresa D."
      ],
      "id": "7987b16c-d89b-413e-8c33-bc8ba5ccabbe"
    },
    {
      "cell_type": "code",
      "execution_count": null,
      "metadata": {},
      "outputs": [
        {
          "output_type": "stream",
          "name": "stdout",
          "text": [
            "A porcentagem de respondentes motivados na empresa D é de 0 %"
          ]
        }
      ],
      "source": [
        "cat(\"A porcentagem de respondentes motivados na empresa D é de\",\n",
        "    round(100 * tab_prop_row[\"D\",\"motivado\"], 2), \"%\")"
      ],
      "id": "e73d5cdb-e9aa-4432-a48a-54f0f26396e8"
    },
    {
      "cell_type": "markdown",
      "metadata": {},
      "source": [
        "e- Calcule a porcentagem de respondentes pouco motivados na empresa C."
      ],
      "id": "3e7791df-f7d9-497e-b3d6-3238ec6e20c1"
    },
    {
      "cell_type": "code",
      "execution_count": null,
      "metadata": {},
      "outputs": [
        {
          "output_type": "stream",
          "name": "stdout",
          "text": [
            "A porcentagem de respondentes pouco motivados na empresa C é de 64 %"
          ]
        }
      ],
      "source": [
        "cat(\"A porcentagem de respondentes pouco motivados na empresa C é de\",\n",
        "    round(100 * tab_prop_row[\"C\",\"pouco motivado\"], 2), \"%\")"
      ],
      "id": "abcbdef4-24d0-4bd7-a99a-be53135894e4"
    },
    {
      "cell_type": "markdown",
      "metadata": {},
      "source": [
        "f- Determine, dentre os respondentes que estão muito motivados, a\n",
        "porcentagem daqueles que pertencem à empresa B."
      ],
      "id": "b58ac390-dbe7-41ba-9780-aded0d9eebf1"
    },
    {
      "cell_type": "code",
      "execution_count": null,
      "metadata": {},
      "outputs": [
        {
          "output_type": "stream",
          "name": "stdout",
          "text": [
            "Dentre os respondentes que estão muito motivados, a porcentagem daqueles que pertencem à empresa B é de 77.5 %"
          ]
        }
      ],
      "source": [
        "cat(\"Dentre os respondentes que estão muito motivados, a porcentagem daqueles que pertencem à empresa B é de\",\n",
        "    round(100 * tab_prop_col[\"B\",\"muito motivado\"], 2), \"%\")"
      ],
      "id": "75c26f72-cba1-4afd-b789-aec241038732"
    },
    {
      "cell_type": "markdown",
      "metadata": {},
      "source": [
        "g- Verifique se há indícios de dependência entre as variáveis."
      ],
      "id": "6e585a0c-7248-4440-a682-09b80e90f6b2"
    },
    {
      "cell_type": "code",
      "execution_count": null,
      "metadata": {},
      "outputs": [
        {
          "output_type": "stream",
          "name": "stdout",
          "text": [
            "      desmotivado motivado muito desmotivado muito motivado pouco motivado\n",
            "A           0.160    0.000             0.720           0.00          0.120\n",
            "B           0.000    0.320             0.000           0.62          0.060\n",
            "C           0.160    0.180             0.000           0.02          0.640\n",
            "D           0.660    0.000             0.200           0.00          0.140\n",
            "E           0.000    0.620             0.000           0.16          0.220\n",
            "Total       0.196    0.224             0.184           0.16          0.236"
          ]
        }
      ],
      "source": [
        "tab_prop_row"
      ],
      "id": "cab533d9-885b-458f-b00f-0955bb2f27d8"
    },
    {
      "cell_type": "markdown",
      "metadata": {},
      "source": [
        "h- Confirme o item anterior usando a estatística $\\chi^2$"
      ],
      "id": "7323a8ae-32d9-41be-bff6-a28c1559c743"
    },
    {
      "cell_type": "code",
      "execution_count": null,
      "metadata": {},
      "outputs": [
        {
          "output_type": "stream",
          "name": "stdout",
          "text": [
            "[1] 375.0657"
          ]
        }
      ],
      "source": [
        "chi2 <- as.numeric(chi$statistic)\n",
        "\n",
        "chi2"
      ],
      "id": "a8ef75ee-5c11-4d66-8c14-6d2162857918"
    },
    {
      "cell_type": "markdown",
      "metadata": {},
      "source": [
        "i- Calcule os coeficientes Phi, de contingência e V de Cramer,\n",
        "confirmando se há ou não associação entre as variáveis."
      ],
      "id": "e1f9fdee-4b13-4cc2-adc8-e195350f6355"
    },
    {
      "cell_type": "code",
      "execution_count": null,
      "metadata": {},
      "outputs": [
        {
          "output_type": "stream",
          "name": "stdout",
          "text": [
            "[1] 1.224852"
          ]
        }
      ],
      "source": [
        "Phi(tab_abs[1:5,1:5])"
      ],
      "id": "e55fb128-5894-4d4a-bed7-31604061a2dc"
    },
    {
      "cell_type": "markdown",
      "metadata": {},
      "source": [
        "$Phi = \\sqrt{\\frac{\\chi^2}{n}}$"
      ],
      "id": "1a8b19af-9dde-4991-b065-e0c06f778b67"
    },
    {
      "cell_type": "code",
      "execution_count": null,
      "metadata": {},
      "outputs": [
        {
          "output_type": "stream",
          "name": "stdout",
          "text": [
            "[1] 1.224852"
          ]
        }
      ],
      "source": [
        "n <- nrow(df)\n",
        "\n",
        "# Coeficiente Phi\n",
        "sqrt(chi2 / n)"
      ],
      "id": "dbfb82b7-b952-42d5-a843-ed5094220aed"
    },
    {
      "cell_type": "code",
      "execution_count": null,
      "metadata": {},
      "outputs": [
        {
          "output_type": "stream",
          "name": "stdout",
          "text": [
            "[1] 0.7746238"
          ]
        }
      ],
      "source": [
        "# Coeficiente de contingência\n",
        "ContCoef(tab_abs[1:5,1:5])"
      ],
      "id": "4c219dc6-2813-4016-b040-559bdb02998e"
    },
    {
      "cell_type": "markdown",
      "metadata": {},
      "source": [
        "$C = \\sqrt{\\frac{\\chi^2}{\\chi^2 + n}}$"
      ],
      "id": "4c591eec-098c-40b2-9658-ead65a360b4c"
    },
    {
      "cell_type": "code",
      "execution_count": null,
      "metadata": {},
      "outputs": [
        {
          "output_type": "stream",
          "name": "stdout",
          "text": [
            "[1] 0.77"
          ]
        }
      ],
      "source": [
        "sqrt(chi2 / (n + chi2)) |> round(2)"
      ],
      "id": "343af156-e7a0-43e4-95df-c38c6794eeda"
    },
    {
      "cell_type": "code",
      "execution_count": null,
      "metadata": {},
      "outputs": [
        {
          "output_type": "stream",
          "name": "stdout",
          "text": [
            "[1] 0.612426"
          ]
        }
      ],
      "source": [
        "# Coeficiente V de Cramer\n",
        "CramerV(tab_abs[1:5,1:5])"
      ],
      "id": "8a65752e-74ee-4747-95ee-0ff1956bfa5a"
    },
    {
      "cell_type": "markdown",
      "metadata": {},
      "source": [
        "$V = \\sqrt{\\frac{\\chi^2}{n(q-1)}}$"
      ],
      "id": "60928145-b37f-4ff0-a2fe-cb9b6ba15fe9"
    },
    {
      "cell_type": "code",
      "execution_count": null,
      "metadata": {},
      "outputs": [
        {
          "output_type": "stream",
          "name": "stdout",
          "text": [
            "[1] 0.61"
          ]
        }
      ],
      "source": [
        "# (q-1)\n",
        "k <- min(nrow(tab_abs[1:5,1:5]), ncol(tab_abs[1:5,1:5])) - 1\n",
        "\n",
        "sqrt(chi2 / (n * k)) |> round(2)"
      ],
      "id": "8b9c5457-301e-4860-8001-ab0557c2d617"
    }
  ],
  "nbformat": 4,
  "nbformat_minor": 5,
  "metadata": {
    "kernelspec": {
      "display_name": "Python 3",
      "language": "python",
      "name": "python3"
    }
  }
}