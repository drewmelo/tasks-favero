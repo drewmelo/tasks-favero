{
  "cells": [
    {
      "cell_type": "markdown",
      "metadata": {},
      "source": [
        "# Exercício 3 (Capítulo 3) no R\n",
        "\n",
        "André Melo\n",
        "\n",
        "[![](https://colab.research.google.com/assets/colab-badge.svg)](https://colab.research.google.com/github/drewmelo/tasks-favero/blob/master/capitulo3/cap3_exerc7.ipynb)\n",
        "\n",
        "O arquivo ‘Motivação_Empresas.csv’ apresenta um banco de dados com as\n",
        "variáveis Empresa e Grau de Motivação, obtidas por meio de uma pesquisa\n",
        "realizada com 250 funcionários (50 respondentes para cada umas das 5\n",
        "empresas pesquisadas), com o intuito de avaliar o grau de motivação dos\n",
        "funcionários em relação a empresas, consideradas de grande porte. Dessa\n",
        "forma, pede-se:"
      ],
      "id": "48546cb7-4dc0-43f9-9496-cfa49242cc34"
    },
    {
      "cell_type": "code",
      "execution_count": null,
      "metadata": {},
      "outputs": [
        {
          "output_type": "stream",
          "name": "stderr",
          "text": [
            "Warning: package 'tidyr' was built under R version 4.3.3"
          ]
        },
        {
          "output_type": "stream",
          "name": "stderr",
          "text": [
            "Warning: package 'purrr' was built under R version 4.3.3"
          ]
        },
        {
          "output_type": "stream",
          "name": "stderr",
          "text": [
            "── Attaching core tidyverse packages ──────────────────────── tidyverse 2.0.0 ──\n",
            "✔ dplyr     1.1.4     ✔ readr     2.1.5\n",
            "✔ forcats   1.0.0     ✔ stringr   1.5.1\n",
            "✔ ggplot2   3.5.2     ✔ tibble    3.2.1\n",
            "✔ lubridate 1.9.3     ✔ tidyr     1.3.1\n",
            "✔ purrr     1.0.4     \n",
            "── Conflicts ────────────────────────────────────────── tidyverse_conflicts() ──\n",
            "✖ dplyr::filter() masks stats::filter()\n",
            "✖ dplyr::lag()    masks stats::lag()\n",
            "ℹ Use the conflicted package (<http://conflicted.r-lib.org/>) to force all conflicts to become errors"
          ]
        },
        {
          "output_type": "stream",
          "name": "stderr",
          "text": [
            "Warning: package 'DescTools' was built under R version 4.3.3"
          ]
        }
      ],
      "source": [
        "# Importação dos pacotes necessários\n",
        "library(tidyverse)"
      ],
      "id": "dff6f0af-9f1b-4583-864a-e19e76570586"
    },
    {
      "cell_type": "code",
      "execution_count": null,
      "metadata": {},
      "outputs": [
        {
          "output_type": "stream",
          "name": "stdout",
          "text": [
            "# A tibble: 250 × 2\n",
            "   empresa motivacao        \n",
            "   <chr>   <chr>            \n",
            " 1 A       muito desmotivado\n",
            " 2 A       muito desmotivado\n",
            " 3 A       muito desmotivado\n",
            " 4 A       muito desmotivado\n",
            " 5 A       desmotivado      \n",
            " 6 A       muito desmotivado\n",
            " 7 A       muito desmotivado\n",
            " 8 A       muito desmotivado\n",
            " 9 A       desmotivado      \n",
            "10 A       desmotivado      \n",
            "# ℹ 240 more rows"
          ]
        }
      ],
      "source": [
        "url <- \"https://raw.githubusercontent.com/caio-azevedo/estatistica_aplicada/refs/heads/main/Semana%201/Motiva%C3%A7%C3%A3o_Empresas.csv\"\n",
        "df <- read_csv(url, show_col_types = FALSE)\n",
        "# Visualização da base de dados 'Motivação Empresas'\n",
        "print(df)"
      ],
      "id": "184f92f1-46b1-4def-b6f9-00f3279de69c"
    },
    {
      "cell_type": "markdown",
      "metadata": {},
      "source": [
        "a- Construa as tabelas de distribuição conjunta de frequências para as\n",
        "variáveis ‘faixa_etaria’ e ‘inadimplencia’ (frequências absolutas,\n",
        "frequências relativas em relação ao total geral, frequências relativas\n",
        "em relação ao total de cada linha, frequências relativas em relação ao\n",
        "total de cada coluna e frequências esperadas)."
      ],
      "id": "7e7ee0a9-59b5-4d8b-8370-d21dee9b0313"
    },
    {
      "cell_type": "code",
      "execution_count": null,
      "metadata": {},
      "outputs": [
        {
          "output_type": "stream",
          "name": "stdout",
          "text": [
            "       motivacao\n",
            "empresa desmotivado motivado muito desmotivado muito motivado pouco motivado\n",
            "  A               8        0                36              0              6\n",
            "  B               0       16                 0             31              3\n",
            "  C               8        9                 0              1             32\n",
            "  D              33        0                10              0              7\n",
            "  E               0       31                 0              8             11\n",
            "  Total          49       56                46             40             59\n",
            "       motivacao\n",
            "empresa Total\n",
            "  A        50\n",
            "  B        50\n",
            "  C        50\n",
            "  D        50\n",
            "  E        50\n",
            "  Total   250"
          ]
        }
      ],
      "source": [
        "tab_abs <- with(df, table(empresa, motivacao)) |> addmargins()\n",
        "\n",
        "# Renomear 'Sum' (padrão) para 'Total'\n",
        "rownames(tab_abs)[nrow(tab_abs)] <- \"Total\"\n",
        "colnames(tab_abs)[ncol(tab_abs)] <- \"Total\"\n",
        "\n",
        "tab_abs"
      ],
      "id": "75e0e8bf-c0f7-4bbe-89c2-727a5dcb4adb"
    },
    {
      "cell_type": "code",
      "execution_count": null,
      "metadata": {},
      "outputs": [
        {
          "output_type": "stream",
          "name": "stdout",
          "text": [
            "       motivacao\n",
            "empresa desmotivado motivado muito desmotivado muito motivado pouco motivado\n",
            "  A           0.032    0.000             0.144          0.000          0.024\n",
            "  B           0.000    0.064             0.000          0.124          0.012\n",
            "  C           0.032    0.036             0.000          0.004          0.128\n",
            "  D           0.132    0.000             0.040          0.000          0.028\n",
            "  E           0.000    0.124             0.000          0.032          0.044\n",
            "  Total       0.196    0.224             0.184          0.160          0.236\n",
            "       motivacao\n",
            "empresa Total\n",
            "  A     0.200\n",
            "  B     0.200\n",
            "  C     0.200\n",
            "  D     0.200\n",
            "  E     0.200\n",
            "  Total 1.000"
          ]
        }
      ],
      "source": [
        "tab_prop_all <- addmargins(prop.table(tab_abs[1:5, 1:5]))\n",
        "\n",
        "# Renomear 'Sum' (padrão) para 'Total'\n",
        "rownames(tab_prop_all)[nrow(tab_prop_all)] <- \"Total\"\n",
        "colnames(tab_prop_all)[ncol(tab_prop_all)] <- \"Total\"\n",
        "\n",
        "tab_prop_all"
      ],
      "id": "100e2663-fbf6-40e6-87d3-8c56ecdcf5d2"
    },
    {
      "cell_type": "code",
      "execution_count": null,
      "metadata": {},
      "outputs": [
        {
          "output_type": "stream",
          "name": "stdout",
          "text": [
            "      desmotivado motivado muito desmotivado muito motivado pouco motivado\n",
            "A           0.160    0.000             0.720           0.00          0.120\n",
            "B           0.000    0.320             0.000           0.62          0.060\n",
            "C           0.160    0.180             0.000           0.02          0.640\n",
            "D           0.660    0.000             0.200           0.00          0.140\n",
            "E           0.000    0.620             0.000           0.16          0.220\n",
            "Total       0.196    0.224             0.184           0.16          0.236"
          ]
        }
      ],
      "source": [
        "# Linha \"Total\" = proporção global por coluna\n",
        "Total <- colSums(tab_abs[1:5,1:5]) / sum(tab_abs[1:5,1:5])\n",
        "\n",
        "# Proporção por linha e junção com objeto Total\n",
        "tab_prop_row <- prop.table(tab_abs[1:5,1:5], margin = 1) |> rbind(Total) |> round(3)\n",
        "\n",
        "tab_prop_row"
      ],
      "id": "6917bc7b-030a-4e89-8f4c-a194d90351f9"
    },
    {
      "cell_type": "code",
      "execution_count": null,
      "metadata": {},
      "outputs": [
        {
          "output_type": "stream",
          "name": "stdout",
          "text": [
            "  desmotivado motivado muito desmotivado muito motivado pouco motivado Total\n",
            "A       0.163    0.000             0.783          0.000          0.102   0.2\n",
            "B       0.000    0.286             0.000          0.775          0.051   0.2\n",
            "C       0.163    0.161             0.000          0.025          0.542   0.2\n",
            "D       0.673    0.000             0.217          0.000          0.119   0.2\n",
            "E       0.000    0.554             0.000          0.200          0.186   0.2"
          ]
        }
      ],
      "source": [
        "# Coluna \"Total\" = proporção global por linha\n",
        "Total <- rowSums(tab_abs[1:5,1:5]) / sum(tab_abs[1:5,1:5])\n",
        "\n",
        "# Proporção por coluna e junção com objeto Total\n",
        "tab_prop_col <- prop.table(tab_abs[1:5,1:5], margin = 2) |> cbind(Total) |> round(3)\n",
        "\n",
        "tab_prop_col"
      ],
      "id": "b7e4a66f-3a55-429e-a507-73b660d503d8"
    },
    {
      "cell_type": "code",
      "execution_count": null,
      "metadata": {},
      "outputs": [
        {
          "output_type": "stream",
          "name": "stdout",
          "text": [
            "\n",
            "    Pearson's Chi-squared test\n",
            "\n",
            "data:  tab_abs[1:5, 1:5]\n",
            "X-squared = 375.07, df = 16, p-value < 2.2e-16"
          ]
        }
      ],
      "source": [
        "# Teste qui-quadrado e esperados\n",
        "chi <- chisq.test(tab_abs[1:5,1:5])\n",
        "\n",
        "chi"
      ],
      "id": "80722bcc-37c5-4dbb-b2a4-38fc1aa6c409"
    },
    {
      "cell_type": "code",
      "execution_count": null,
      "metadata": {},
      "outputs": [
        {
          "output_type": "stream",
          "name": "stdout",
          "text": [
            "       motivacao\n",
            "empresa desmotivado motivado muito desmotivado muito motivado pouco motivado\n",
            "  A             9.8     11.2               9.2              8           11.8\n",
            "  B             9.8     11.2               9.2              8           11.8\n",
            "  C             9.8     11.2               9.2              8           11.8\n",
            "  D             9.8     11.2               9.2              8           11.8\n",
            "  E             9.8     11.2               9.2              8           11.8\n",
            "  Total        49.0     56.0              46.0             40           59.0\n",
            "       motivacao\n",
            "empresa Total\n",
            "  A        50\n",
            "  B        50\n",
            "  C        50\n",
            "  D        50\n",
            "  E        50\n",
            "  Total   250"
          ]
        }
      ],
      "source": [
        "tab_esp <- chi$expected |> addmargins()\n",
        "\n",
        "rownames(tab_esp)[nrow(tab_esp)] <- \"Total\"\n",
        "colnames(tab_esp)[ncol(tab_esp)] <- \"Total\"\n",
        "\n",
        "tab_esp"
      ],
      "id": "e27c834b-4484-48b9-b187-ae4813ab5a6f"
    },
    {
      "cell_type": "markdown",
      "metadata": {},
      "source": [
        "b- Calcule a porcentagem de respondentes muito desmotivados."
      ],
      "id": "3496d16b-ea22-4fd6-9fe0-34b3ab6ec22d"
    },
    {
      "cell_type": "code",
      "execution_count": null,
      "metadata": {},
      "outputs": [
        {
          "output_type": "stream",
          "name": "stdout",
          "text": [
            "A porcentagem de respondentes muito desmotivados é de 18.4 %"
          ]
        }
      ],
      "source": [
        "cat(\"A porcentagem de respondentes muito desmotivados é de\",\n",
        "    round(100 * tab_prop_all[\"Total\",\"muito desmotivado\"], 2), \"%\")"
      ],
      "id": "9829a9b3-320b-49e2-8da0-3c212c279135"
    },
    {
      "cell_type": "markdown",
      "metadata": {},
      "source": [
        "c- Calcule a porcentagem de respondentes da empresa A e que estão muito\n",
        "desmotivados."
      ],
      "id": "d9fcfae7-11c3-433c-babc-99fbc04e6e6e"
    },
    {
      "cell_type": "code",
      "execution_count": null,
      "metadata": {},
      "outputs": [
        {
          "output_type": "stream",
          "name": "stdout",
          "text": [
            "A porcentagem de respondentes da empresa A e que estão muito desmotivados é de 14.4 %"
          ]
        }
      ],
      "source": [
        "cat(\"A porcentagem de respondentes da empresa A e que estão muito desmotivados é de\",\n",
        "    round(100 * tab_prop_all[\"A\",\"muito desmotivado\"], 2), \"%\")"
      ],
      "id": "de364bfc-a44c-4a44-8102-4f5b2b442840"
    },
    {
      "cell_type": "markdown",
      "metadata": {},
      "source": [
        "d- Calcule a porcentagem de respondentes motivados na empresa D."
      ],
      "id": "984509b4-1d01-4107-86a9-d3e8ba6fc790"
    },
    {
      "cell_type": "code",
      "execution_count": null,
      "metadata": {},
      "outputs": [
        {
          "output_type": "stream",
          "name": "stdout",
          "text": [
            "A porcentagem de respondentes motivados na empresa D é de 0 %"
          ]
        }
      ],
      "source": [
        "cat(\"A porcentagem de respondentes motivados na empresa D é de\",\n",
        "    round(100 * tab_prop_row[\"D\",\"motivado\"], 2), \"%\")"
      ],
      "id": "1c34b7b5-4588-4d21-8e89-684aa5fe365a"
    },
    {
      "cell_type": "markdown",
      "metadata": {},
      "source": [
        "e- Calcule a porcentagem de respondentes pouco motivados na empresa C."
      ],
      "id": "a27a283a-e783-4a9a-9d4d-e6a8f1ab1699"
    },
    {
      "cell_type": "code",
      "execution_count": null,
      "metadata": {},
      "outputs": [
        {
          "output_type": "stream",
          "name": "stdout",
          "text": [
            "A porcentagem de respondentes pouco motivados na empresa C é de 64 %"
          ]
        }
      ],
      "source": [
        "cat(\"A porcentagem de respondentes pouco motivados na empresa C é de\",\n",
        "    round(100 * tab_prop_row[\"C\",\"pouco motivado\"], 2), \"%\")"
      ],
      "id": "0d73dbe4-9c1d-4b9a-ac7b-c7c7aaf9d1a8"
    },
    {
      "cell_type": "markdown",
      "metadata": {},
      "source": [
        "f- Determine, dentre os respondentes que estão muito motivados, a\n",
        "porcentagem daqueles que pertencem à empresa B."
      ],
      "id": "f60cddb1-94f7-40b0-acce-416634a439d0"
    },
    {
      "cell_type": "code",
      "execution_count": null,
      "metadata": {},
      "outputs": [
        {
          "output_type": "stream",
          "name": "stdout",
          "text": [
            "Dentre os respondentes que estão muito motivados, a porcentagem daqueles que pertencem à empresa B é de 77.5 %"
          ]
        }
      ],
      "source": [
        "cat(\"Dentre os respondentes que estão muito motivados, a porcentagem daqueles que pertencem à empresa B é de\",\n",
        "    round(100 * tab_prop_col[\"B\",\"muito motivado\"], 2), \"%\")"
      ],
      "id": "065d04cf-7816-42f6-ad13-6e0c2d062c26"
    },
    {
      "cell_type": "markdown",
      "metadata": {},
      "source": [
        "g- Verifique se há indícios de dependência entre as variáveis."
      ],
      "id": "c4c59708-a97b-44c9-9492-df906dd8e233"
    },
    {
      "cell_type": "code",
      "execution_count": null,
      "metadata": {},
      "outputs": [
        {
          "output_type": "stream",
          "name": "stdout",
          "text": [
            "      desmotivado motivado muito desmotivado muito motivado pouco motivado\n",
            "A           0.160    0.000             0.720           0.00          0.120\n",
            "B           0.000    0.320             0.000           0.62          0.060\n",
            "C           0.160    0.180             0.000           0.02          0.640\n",
            "D           0.660    0.000             0.200           0.00          0.140\n",
            "E           0.000    0.620             0.000           0.16          0.220\n",
            "Total       0.196    0.224             0.184           0.16          0.236"
          ]
        }
      ],
      "source": [
        "tab_prop_row"
      ],
      "id": "6f720201-0246-4386-aa4d-999736de207f"
    },
    {
      "cell_type": "markdown",
      "metadata": {},
      "source": [
        "h- Confirme o item anterior usando a estatística $\\chi^2$"
      ],
      "id": "fb034ad1-995b-45ec-a9e0-1fe33c2eca67"
    },
    {
      "cell_type": "code",
      "execution_count": null,
      "metadata": {},
      "outputs": [
        {
          "output_type": "stream",
          "name": "stdout",
          "text": [
            "[1] 375.0657"
          ]
        }
      ],
      "source": [
        "chi2 <- as.numeric(chi$statistic)\n",
        "\n",
        "chi2"
      ],
      "id": "67a60fe7-cf5e-4ce0-ba95-c13e9e3be94e"
    },
    {
      "cell_type": "markdown",
      "metadata": {},
      "source": [
        "i- Calcule os coeficientes Phi, de contingência e V de Cramer,\n",
        "confirmando se há ou não associação entre as variáveis."
      ],
      "id": "f318e02d-3c0b-49fc-8565-efe91998f4ee"
    },
    {
      "cell_type": "code",
      "execution_count": null,
      "metadata": {},
      "outputs": [
        {
          "output_type": "stream",
          "name": "stdout",
          "text": [
            "[1] 1.224852"
          ]
        }
      ],
      "source": [
        "Phi(tab_abs[1:5,1:5])"
      ],
      "id": "1d2eacc2-3893-4291-a2f9-49ba350cb464"
    },
    {
      "cell_type": "markdown",
      "metadata": {},
      "source": [
        "$Phi = \\sqrt{\\frac{\\chi^2}{n}}$"
      ],
      "id": "26c2ebff-a97d-4df5-87f2-0e64c3066a29"
    },
    {
      "cell_type": "code",
      "execution_count": null,
      "metadata": {},
      "outputs": [
        {
          "output_type": "stream",
          "name": "stdout",
          "text": [
            "[1] 1.224852"
          ]
        }
      ],
      "source": [
        "n <- nrow(df)\n",
        "\n",
        "# Coeficiente Phi\n",
        "sqrt(chi2 / n)"
      ],
      "id": "2f5bb284-a254-4c28-a1ae-4430237ceb15"
    },
    {
      "cell_type": "code",
      "execution_count": null,
      "metadata": {},
      "outputs": [
        {
          "output_type": "stream",
          "name": "stdout",
          "text": [
            "[1] 0.7746238"
          ]
        }
      ],
      "source": [
        "# Coeficiente de contingência\n",
        "ContCoef(tab_abs[1:5,1:5])"
      ],
      "id": "ad353bbf-0840-492a-89c1-22efdf8bce0c"
    },
    {
      "cell_type": "markdown",
      "metadata": {},
      "source": [
        "$C = \\sqrt{\\frac{\\chi^2}{\\chi^2 + n}}$"
      ],
      "id": "3b6ff073-0da9-4d7a-8eb2-94d0deda77e7"
    },
    {
      "cell_type": "code",
      "execution_count": null,
      "metadata": {},
      "outputs": [
        {
          "output_type": "stream",
          "name": "stdout",
          "text": [
            "[1] 0.77"
          ]
        }
      ],
      "source": [
        "sqrt(chi2 / (n + chi2)) |> round(2)"
      ],
      "id": "98f193a2-2c33-4cb5-a673-0185f40bcb21"
    },
    {
      "cell_type": "code",
      "execution_count": null,
      "metadata": {},
      "outputs": [
        {
          "output_type": "stream",
          "name": "stdout",
          "text": [
            "[1] 0.612426"
          ]
        }
      ],
      "source": [
        "# Coeficiente V de Cramer\n",
        "CramerV(tab_abs[1:5,1:5])"
      ],
      "id": "261c0669-66b6-404c-9c7d-ed1714acb1be"
    },
    {
      "cell_type": "markdown",
      "metadata": {},
      "source": [
        "$V = \\sqrt{\\frac{\\chi^2}{n(q-1)}}$"
      ],
      "id": "ebd8de00-8ccf-4fd9-b13f-9c60290ece6f"
    },
    {
      "cell_type": "code",
      "execution_count": null,
      "metadata": {},
      "outputs": [
        {
          "output_type": "stream",
          "name": "stdout",
          "text": [
            "[1] 0.61"
          ]
        }
      ],
      "source": [
        "# (q-1)\n",
        "k <- min(nrow(tab_abs[1:5,1:5]), ncol(tab_abs[1:5,1:5])) - 1\n",
        "\n",
        "sqrt(chi2 / (n * k)) |> round(2)"
      ],
      "id": "79639b51-a2ef-4c57-a1d5-920355e6a635"
    }
  ],
  "nbformat": 4,
  "nbformat_minor": 5,
  "metadata": {
    "kernelspec": {
      "display_name": "Python 3",
      "language": "python",
      "name": "python3"
    }
  }
}