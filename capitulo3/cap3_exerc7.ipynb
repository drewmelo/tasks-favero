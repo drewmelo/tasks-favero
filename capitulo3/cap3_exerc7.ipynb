{
  "cells": [
    {
      "cell_type": "markdown",
      "metadata": {},
      "source": [
        "# Exercício 3 (Capítulo 3) no R\n",
        "\n",
        "André Melo\n",
        "\n",
        "[![Open In\n",
        "Colab](https://colab.research.google.com/assets/colab-badge.svg)](https://colab.research.google.com/github/drewmelo/tasks-favero/blob/main/C:\\Users\\andre\\Documents\\UFSCar\\Estatística Aplicada\\tasks-favero\\capitulo3\\cap3_exerc7.ipynb)\n",
        "\n",
        "O arquivo ‘Motivação_Empresas.csv’ apresenta um banco de dados com as\n",
        "variáveis Empresa e Grau de Motivação, obtidas por meio de uma pesquisa\n",
        "realizada com 250 funcionários (50 respondentes para cada umas das 5\n",
        "empresas pesquisadas), com o intuito de avaliar o grau de motivação dos\n",
        "funcionários em relação a empresas, consideradas de grande porte. Dessa\n",
        "forma, pede-se:"
      ],
      "id": "c8fcb1f0-cff0-4c81-a3ae-d3336e37db2f"
    },
    {
      "cell_type": "code",
      "execution_count": null,
      "metadata": {},
      "outputs": [
        {
          "output_type": "stream",
          "name": "stderr",
          "text": [
            "Warning: package 'tidyr' was built under R version 4.3.3"
          ]
        },
        {
          "output_type": "stream",
          "name": "stderr",
          "text": [
            "Warning: package 'purrr' was built under R version 4.3.3"
          ]
        },
        {
          "output_type": "stream",
          "name": "stderr",
          "text": [
            "── Attaching core tidyverse packages ──────────────────────── tidyverse 2.0.0 ──\n",
            "✔ dplyr     1.1.4     ✔ readr     2.1.5\n",
            "✔ forcats   1.0.0     ✔ stringr   1.5.1\n",
            "✔ ggplot2   3.5.2     ✔ tibble    3.2.1\n",
            "✔ lubridate 1.9.3     ✔ tidyr     1.3.1\n",
            "✔ purrr     1.0.4     \n",
            "── Conflicts ────────────────────────────────────────── tidyverse_conflicts() ──\n",
            "✖ dplyr::filter() masks stats::filter()\n",
            "✖ dplyr::lag()    masks stats::lag()\n",
            "ℹ Use the conflicted package (<http://conflicted.r-lib.org/>) to force all conflicts to become errors"
          ]
        },
        {
          "output_type": "stream",
          "name": "stderr",
          "text": [
            "Warning: package 'DescTools' was built under R version 4.3.3"
          ]
        }
      ],
      "source": [
        "# Importação dos pacotes necessários\n",
        "library(tidyverse)"
      ],
      "id": "27487f5b-c133-4af8-8814-945d1486d0ba"
    },
    {
      "cell_type": "code",
      "execution_count": null,
      "metadata": {},
      "outputs": [
        {
          "output_type": "stream",
          "name": "stdout",
          "text": [
            "# A tibble: 250 × 2\n",
            "   empresa motivacao        \n",
            "   <chr>   <chr>            \n",
            " 1 A       muito desmotivado\n",
            " 2 A       muito desmotivado\n",
            " 3 A       muito desmotivado\n",
            " 4 A       muito desmotivado\n",
            " 5 A       desmotivado      \n",
            " 6 A       muito desmotivado\n",
            " 7 A       muito desmotivado\n",
            " 8 A       muito desmotivado\n",
            " 9 A       desmotivado      \n",
            "10 A       desmotivado      \n",
            "# ℹ 240 more rows"
          ]
        }
      ],
      "source": [
        "url <- \"https://raw.githubusercontent.com/caio-azevedo/estatistica_aplicada/refs/heads/main/Semana%201/Motiva%C3%A7%C3%A3o_Empresas.csv\"\n",
        "df <- read_csv(url, show_col_types = FALSE)\n",
        "# Visualização da base de dados 'Motivação Empresas'\n",
        "print(df)"
      ],
      "id": "b1a3552b-34fc-45a3-8de2-101cccc66fb8"
    },
    {
      "cell_type": "markdown",
      "metadata": {},
      "source": [
        "a- Construa as tabelas de distribuição conjunta de frequências para as\n",
        "variáveis ‘faixa_etaria’ e ‘inadimplencia’ (frequências absolutas,\n",
        "frequências relativas em relação ao total geral, frequências relativas\n",
        "em relação ao total de cada linha, frequências relativas em relação ao\n",
        "total de cada coluna e frequências esperadas)."
      ],
      "id": "8bec6ade-3f81-4578-9d25-efddf69e3a2f"
    },
    {
      "cell_type": "code",
      "execution_count": null,
      "metadata": {},
      "outputs": [
        {
          "output_type": "stream",
          "name": "stdout",
          "text": [
            "       motivacao\n",
            "empresa desmotivado motivado muito desmotivado muito motivado pouco motivado\n",
            "  A               8        0                36              0              6\n",
            "  B               0       16                 0             31              3\n",
            "  C               8        9                 0              1             32\n",
            "  D              33        0                10              0              7\n",
            "  E               0       31                 0              8             11\n",
            "  Total          49       56                46             40             59\n",
            "       motivacao\n",
            "empresa Total\n",
            "  A        50\n",
            "  B        50\n",
            "  C        50\n",
            "  D        50\n",
            "  E        50\n",
            "  Total   250"
          ]
        }
      ],
      "source": [
        "tab_abs <- with(df, table(empresa, motivacao)) |> addmargins()\n",
        "\n",
        "# Renomear 'Sum' (padrão) para 'Total'\n",
        "rownames(tab_abs)[nrow(tab_abs)] <- \"Total\"\n",
        "colnames(tab_abs)[ncol(tab_abs)] <- \"Total\"\n",
        "\n",
        "tab_abs"
      ],
      "id": "3319043a-98af-4692-9834-f2da16bbb439"
    },
    {
      "cell_type": "code",
      "execution_count": null,
      "metadata": {},
      "outputs": [
        {
          "output_type": "stream",
          "name": "stdout",
          "text": [
            "       motivacao\n",
            "empresa desmotivado motivado muito desmotivado muito motivado pouco motivado\n",
            "  A           0.032    0.000             0.144          0.000          0.024\n",
            "  B           0.000    0.064             0.000          0.124          0.012\n",
            "  C           0.032    0.036             0.000          0.004          0.128\n",
            "  D           0.132    0.000             0.040          0.000          0.028\n",
            "  E           0.000    0.124             0.000          0.032          0.044\n",
            "  Total       0.196    0.224             0.184          0.160          0.236\n",
            "       motivacao\n",
            "empresa Total\n",
            "  A     0.200\n",
            "  B     0.200\n",
            "  C     0.200\n",
            "  D     0.200\n",
            "  E     0.200\n",
            "  Total 1.000"
          ]
        }
      ],
      "source": [
        "tab_prop_all <- addmargins(prop.table(tab_abs[1:5, 1:5]))\n",
        "\n",
        "# Renomear 'Sum' (padrão) para 'Total'\n",
        "rownames(tab_prop_all)[nrow(tab_prop_all)] <- \"Total\"\n",
        "colnames(tab_prop_all)[ncol(tab_prop_all)] <- \"Total\"\n",
        "\n",
        "tab_prop_all"
      ],
      "id": "a9e031d2-4528-40b7-b1c9-e22c83586149"
    },
    {
      "cell_type": "code",
      "execution_count": null,
      "metadata": {},
      "outputs": [
        {
          "output_type": "stream",
          "name": "stdout",
          "text": [
            "      desmotivado motivado muito desmotivado muito motivado pouco motivado\n",
            "A           0.160    0.000             0.720           0.00          0.120\n",
            "B           0.000    0.320             0.000           0.62          0.060\n",
            "C           0.160    0.180             0.000           0.02          0.640\n",
            "D           0.660    0.000             0.200           0.00          0.140\n",
            "E           0.000    0.620             0.000           0.16          0.220\n",
            "Total       0.196    0.224             0.184           0.16          0.236"
          ]
        }
      ],
      "source": [
        "# Linha \"Total\" = proporção global por coluna\n",
        "Total <- colSums(tab_abs[1:5,1:5]) / sum(tab_abs[1:5,1:5])\n",
        "\n",
        "# Proporção por linha e junção com objeto Total\n",
        "tab_prop_row <- prop.table(tab_abs[1:5,1:5], margin = 1) |> rbind(Total) |> round(3)\n",
        "\n",
        "tab_prop_row"
      ],
      "id": "9ae57298-1497-4203-af3f-6db7f4df4427"
    },
    {
      "cell_type": "code",
      "execution_count": null,
      "metadata": {},
      "outputs": [
        {
          "output_type": "stream",
          "name": "stdout",
          "text": [
            "  desmotivado motivado muito desmotivado muito motivado pouco motivado Total\n",
            "A       0.163    0.000             0.783          0.000          0.102   0.2\n",
            "B       0.000    0.286             0.000          0.775          0.051   0.2\n",
            "C       0.163    0.161             0.000          0.025          0.542   0.2\n",
            "D       0.673    0.000             0.217          0.000          0.119   0.2\n",
            "E       0.000    0.554             0.000          0.200          0.186   0.2"
          ]
        }
      ],
      "source": [
        "# Coluna \"Total\" = proporção global por linha\n",
        "Total <- rowSums(tab_abs[1:5,1:5]) / sum(tab_abs[1:5,1:5])\n",
        "\n",
        "# Proporção por coluna e junção com objeto Total\n",
        "tab_prop_col <- prop.table(tab_abs[1:5,1:5], margin = 2) |> cbind(Total) |> round(3)\n",
        "\n",
        "tab_prop_col"
      ],
      "id": "fc256543-3c94-4f40-97e6-fed9e7c4692f"
    },
    {
      "cell_type": "code",
      "execution_count": null,
      "metadata": {},
      "outputs": [
        {
          "output_type": "stream",
          "name": "stdout",
          "text": [
            "\n",
            "    Pearson's Chi-squared test\n",
            "\n",
            "data:  tab_abs[1:5, 1:5]\n",
            "X-squared = 375.07, df = 16, p-value < 2.2e-16"
          ]
        }
      ],
      "source": [
        "# Teste qui-quadrado e esperados\n",
        "chi <- chisq.test(tab_abs[1:5,1:5])\n",
        "\n",
        "chi"
      ],
      "id": "07b52be4-f16f-4dcd-b0c8-c1bcceb99a51"
    },
    {
      "cell_type": "code",
      "execution_count": null,
      "metadata": {},
      "outputs": [
        {
          "output_type": "stream",
          "name": "stdout",
          "text": [
            "       motivacao\n",
            "empresa desmotivado motivado muito desmotivado muito motivado pouco motivado\n",
            "  A             9.8     11.2               9.2              8           11.8\n",
            "  B             9.8     11.2               9.2              8           11.8\n",
            "  C             9.8     11.2               9.2              8           11.8\n",
            "  D             9.8     11.2               9.2              8           11.8\n",
            "  E             9.8     11.2               9.2              8           11.8\n",
            "  Total        49.0     56.0              46.0             40           59.0\n",
            "       motivacao\n",
            "empresa Total\n",
            "  A        50\n",
            "  B        50\n",
            "  C        50\n",
            "  D        50\n",
            "  E        50\n",
            "  Total   250"
          ]
        }
      ],
      "source": [
        "tab_esp <- chi$expected |> addmargins()\n",
        "\n",
        "rownames(tab_esp)[nrow(tab_esp)] <- \"Total\"\n",
        "colnames(tab_esp)[ncol(tab_esp)] <- \"Total\"\n",
        "\n",
        "tab_esp"
      ],
      "id": "dc45b4d7-2e31-4687-9059-2bf663764c95"
    },
    {
      "cell_type": "markdown",
      "metadata": {},
      "source": [
        "b- Calcule a porcentagem de respondentes muito desmotivados."
      ],
      "id": "425abdfc-986e-4546-8a99-46ca4f56767b"
    },
    {
      "cell_type": "code",
      "execution_count": null,
      "metadata": {},
      "outputs": [
        {
          "output_type": "stream",
          "name": "stdout",
          "text": [
            "A porcentagem de respondentes muito desmotivados é de 18.4 %"
          ]
        }
      ],
      "source": [
        "cat(\"A porcentagem de respondentes muito desmotivados é de\",\n",
        "    round(100 * tab_prop_all[\"Total\",\"muito desmotivado\"], 2), \"%\")"
      ],
      "id": "0d63aa88-657a-4da9-86a3-fc3c67cbd0fc"
    },
    {
      "cell_type": "markdown",
      "metadata": {},
      "source": [
        "c- Calcule a porcentagem de respondentes da empresa A e que estão muito\n",
        "desmotivados."
      ],
      "id": "b25ac476-98d5-406d-9d69-4ed3e36b507c"
    },
    {
      "cell_type": "code",
      "execution_count": null,
      "metadata": {},
      "outputs": [
        {
          "output_type": "stream",
          "name": "stdout",
          "text": [
            "A porcentagem de respondentes da empresa A e que estão muito desmotivados é de 14.4 %"
          ]
        }
      ],
      "source": [
        "cat(\"A porcentagem de respondentes da empresa A e que estão muito desmotivados é de\",\n",
        "    round(100 * tab_prop_all[\"A\",\"muito desmotivado\"], 2), \"%\")"
      ],
      "id": "c7fae8f4-cd6c-4c04-af9e-1d9aa8c46345"
    },
    {
      "cell_type": "markdown",
      "metadata": {},
      "source": [
        "d- Calcule a porcentagem de respondentes motivados na empresa D."
      ],
      "id": "6f49cbab-3d2c-418e-8b9b-14f40c87c508"
    },
    {
      "cell_type": "code",
      "execution_count": null,
      "metadata": {},
      "outputs": [
        {
          "output_type": "stream",
          "name": "stdout",
          "text": [
            "A porcentagem de respondentes motivados na empresa D é de 0 %"
          ]
        }
      ],
      "source": [
        "cat(\"A porcentagem de respondentes motivados na empresa D é de\",\n",
        "    round(100 * tab_prop_row[\"D\",\"motivado\"], 2), \"%\")"
      ],
      "id": "675d0cec-9710-4e80-ab82-410ae4a4e6b0"
    },
    {
      "cell_type": "markdown",
      "metadata": {},
      "source": [
        "e- Calcule a porcentagem de respondentes pouco motivados na empresa C."
      ],
      "id": "8f22e0d6-99f3-457a-87f6-0b999d1b5c8c"
    },
    {
      "cell_type": "code",
      "execution_count": null,
      "metadata": {},
      "outputs": [
        {
          "output_type": "stream",
          "name": "stdout",
          "text": [
            "A porcentagem de respondentes pouco motivados na empresa C é de 64 %"
          ]
        }
      ],
      "source": [
        "cat(\"A porcentagem de respondentes pouco motivados na empresa C é de\",\n",
        "    round(100 * tab_prop_row[\"C\",\"pouco motivado\"], 2), \"%\")"
      ],
      "id": "79c65576-bb32-4370-8d90-1e2c1e4b0010"
    },
    {
      "cell_type": "markdown",
      "metadata": {},
      "source": [
        "f- Determine, dentre os respondentes que estão muito motivados, a\n",
        "porcentagem daqueles que pertencem à empresa B."
      ],
      "id": "8aca730c-7165-41e8-8e8a-3ce67fc45886"
    },
    {
      "cell_type": "code",
      "execution_count": null,
      "metadata": {},
      "outputs": [
        {
          "output_type": "stream",
          "name": "stdout",
          "text": [
            "Dentre os respondentes que estão muito motivados, a porcentagem daqueles que pertencem à empresa B é de 77.5 %"
          ]
        }
      ],
      "source": [
        "cat(\"Dentre os respondentes que estão muito motivados, a porcentagem daqueles que pertencem à empresa B é de\",\n",
        "    round(100 * tab_prop_col[\"B\",\"muito motivado\"], 2), \"%\")"
      ],
      "id": "722f136a-dbff-411a-8771-9a35644aef9b"
    },
    {
      "cell_type": "markdown",
      "metadata": {},
      "source": [
        "g- Verifique se há indícios de dependência entre as variáveis."
      ],
      "id": "62fe1c4e-c194-4b6b-b3c6-a359f7990a6f"
    },
    {
      "cell_type": "code",
      "execution_count": null,
      "metadata": {},
      "outputs": [
        {
          "output_type": "stream",
          "name": "stdout",
          "text": [
            "      desmotivado motivado muito desmotivado muito motivado pouco motivado\n",
            "A           0.160    0.000             0.720           0.00          0.120\n",
            "B           0.000    0.320             0.000           0.62          0.060\n",
            "C           0.160    0.180             0.000           0.02          0.640\n",
            "D           0.660    0.000             0.200           0.00          0.140\n",
            "E           0.000    0.620             0.000           0.16          0.220\n",
            "Total       0.196    0.224             0.184           0.16          0.236"
          ]
        }
      ],
      "source": [
        "tab_prop_row"
      ],
      "id": "5b621c00-c688-4591-9704-d9a756e95580"
    },
    {
      "cell_type": "markdown",
      "metadata": {},
      "source": [
        "h- Confirme o item anterior usando a estatística $\\chi^2$"
      ],
      "id": "70f4497b-38e3-4df3-9d7a-9440027c67ab"
    },
    {
      "cell_type": "code",
      "execution_count": null,
      "metadata": {},
      "outputs": [
        {
          "output_type": "stream",
          "name": "stdout",
          "text": [
            "[1] 375.0657"
          ]
        }
      ],
      "source": [
        "chi2 <- as.numeric(chi$statistic)\n",
        "\n",
        "chi2"
      ],
      "id": "b59f0a04-6877-42cd-85a9-6044395c4c06"
    },
    {
      "cell_type": "markdown",
      "metadata": {},
      "source": [
        "i- Calcule os coeficientes Phi, de contingência e V de Cramer,\n",
        "confirmando se há ou não associação entre as variáveis."
      ],
      "id": "02f3eeb2-eeae-483a-831c-abe995b351ef"
    },
    {
      "cell_type": "code",
      "execution_count": null,
      "metadata": {},
      "outputs": [
        {
          "output_type": "stream",
          "name": "stdout",
          "text": [
            "[1] 1.224852"
          ]
        }
      ],
      "source": [
        "Phi(tab_abs[1:5,1:5])"
      ],
      "id": "c670344e-6a7f-4475-8c74-b9f454f6a47f"
    },
    {
      "cell_type": "markdown",
      "metadata": {},
      "source": [
        "$Phi = \\sqrt{\\frac{\\chi^2}{n}}$"
      ],
      "id": "8767ca3b-1c71-4888-92ae-859ab525a1ab"
    },
    {
      "cell_type": "code",
      "execution_count": null,
      "metadata": {},
      "outputs": [
        {
          "output_type": "stream",
          "name": "stdout",
          "text": [
            "[1] 1.224852"
          ]
        }
      ],
      "source": [
        "n <- nrow(df)\n",
        "\n",
        "# Coeficiente Phi\n",
        "sqrt(chi2 / n)"
      ],
      "id": "36b9a693-7182-44ba-9f0c-cdf6906f44b8"
    },
    {
      "cell_type": "code",
      "execution_count": null,
      "metadata": {},
      "outputs": [
        {
          "output_type": "stream",
          "name": "stdout",
          "text": [
            "[1] 0.7746238"
          ]
        }
      ],
      "source": [
        "# Coeficiente de contingência\n",
        "ContCoef(tab_abs[1:5,1:5])"
      ],
      "id": "c6adbd7b-a214-48db-af42-35df75473750"
    },
    {
      "cell_type": "markdown",
      "metadata": {},
      "source": [
        "$C = \\sqrt{\\frac{\\chi^2}{\\chi^2 + n}}$"
      ],
      "id": "2bb90f4d-15e0-4a88-b31c-ff5058257f4f"
    },
    {
      "cell_type": "code",
      "execution_count": null,
      "metadata": {},
      "outputs": [
        {
          "output_type": "stream",
          "name": "stdout",
          "text": [
            "[1] 0.77"
          ]
        }
      ],
      "source": [
        "sqrt(chi2 / (n + chi2)) |> round(2)"
      ],
      "id": "6847fc3a-bf21-469a-911c-f9674bdfe4d1"
    },
    {
      "cell_type": "code",
      "execution_count": null,
      "metadata": {},
      "outputs": [
        {
          "output_type": "stream",
          "name": "stdout",
          "text": [
            "[1] 0.612426"
          ]
        }
      ],
      "source": [
        "# Coeficiente V de Cramer\n",
        "CramerV(tab_abs[1:5,1:5])"
      ],
      "id": "3613d1ce-7314-44d1-a4fb-81ce21e13354"
    },
    {
      "cell_type": "markdown",
      "metadata": {},
      "source": [
        "$V = \\sqrt{\\frac{\\chi^2}{n(q-1)}}$"
      ],
      "id": "98f99f98-f991-429a-b2a8-d480ac07ca3a"
    },
    {
      "cell_type": "code",
      "execution_count": null,
      "metadata": {},
      "outputs": [
        {
          "output_type": "stream",
          "name": "stdout",
          "text": [
            "[1] 0.61"
          ]
        }
      ],
      "source": [
        "# (q-1)\n",
        "k <- min(nrow(tab_abs[1:5,1:5]), ncol(tab_abs[1:5,1:5])) - 1\n",
        "\n",
        "sqrt(chi2 / (n * k)) |> round(2)"
      ],
      "id": "e93c8312-f57e-4deb-a5f2-69f3394a42d7"
    }
  ],
  "nbformat": 4,
  "nbformat_minor": 5,
  "metadata": {
    "kernelspec": {
      "display_name": "Python 3",
      "language": "python",
      "name": "python3"
    }
  }
}