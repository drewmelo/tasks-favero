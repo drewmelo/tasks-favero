{
 "cells": [
  {
   "cell_type": "markdown",
   "id": "cf214e6a",
   "metadata": {},
   "source": [
    "# Análise Bivariada no R\n",
    "\n",
    "André Melo\n",
    "\n",
    "[![](https://colab.research.google.com/assets/colab-badge.svg)](https://colab.research.google.com/github/drewmelo/tasks-favero/blob/master/capitulo3/analise_bivariada_R.ipynb)\n",
    "\n",
    "\n",
    "## Introdução\n",
    "\n",
    "Nesta apresentação vamos reproduzir passo a passo, em R, a sequência da aula teórica sobre Análise Bidimensional. A ideia é mostrar como cada conceito visto em sala — desde a construção de tabelas de frequência e análise de variáveis qualitativas até a utilização de gráficos de dispersão e cálculo do coeficiente de correlação — pode ser implementado diretamente no R.\n",
    "\n",
    "Dessa forma, acompanharemos o mesmo fluxo de raciocínio desenvolvido na aula, mas agora colocando em prática, linha por linha de código, os cálculos e representações gráficas que sustentam a análise estatística.\n",
    "\n",
    "O primeiro passo é fazer a preparação do ambiente no R, isto é, realizar as importações das bibliotecas que serão necessárias. Aqui faremos uso das seguintes bibliotecas: `tidyverse`, `desctools` e `scales`."
   ]
  },
  {
   "cell_type": "code",
   "execution_count": 82,
   "id": "42ba6bee",
   "metadata": {},
   "outputs": [],
   "source": [
    "# Importação dos pacotes necessários\n",
    "library(tidyverse) # Conjunto de pacotes para manipulação e visualização de dados\n",
    "library(DescTools) # Conjunto de ferramentas estatísticas\n",
    "library(scales) # Pacote para formatar gráficos"
   ]
  },
  {
   "cell_type": "markdown",
   "id": "423020ac",
   "metadata": {},
   "source": [
    "Após a preparação do ambiente, iremos carregar os dados. Neste caso, iremos utilizar o arquivo *'cia_MB.csv'*, com separador em ponto e vírgula \" ; \" e decimal em vírgula \" , \". A leitura do arquivo é feita com a biblioteca readr presente no tidyverse e é a partir desta base que iremos construir a tabela de contingência."
   ]
  },
  {
   "cell_type": "code",
   "execution_count": 3,
   "id": "f8ec2eda",
   "metadata": {},
   "outputs": [
    {
     "name": "stdout",
     "output_type": "stream",
     "text": [
      "\u001b[36mℹ\u001b[39m Using \u001b[34m\u001b[34m\"','\"\u001b[34m\u001b[39m as decimal and \u001b[34m\u001b[34m\"'.'\"\u001b[34m\u001b[39m as grouping mark. Use `read_delim()` for more control.\n",
      "\u001b[1mRows: \u001b[22m\u001b[34m36\u001b[39m \u001b[1mColumns: \u001b[22m\u001b[34m7\u001b[39m\n",
      "\u001b[36m──\u001b[39m \u001b[1mColumn specification\u001b[22m \u001b[36m──────────────────────────────────────────────\u001b[39m\n",
      "\u001b[1mDelimiter:\u001b[22m \";\"\n",
      "\u001b[31mchr\u001b[39m (3): X, Y, V\n",
      "\u001b[32mdbl\u001b[39m (4): obs, Z, S, U\n",
      "\n",
      "\u001b[36mℹ\u001b[39m Use `spec()` to retrieve the full column specification for this data.\n",
      "\u001b[36mℹ\u001b[39m Specify the column types or set `show_col_types = FALSE` to quiet this message.\n"
     ]
    },
    {
     "data": {
      "text/plain": [
       "\u001b[38;5;246m# A tibble: 36 × 7\u001b[39m\n",
       "     obs X        Y                      Z     S     U V       \n",
       "   \u001b[3m\u001b[38;5;246m<dbl>\u001b[39m\u001b[23m \u001b[3m\u001b[38;5;246m<chr>\u001b[39m\u001b[23m    \u001b[3m\u001b[38;5;246m<chr>\u001b[39m\u001b[23m              \u001b[3m\u001b[38;5;246m<dbl>\u001b[39m\u001b[23m \u001b[3m\u001b[38;5;246m<dbl>\u001b[39m\u001b[23m \u001b[3m\u001b[38;5;246m<dbl>\u001b[39m\u001b[23m \u001b[3m\u001b[38;5;246m<chr>\u001b[39m\u001b[23m   \n",
       "\u001b[38;5;250m 1\u001b[39m     1 solteiro ensino fundamental    \u001b[31mNA\u001b[39m  4       26 interior\n",
       "\u001b[38;5;250m 2\u001b[39m     2 casado   ensino fundamental     1  4.56    32 capital \n",
       "\u001b[38;5;250m 3\u001b[39m     3 casado   ensino fundamental     2  5.25    36 capital \n",
       "\u001b[38;5;250m 4\u001b[39m     4 solteiro ensino médio          \u001b[31mNA\u001b[39m  5.73    20 outra   \n",
       "\u001b[38;5;250m 5\u001b[39m     5 solteiro ensino fundamental    \u001b[31mNA\u001b[39m  6.26    40 outra   \n",
       "\u001b[38;5;250m 6\u001b[39m     6 casado   ensino fundamental     0  6.66    28 interior\n",
       "\u001b[38;5;250m 7\u001b[39m     7 solteiro ensino fundamental    \u001b[31mNA\u001b[39m  6.86    41 interior\n",
       "\u001b[38;5;250m 8\u001b[39m     8 solteiro ensino fundamental    \u001b[31mNA\u001b[39m  7.39    43 capital \n",
       "\u001b[38;5;250m 9\u001b[39m     9 casado   ensino médio           1  7.59    34 capital \n",
       "\u001b[38;5;250m10\u001b[39m    10 solteiro ensino médio          \u001b[31mNA\u001b[39m  7.44    23 outra   \n",
       "\u001b[38;5;246m# ℹ 26 more rows\u001b[39m\n",
       "\u001b[38;5;246m# ℹ Use `print(n = ...)` to see more rows\u001b[39m"
      ]
     },
     "execution_count": null,
     "metadata": {},
     "output_type": "execute_result"
    }
   ],
   "source": [
    "# Carregamento da base de dados 'cia_MB'\n",
    "url <- \"https://raw.githubusercontent.com/caio-azevedo/Aulas/refs/heads/main/cia_MB.csv\"\n",
    "\n",
    "df <- read_csv2(url)\n",
    "\n",
    "# Visualização da base de dados 'cia_MB'\n",
    "df"
   ]
  },
  {
   "cell_type": "code",
   "execution_count": 4,
   "id": "f607aa5f",
   "metadata": {},
   "outputs": [
    {
     "name": "stdout",
     "output_type": "stream",
     "text": [
      "Formato (linhas, colunas): 36 7 \n",
      "\n",
      "Tipos das colunas:\n",
      "spc_tbl_ [36 × 7] (S3: spec_tbl_df/tbl_df/tbl/data.frame)\n",
      " $ obs: num [1:36] 1 2 3 4 5 6 7 8 9 10 ...\n",
      " $ X  : chr [1:36] \"solteiro\" \"casado\" \"casado\" \"solteiro\" ...\n",
      " $ Y  : chr [1:36] \"ensino fundamental\" \"ensino fundamental\" \"ensino fundamental\" \"ensino médio\" ...\n",
      " $ Z  : num [1:36] NA 1 2 NA NA 0 NA NA 1 NA ...\n",
      " $ S  : num [1:36] 4 4.56 5.25 5.73 6.26 6.66 6.86 7.39 7.59 7.44 ...\n",
      " $ U  : num [1:36] 26 32 36 20 40 28 41 43 34 23 ...\n",
      " $ V  : chr [1:36] \"interior\" \"capital\" \"capital\" \"outra\" ...\n",
      " - attr(*, \"spec\")=\n",
      "  .. cols(\n",
      "  ..   obs = \u001b[32mcol_double()\u001b[39m,\n",
      "  ..   X = \u001b[31mcol_character()\u001b[39m,\n",
      "  ..   Y = \u001b[31mcol_character()\u001b[39m,\n",
      "  ..   Z = \u001b[32mcol_double()\u001b[39m,\n",
      "  ..   S = \u001b[32mcol_double()\u001b[39m,\n",
      "  ..   U = \u001b[32mcol_double()\u001b[39m,\n",
      "  ..   V = \u001b[31mcol_character()\u001b[39m\n",
      "  .. )\n",
      " - attr(*, \"problems\")=<externalptr> \n",
      "\n",
      "Primeiras linhas:\n",
      "\n",
      "Valores ausentes por coluna:\n"
     ]
    },
    {
     "data": {
      "text/plain": [
       "obs   X   Y   Z   S   U   V \n",
       "  0   0   0  16   0   0   0 "
      ]
     },
     "execution_count": null,
     "metadata": {},
     "output_type": "execute_result"
    }
   ],
   "source": [
    "# Estrutura: número de linhas e colunas\n",
    "cat(\"Formato (linhas, colunas):\", dim(df), \"\\n\")\n",
    "\n",
    "# Tipos das colunas\n",
    "cat(\"\\nTipos das colunas:\\n\")\n",
    "str(df)\n",
    "\n",
    "# Primeiras linhas\n",
    "cat(\"\\nPrimeiras linhas:\\n\")\n",
    "head(df, n = 4)\n",
    "\n",
    "# Valores ausentes por coluna\n",
    "cat(\"\\nValores ausentes por coluna:\\n\")\n",
    "colSums(is.na(df))"
   ]
  },
  {
   "cell_type": "markdown",
   "id": "30d46bf6",
   "metadata": {},
   "source": [
    "## Tabela de Contingência\n",
    "\n",
    "Vamos gerar a Tabela de contingência. Observe que podemos gerar com as margens (margins=True) ou sem as margens que é o default."
   ]
  },
  {
   "cell_type": "code",
   "execution_count": 12,
   "id": "aa22cf39",
   "metadata": {},
   "outputs": [
    {
     "data": {
      "text/plain": [
       "                    \n",
       "                     capital interior outra Total\n",
       "  ensino fundamental       4        3     5    12\n",
       "  ensino médio             5        7     6    18\n",
       "  superior                 2        2     2     6\n",
       "  Total                   11       12    13    36"
      ]
     },
     "execution_count": null,
     "metadata": {},
     "output_type": "execute_result"
    }
   ],
   "source": [
    "# Tabela de contingência absoluta com margens\n",
    "tab_abs <- addmargins(table(df$Y, df$V))\n",
    "\n",
    "# Renomear 'Sum' (padrão) para 'Total'\n",
    "rownames(tab_abs)[nrow(tab_abs)] <- \"Total\"\n",
    "colnames(tab_abs)[ncol(tab_abs)] <- \"Total\"\n",
    "\n",
    "tab_abs"
   ]
  },
  {
   "cell_type": "markdown",
   "id": "2b95485d",
   "metadata": {},
   "source": [
    "Além disso, podemos construir tabelas de contingência com frequências relativas a partir da função `prop.table()`, com a possibilidade de acrescentar linha ou coluna de totais quando necessário."
   ]
  },
  {
   "cell_type": "markdown",
   "id": "5a464011",
   "metadata": {},
   "source": [
    "- Proporção pelo total geral:"
   ]
  },
  {
   "cell_type": "code",
   "execution_count": 13,
   "id": "97287cc7",
   "metadata": {},
   "outputs": [
    {
     "data": {
      "text/plain": [
       "                    \n",
       "                     capital interior outra   Sum\n",
       "  ensino fundamental   0.111    0.083 0.139 0.333\n",
       "  ensino médio         0.139    0.194 0.167 0.500\n",
       "  superior             0.056    0.056 0.056 0.168\n",
       "  Sum                  0.306    0.333 0.362 1.001"
      ]
     },
     "execution_count": null,
     "metadata": {},
     "output_type": "execute_result"
    }
   ],
   "source": [
    "# Proporção geral\n",
    "tab_prop_all <- prop.table(table(df$Y, df$V))\n",
    "\n",
    "# Arredondar para 3 casas decimais\n",
    "tab_prop_all <- round(tab_prop_all, 3)\n",
    "\n",
    "# Adicionar margens (totais)\n",
    "tab_prop_all <- addmargins(tab_prop_all)\n",
    "\n",
    "tab_prop_all"
   ]
  },
  {
   "cell_type": "markdown",
   "id": "95cce0e2",
   "metadata": {},
   "source": [
    "- Proporção por linha:"
   ]
  },
  {
   "cell_type": "code",
   "execution_count": 78,
   "id": "10463e74",
   "metadata": {},
   "outputs": [
    {
     "data": {
      "text/plain": [
       "                   capital interior outra\n",
       "ensino fundamental   0.333    0.250 0.417\n",
       "ensino médio         0.278    0.389 0.333\n",
       "superior             0.333    0.333 0.333\n",
       "Total                0.306    0.333 0.361"
      ]
     },
     "execution_count": null,
     "metadata": {},
     "output_type": "execute_result"
    }
   ],
   "source": [
    "# Proporção por linha\n",
    "# Calcula-se manualmente a coluna Total por linha\n",
    "Total <- colSums(tab_abs[1:3,1:3]) / sum(tab_abs[1:3,1:3])\n",
    "\n",
    "# Proporção por linha e junção com objeto Total\n",
    "tab_prop_row <- prop.table(tab_abs[1:3,1:3], margin = 1) |> \n",
    "                  rbind(Total) |> \n",
    "                  round(3)\n",
    "\n",
    "tab_prop_row"
   ]
  },
  {
   "cell_type": "markdown",
   "id": "e61cebf0",
   "metadata": {},
   "source": [
    "- Proporção por coluna:"
   ]
  },
  {
   "cell_type": "code",
   "execution_count": 20,
   "id": "6b6c7852",
   "metadata": {},
   "outputs": [
    {
     "data": {
      "text/plain": [
       "                   capital interior outra Total\n",
       "ensino fundamental   0.364    0.250 0.385 0.333\n",
       "ensino médio         0.455    0.583 0.462 0.500\n",
       "superior             0.182    0.167 0.154 0.167"
      ]
     },
     "execution_count": null,
     "metadata": {},
     "output_type": "execute_result"
    }
   ],
   "source": [
    "# Coluna \"Total\" = proporção global por linha\n",
    "Total <- rowSums(tab_abs[1:3,1:3]) / sum(tab_abs[1:3,1:3])\n",
    "\n",
    "# Proporção por coluna e junção com objeto Total\n",
    "tab_prop_col <- prop.table(tab_abs[1:3,1:3], margin = 2) |> \n",
    "                  cbind(Total) |> \n",
    "                  round(3)\n",
    "\n",
    "tab_prop_col"
   ]
  },
  {
   "cell_type": "code",
   "execution_count": 42,
   "id": "7329e141",
   "metadata": {},
   "outputs": [
    {
     "data": {
      "image/png": "[encoded data removed]"
     },
     "metadata": {},
     "output_type": "display_data"
    }
   ],
   "source": [
    "as_tibble(tab_prop_row, rownames = \"grau_instrucao\") |> \n",
    "  pivot_longer(cols = 2:4, names_to = \"regiao\", values_to = \"valor\") |> \n",
    "  ggplot(aes(x = grau_instrucao, y = valor, fill = regiao)) +\n",
    "  geom_col(position = \"stack\") +\n",
    "  scale_y_continuous(labels = scales::percent_format(accuracy = 1)) +\n",
    "  labs(\n",
    "    x = \"Grau de Instrução (Y)\",\n",
    "    y = \"Proporção (%)\",\n",
    "    fill = \"Região (V)\"\n",
    "  ) +\n",
    "  theme_minimal() +\n",
    "  theme(\n",
    "    legend.position = \"right\",\n",
    "    legend.title = element_text(face = \"bold\"),\n",
    "    axis.text.x = element_text(angle = 90, vjust = .5, hjust = 1)\n",
    "  )"
   ]
  },
  {
   "cell_type": "code",
   "execution_count": 57,
   "id": "b3368271",
   "metadata": {},
   "outputs": [
    {
     "data": {
      "image/png": "[encoded data removed]"
     },
     "metadata": {},
     "output_type": "display_data"
    }
   ],
   "source": [
    "# transpor para que V fique no eixo x\n",
    "as_tibble(tab_prop_col, rownames = \"grau_instrucao\") |> \n",
    "  pivot_longer(cols = 2:5, names_to = \"regiao\", values_to = \"valor\") |> \n",
    "  ggplot(aes(x = regiao, y = valor, fill = grau_instrucao)) +\n",
    "  geom_col(position = \"stack\") +\n",
    "  scale_y_continuous(labels = scales::percent_format(accuracy = 1)) +\n",
    "  labs(\n",
    "    x = \"Grau de Instrução (Y)\",\n",
    "    y = \"Proporção (%)\",\n",
    "    fill = \"Região (V)\"\n",
    "  ) +\n",
    "  theme_minimal() +\n",
    "  theme(\n",
    "    legend.position = \"right\",\n",
    "    legend.title = element_text(face = \"bold\"),\n",
    "    axis.text.x = element_text(angle = 90, vjust = .5, hjust = 1)\n",
    "  )\n"
   ]
  },
  {
   "cell_type": "markdown",
   "id": "c3e2b33a",
   "metadata": {},
   "source": [
    "## Qui-quadrado de Pearson\n",
    "\n",
    "Vamos primeiramente carregar a base dados de Cooperativas utilizada como exemplo na aula, para posteriormente obter a Tabela de Contingência (Valores Observados) e também e a Tabela de Valores Esperados."
   ]
  },
  {
   "cell_type": "code",
   "execution_count": 58,
   "id": "b29d12c3",
   "metadata": {},
   "outputs": [
    {
     "name": "stdout",
     "output_type": "stream",
     "text": [
      "\u001b[1mRows: \u001b[22m\u001b[34m1551\u001b[39m \u001b[1mColumns: \u001b[22m\u001b[34m2\u001b[39m\n",
      "\u001b[36m──\u001b[39m \u001b[1mColumn specification\u001b[22m \u001b[36m──────────────────────────────────────────────\u001b[39m\n",
      "\u001b[1mDelimiter:\u001b[22m \";\"\n",
      "\u001b[31mchr\u001b[39m (2): cooperativa, estado\n",
      "\n",
      "\u001b[36mℹ\u001b[39m Use `spec()` to retrieve the full column specification for this data.\n",
      "\u001b[36mℹ\u001b[39m Specify the column types or set `show_col_types = FALSE` to quiet this message.\n"
     ]
    },
    {
     "data": {
      "text/plain": [
       "\u001b[38;5;246m# A tibble: 1,551 × 2\u001b[39m\n",
       "   cooperativa estado   \n",
       "   \u001b[3m\u001b[38;5;246m<chr>\u001b[39m\u001b[23m       \u001b[3m\u001b[38;5;246m<chr>\u001b[39m\u001b[23m    \n",
       "\u001b[38;5;250m 1\u001b[39m Consumidor  São Paulo\n",
       "\u001b[38;5;250m 2\u001b[39m Consumidor  São Paulo\n",
       "\u001b[38;5;250m 3\u001b[39m Consumidor  São Paulo\n",
       "\u001b[38;5;250m 4\u001b[39m Consumidor  São Paulo\n",
       "\u001b[38;5;250m 5\u001b[39m Consumidor  São Paulo\n",
       "\u001b[38;5;250m 6\u001b[39m Consumidor  São Paulo\n",
       "\u001b[38;5;250m 7\u001b[39m Consumidor  São Paulo\n",
       "\u001b[38;5;250m 8\u001b[39m Consumidor  São Paulo\n",
       "\u001b[38;5;250m 9\u001b[39m Consumidor  São Paulo\n",
       "\u001b[38;5;250m10\u001b[39m Consumidor  São Paulo\n",
       "\u001b[38;5;246m# ℹ 1,541 more rows\u001b[39m\n",
       "\u001b[38;5;246m# ℹ Use `print(n = ...)` to see more rows\u001b[39m"
      ]
     },
     "execution_count": null,
     "metadata": {},
     "output_type": "execute_result"
    }
   ],
   "source": [
    "url <- \"https://raw.githubusercontent.com/caio-azevedo/estatistica_aplicada/refs/heads/main/Semana%201/cooperativa.csv\"\n",
    "\n",
    "df_coop <- read_csv2(url, locale = locale(decimal_mark = \",\", encoding = \"UTF-8\"))\n",
    "\n",
    "df_coop"
   ]
  },
  {
   "cell_type": "code",
   "execution_count": 61,
   "id": "5826d5a8",
   "metadata": {},
   "outputs": [
    {
     "data": {
      "text/plain": [
       "               \n",
       "                Consumidor Escola Outros Produtor  Sum\n",
       "  Paraná                51    126     22      102  301\n",
       "  Rio G. do Sul        111    139     48      304  602\n",
       "  São Paulo            214     78    119      237  648\n",
       "  Sum                  376    343    189      643 1551"
      ]
     },
     "execution_count": null,
     "metadata": {},
     "output_type": "execute_result"
    }
   ],
   "source": [
    "# Tabela de valores observados\n",
    "tabela_obs <- addmargins(table(df_coop$estado, df_coop$cooperativa))\n",
    "\n",
    "tabela_obs"
   ]
  },
  {
   "cell_type": "code",
   "execution_count": null,
   "id": "d8638f40",
   "metadata": {},
   "outputs": [
    {
     "data": {
      "text/plain": [
       "               \n",
       "                Consumidor    Escola    Outros Produtor  Sum\n",
       "  Paraná           72.9697  66.56544  36.67892 124.7859  301\n",
       "  Rio G. do Sul   145.9394 133.13088  73.35783 249.5719  602\n",
       "  São Paulo       157.0909 143.30368  78.96325 268.6422  648\n",
       "  Sum             376.0000 343.00000 189.00000 643.0000 1551"
      ]
     },
     "execution_count": null,
     "metadata": {},
     "output_type": "execute_result"
    }
   ],
   "source": [
    "# teste qui-quadrado de independência\n",
    "chi <- chisq.test(table(df_coop$estado, df_coop$cooperativa), correct = F)\n",
    "\n",
    "# Estatísticas\n",
    "chi$statistic   # valor do qui-quadrado\n",
    "chi$p.value     # p-valor\n",
    "chi$parameter   # graus de liberdade\n",
    "\n",
    "# Tabela de valores esperados\n",
    "tabela_esp <- chi$expected |> addmargins()\n",
    "\n",
    "# Exibir\n",
    "tabela_esp"
   ]
  },
  {
   "cell_type": "markdown",
   "id": "dfda56e1",
   "metadata": {},
   "source": [
    "Com as tabelas dos valores observados e esperados, podemos obter a tabela dos resíduos, isto é $O_{ij} - E_{ij}$"
   ]
  },
  {
   "cell_type": "code",
   "execution_count": 67,
   "id": "99eb3c4d",
   "metadata": {},
   "outputs": [
    {
     "data": {
      "text/plain": [
       "               \n",
       "                Consumidor     Escola     Outros   Produtor\n",
       "  Paraná        -21.969697  59.434558 -14.678917 -22.785945\n",
       "  Rio G. do Sul -34.939394   5.869117 -25.357834  54.428111\n",
       "  São Paulo      56.909091 -65.303675  40.036750 -31.642166\n",
       "  Sum             0.000000   0.000000   0.000000   0.000000\n",
       "               \n",
       "                       Sum\n",
       "  Paraná          0.000000\n",
       "  Rio G. do Sul   0.000000\n",
       "  São Paulo       0.000000\n",
       "  Sum             0.000000"
      ]
     },
     "execution_count": null,
     "metadata": {},
     "output_type": "execute_result"
    }
   ],
   "source": [
    "# Resíduos da tabela de contingência\n",
    "residuos = tabela_obs - tabela_esp\n",
    "\n",
    "residuos"
   ]
  },
  {
   "cell_type": "markdown",
   "id": "43072618",
   "metadata": {},
   "source": [
    " Depois elevar ao quadrado $(O_{ij} - E_{ij})^2$ e dividir por $E_{ij}$."
   ]
  },
  {
   "cell_type": "code",
   "execution_count": 72,
   "id": "84ab9a9b",
   "metadata": {},
   "outputs": [
    {
     "data": {
      "text/plain": [
       "               \n",
       "                Consumidor     Escola     Outros   Produtor\n",
       "  Paraná         6.6146305 53.0675774  5.8745082  4.1607191\n",
       "  Rio G. do Sul  8.3648508  0.2587418  8.7655223 11.8700037\n",
       "  São Paulo     20.6163721 29.7589715 20.2998407  3.7269901\n",
       "               \n",
       "                       Sum\n",
       "  Paraná         0.0000000\n",
       "  Rio G. do Sul  0.0000000\n",
       "  São Paulo      0.0000000"
      ]
     },
     "execution_count": null,
     "metadata": {},
     "output_type": "execute_result"
    }
   ],
   "source": [
    "# Tabela com os valores de qui-quadrado\n",
    "qui_quadrado = residuos**2/tabela_esp\n",
    "\n",
    "qui_quadrado[1:3, ]"
   ]
  },
  {
   "cell_type": "markdown",
   "id": "0d440d99",
   "metadata": {},
   "source": [
    "Por fim, basta somar todos os valores obtidos."
   ]
  },
  {
   "cell_type": "code",
   "execution_count": 74,
   "id": "c7b3dc06",
   "metadata": {},
   "outputs": [
    {
     "data": {
      "text/plain": [
       "[1] 173.3787"
      ]
     },
     "execution_count": null,
     "metadata": {},
     "output_type": "execute_result"
    }
   ],
   "source": [
    "total = sum(qui_quadrado)\n",
    "\n",
    "total"
   ]
  },
  {
   "cell_type": "markdown",
   "id": "c5652a34",
   "metadata": {},
   "source": [
    "Ou, poderíamos ter obtido diretamente este valor pelo seguinte comando:"
   ]
  },
  {
   "cell_type": "code",
   "execution_count": 77,
   "id": "f2a1d062",
   "metadata": {},
   "outputs": [
    {
     "data": {
      "text/plain": [
       "X-squared \n",
       " 173.3787 "
      ]
     },
     "execution_count": null,
     "metadata": {},
     "output_type": "execute_result"
    }
   ],
   "source": [
    "# Medida de associação - estatística qui-quadrado e teste\n",
    "chi <- chisq.test(table(df_coop$estado, df_coop$cooperativa))\n",
    "\n",
    "chi$statistic   # valor do qui-quadrado"
   ]
  }
 ],
 "metadata": {
  "language_info": {
   "name": "r"
  }
 },
 "nbformat": 4,
 "nbformat_minor": 5
}
