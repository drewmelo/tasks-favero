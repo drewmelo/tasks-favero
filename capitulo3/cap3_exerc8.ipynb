{
  "cells": [
    {
      "cell_type": "markdown",
      "metadata": {},
      "source": [
        "# Exercício 8 (Capítulo 3) no R\n",
        "\n",
        "André Melo\n",
        "\n",
        "[![](https://colab.research.google.com/assets/colab-badge.svg)](https://colab.research.google.com/github/drewmelo/tasks-favero/blob/master/capitulo3/cap3_exerc8.ipynb)\n",
        "\n",
        "O arquivo ‘Avaliação_Alunos.csv’ apresenta as notas de 0 a 10 de 100\n",
        "alunos de uma universidade pública em relação às seguintes disciplinas:\n",
        "Pesquisa Operacional, Estatística, Gestão de Operações e Finanças.\n",
        "Verifique se há correlação entre os seguintes pares de variáveis,\n",
        "elaborando o diagrama de dispersão e calculando o coeficiente de\n",
        "correlação de Pearson:"
      ],
      "id": "af85c4da-1b95-443f-a9c4-38ab11601018"
    },
    {
      "cell_type": "code",
      "execution_count": null,
      "metadata": {},
      "outputs": [
        {
          "output_type": "stream",
          "name": "stderr",
          "text": [
            "Warning: package 'tidyr' was built under R version 4.3.3"
          ]
        },
        {
          "output_type": "stream",
          "name": "stderr",
          "text": [
            "Warning: package 'purrr' was built under R version 4.3.3"
          ]
        }
      ],
      "source": [
        "# Importação dos pacotes necessários\n",
        "library(tidyverse)"
      ],
      "id": "4d71d069-4989-4494-bf14-c3ecc34611d3"
    },
    {
      "cell_type": "code",
      "execution_count": null,
      "metadata": {},
      "outputs": [
        {
          "output_type": "stream",
          "name": "stdout",
          "text": [
            "# A tibble: 100 × 5\n",
            "   nome         po estatística operações finanças\n",
            "   <chr>     <dbl>       <dbl>     <dbl>    <dbl>\n",
            " 1 Roberto     6           7         7        9  \n",
            " 2 Eliana      3           2         5        5  \n",
            " 3 Marcela     4.5         5.5       5.5      7.5\n",
            " 4 Vera        8           6.5       9        9.5\n",
            " 5 Antonio     7           6         9        9  \n",
            " 6 Marcos      7.5         2         9.5      4  \n",
            " 7 Paulo       4           3         5        4  \n",
            " 8 Eduardo     5           4         7        5  \n",
            " 9 Mário       4           5.5       5        7.5\n",
            "10 Alexandre   6           6         8        8  \n",
            "# ℹ 90 more rows"
          ]
        }
      ],
      "source": [
        "url <- \"https://raw.githubusercontent.com/caio-azevedo/estatistica_aplicada/refs/heads/main/Semana%201/Avalia%C3%A7%C3%A3o_Alunos.csv\"\n",
        "df <- read_csv(url, show_col_types = FALSE)\n",
        "\n",
        "# Visualização da base de dados 'Avaliação Alunos'\n",
        "df"
      ],
      "id": "a75b2eef-346a-4e2e-89ca-6f128e3e4eb5"
    },
    {
      "cell_type": "markdown",
      "metadata": {},
      "source": [
        "a- Pesquisa Operacional e Estatística"
      ],
      "id": "517cc6fe-1d60-4182-9648-e8bc34546ffd"
    },
    {
      "cell_type": "code",
      "execution_count": null,
      "metadata": {},
      "outputs": [
        {
          "output_type": "display_data",
          "metadata": {},
          "data": {
            "image/png": "[encoded data removed]"
          }
        }
      ],
      "source": [
        "ggplot(data = df, aes(x = po, y = `estatística`)) +\n",
        "    geom_point() +\n",
        "  labs(x = \"Notas de Pesquisa Operacional\",\n",
        "       y = \"Notas de Estatística\") +\n",
        "  theme_minimal(base_size = 16)"
      ],
      "id": "43d14365-88d9-4fd2-a4e5-81c363ecd155"
    },
    {
      "cell_type": "code",
      "execution_count": null,
      "metadata": {},
      "outputs": [
        {
          "output_type": "stream",
          "name": "stdout",
          "text": [
            "                   po estatística operações  finanças\n",
            "po          1.0000000   0.7942713 0.9616277 0.7485247\n",
            "estatística 0.7942713   1.0000000 0.7297423 0.8985731\n",
            "operações   0.9616277   0.7297423 1.0000000 0.6889269\n",
            "finanças    0.7485247   0.8985731 0.6889269 1.0000000"
          ]
        }
      ],
      "source": [
        "df1 <- df[, 2:ncol(df)]\n",
        "\n",
        "# Coeficiente de correlação de Pearson\n",
        "# Maneira 1\n",
        "cor(df1)"
      ],
      "id": "e47b196a-3ac6-4ea7-b952-b7e11c612a79"
    },
    {
      "cell_type": "code",
      "execution_count": null,
      "metadata": {},
      "outputs": [
        {
          "output_type": "stream",
          "name": "stdout",
          "text": [
            "[1] 0.7942713"
          ]
        }
      ],
      "source": [
        "# Maneira 2 - duas variáveis específicas\n",
        "cor(df$po, df$`estatística`)"
      ],
      "id": "fb212037-a783-4bc8-93ce-dac2447fe123"
    },
    {
      "cell_type": "markdown",
      "metadata": {},
      "source": [
        "b- Gestão de Operações e Finanças"
      ],
      "id": "8a313569-57ac-458e-9287-108c60a90dac"
    },
    {
      "cell_type": "code",
      "execution_count": null,
      "metadata": {},
      "outputs": [
        {
          "output_type": "display_data",
          "metadata": {},
          "data": {
            "image/png": "[encoded data removed]"
          }
        }
      ],
      "source": [
        "ggplot(data = df, aes(x = `operações`, y = `finanças`)) +\n",
        "    geom_point() +\n",
        "  labs(x = \"Notas de Gestão de Operações\",\n",
        "       y = \"Notas de Finanças\") +\n",
        "  theme_minimal(base_size = 16)"
      ],
      "id": "e96d9742-a679-4ae2-82b3-d17214d8e9ba"
    },
    {
      "cell_type": "code",
      "execution_count": null,
      "metadata": {},
      "outputs": [
        {
          "output_type": "stream",
          "name": "stdout",
          "text": [
            "[1] 0.6889269"
          ]
        }
      ],
      "source": [
        "cor(df$`operações`, df$`finanças`)"
      ],
      "id": "3e39b1aa-db4d-4819-bf46-1cf0b36d5f49"
    },
    {
      "cell_type": "markdown",
      "metadata": {},
      "source": [
        "c- Pesquisa Operacional e Gestão de Operações"
      ],
      "id": "2e0e92fb-ba54-4d07-bce5-b5d4c7436e25"
    },
    {
      "cell_type": "code",
      "execution_count": null,
      "metadata": {},
      "outputs": [
        {
          "output_type": "display_data",
          "metadata": {},
          "data": {
            "image/png": "[encoded data removed]"
          }
        }
      ],
      "source": [
        "ggplot(data = df, aes(x = po, y = `operações`)) +\n",
        "    geom_point() +\n",
        "  labs(x = \"Notas de Pesquisa Operacional\",\n",
        "       y = \"Notas de Gestão de Operações\") +\n",
        "  theme_minimal(base_size = 16)"
      ],
      "id": "239985af-9126-4abc-b1bc-20ae34c37192"
    },
    {
      "cell_type": "code",
      "execution_count": null,
      "metadata": {},
      "outputs": [
        {
          "output_type": "stream",
          "name": "stdout",
          "text": [
            "[1] 0.9616277"
          ]
        }
      ],
      "source": [
        "cor(df$po, df$`operações`)"
      ],
      "id": "c44e28b3-f71f-4093-9e48-34acc76a3ec8"
    }
  ],
  "nbformat": 4,
  "nbformat_minor": 5,
  "metadata": {
    "kernelspec": {
      "display_name": "Python 3",
      "language": "python",
      "name": "python3"
    }
  }
}